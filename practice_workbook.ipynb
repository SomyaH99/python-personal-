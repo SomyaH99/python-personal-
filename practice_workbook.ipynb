{
  "cells": [
    {
      "cell_type": "markdown",
      "metadata": {
        "id": "view-in-github",
        "colab_type": "text"
      },
      "source": [
        "<a href=\"https://colab.research.google.com/github/SomyaH99/python-personal-/blob/main/practice_workbook.ipynb\" target=\"_parent\"><img src=\"https://colab.research.google.com/assets/colab-badge.svg\" alt=\"Open In Colab\"/></a>"
      ]
    },
    {
      "cell_type": "markdown",
      "source": [],
      "metadata": {
        "id": "r6SotJS5pqve"
      }
    },
    {
      "cell_type": "code",
      "source": [
        "student= 'Sam'\n",
        "student\n"
      ],
      "metadata": {
        "colab": {
          "base_uri": "https://localhost:8080/",
          "height": 35
        },
        "id": "0wb1TuCHbyLs",
        "outputId": "f14f8695-f2f7-4958-f731-1c918791607d"
      },
      "execution_count": null,
      "outputs": [
        {
          "output_type": "execute_result",
          "data": {
            "text/plain": [
              "'Sam'"
            ],
            "application/vnd.google.colaboratory.intrinsic+json": {
              "type": "string"
            }
          },
          "metadata": {},
          "execution_count": 3
        }
      ]
    },
    {
      "cell_type": "code",
      "source": [
        "student='ram'\n",
        "student"
      ],
      "metadata": {
        "colab": {
          "base_uri": "https://localhost:8080/",
          "height": 35
        },
        "id": "a3o49jkcbzZq",
        "outputId": "f4f50cfa-d8fe-4611-9d5e-171f9b7620c2"
      },
      "execution_count": null,
      "outputs": [
        {
          "output_type": "execute_result",
          "data": {
            "text/plain": [
              "'ram'"
            ],
            "application/vnd.google.colaboratory.intrinsic+json": {
              "type": "string"
            }
          },
          "metadata": {},
          "execution_count": 4
        }
      ]
    },
    {
      "cell_type": "code",
      "source": [
        "a1= 3+4j\n",
        "type(a1)"
      ],
      "metadata": {
        "colab": {
          "base_uri": "https://localhost:8080/"
        },
        "id": "Z462OM2NbzVo",
        "outputId": "6c5af6ec-2a09-4822-af14-d543b2277c8d"
      },
      "execution_count": null,
      "outputs": [
        {
          "output_type": "execute_result",
          "data": {
            "text/plain": [
              "complex"
            ]
          },
          "metadata": {},
          "execution_count": 12
        }
      ]
    },
    {
      "cell_type": "code",
      "source": [
        "#arithmetic operators\n",
        "# +, _, /, *\n",
        "\n",
        " "
      ],
      "metadata": {
        "id": "ZZ2eyiw2bzTA"
      },
      "execution_count": null,
      "outputs": []
    },
    {
      "cell_type": "code",
      "source": [
        "my_string = 'this is sparta 300 300 300 300'"
      ],
      "metadata": {
        "id": "Tuvky8gKbzQ9"
      },
      "execution_count": null,
      "outputs": []
    },
    {
      "cell_type": "code",
      "source": [
        "my_string.count('300')"
      ],
      "metadata": {
        "colab": {
          "base_uri": "https://localhost:8080/"
        },
        "id": "uq0RjvVAbzN1",
        "outputId": "22fd0f39-ff88-46d4-9b7b-c8632d10dd97"
      },
      "execution_count": null,
      "outputs": [
        {
          "output_type": "execute_result",
          "data": {
            "text/plain": [
              "4"
            ]
          },
          "metadata": {},
          "execution_count": 16
        }
      ]
    },
    {
      "cell_type": "code",
      "source": [
        "s= 'hello, world, is, awesome'\n"
      ],
      "metadata": {
        "id": "1EAM0GtobzLe"
      },
      "execution_count": null,
      "outputs": []
    },
    {
      "cell_type": "code",
      "source": [
        "s.split(',')"
      ],
      "metadata": {
        "colab": {
          "base_uri": "https://localhost:8080/"
        },
        "id": "59HEAM4zbzI-",
        "outputId": "a1f3d5e6-071c-4300-e393-0bf6d45791ca"
      },
      "execution_count": null,
      "outputs": [
        {
          "output_type": "execute_result",
          "data": {
            "text/plain": [
              "['hello', ' world', ' is', ' awesome']"
            ]
          },
          "metadata": {},
          "execution_count": 20
        }
      ]
    },
    {
      "cell_type": "code",
      "source": [
        "tup1= (1, True, 3.12, 22, 'iii' )"
      ],
      "metadata": {
        "id": "MfqRR5zLbzGf"
      },
      "execution_count": null,
      "outputs": []
    },
    {
      "cell_type": "code",
      "source": [
        "tup1[-1]"
      ],
      "metadata": {
        "colab": {
          "base_uri": "https://localhost:8080/",
          "height": 35
        },
        "id": "hotwH4qIbzEt",
        "outputId": "207f576f-257e-4620-f76a-2428080c1053"
      },
      "execution_count": null,
      "outputs": [
        {
          "output_type": "execute_result",
          "data": {
            "text/plain": [
              "'iii'"
            ],
            "application/vnd.google.colaboratory.intrinsic+json": {
              "type": "string"
            }
          },
          "metadata": {},
          "execution_count": 30
        }
      ]
    },
    {
      "cell_type": "code",
      "source": [
        "len(tup1)"
      ],
      "metadata": {
        "colab": {
          "base_uri": "https://localhost:8080/"
        },
        "id": "KtSBBbYmbzBs",
        "outputId": "6eb0aa73-51e3-4caf-de93-41245f141f3d"
      },
      "execution_count": null,
      "outputs": [
        {
          "output_type": "execute_result",
          "data": {
            "text/plain": [
              "5"
            ]
          },
          "metadata": {},
          "execution_count": 31
        }
      ]
    },
    {
      "cell_type": "code",
      "source": [
        "tup1*5"
      ],
      "metadata": {
        "colab": {
          "base_uri": "https://localhost:8080/"
        },
        "id": "plNharLjby_b",
        "outputId": "a39aef71-6ae7-4510-a3d5-30973beedef4"
      },
      "execution_count": null,
      "outputs": [
        {
          "output_type": "execute_result",
          "data": {
            "text/plain": [
              "(1,\n",
              " True,\n",
              " 3.12,\n",
              " 22,\n",
              " 'iii',\n",
              " 1,\n",
              " True,\n",
              " 3.12,\n",
              " 22,\n",
              " 'iii',\n",
              " 1,\n",
              " True,\n",
              " 3.12,\n",
              " 22,\n",
              " 'iii',\n",
              " 1,\n",
              " True,\n",
              " 3.12,\n",
              " 22,\n",
              " 'iii',\n",
              " 1,\n",
              " True,\n",
              " 3.12,\n",
              " 22,\n",
              " 'iii')"
            ]
          },
          "metadata": {},
          "execution_count": 32
        }
      ]
    },
    {
      "cell_type": "code",
      "source": [
        "l1 = [1, 'spaarta', 3.14, True]"
      ],
      "metadata": {
        "id": "wEDH_viZby81"
      },
      "execution_count": null,
      "outputs": []
    },
    {
      "cell_type": "code",
      "source": [
        "type(l1)"
      ],
      "metadata": {
        "colab": {
          "base_uri": "https://localhost:8080/"
        },
        "id": "XMlu7kxdmXpI",
        "outputId": "d45beaea-7d29-400d-9fd4-0efcac1f0f3f"
      },
      "execution_count": null,
      "outputs": [
        {
          "output_type": "execute_result",
          "data": {
            "text/plain": [
              "list"
            ]
          },
          "metadata": {},
          "execution_count": 35
        }
      ]
    },
    {
      "cell_type": "code",
      "source": [
        "l1[0:3]"
      ],
      "metadata": {
        "colab": {
          "base_uri": "https://localhost:8080/"
        },
        "id": "EVx73GZjmXnA",
        "outputId": "27661667-b5cd-43a8-96ba-58845546aa84"
      },
      "execution_count": null,
      "outputs": [
        {
          "output_type": "execute_result",
          "data": {
            "text/plain": [
              "[1, 'spaarta', 3.14]"
            ]
          },
          "metadata": {},
          "execution_count": 38
        }
      ]
    },
    {
      "cell_type": "code",
      "source": [
        "l1[-1] = 100"
      ],
      "metadata": {
        "id": "A0lwYl03mXiw"
      },
      "execution_count": null,
      "outputs": []
    },
    {
      "cell_type": "code",
      "source": [
        "l1"
      ],
      "metadata": {
        "colab": {
          "base_uri": "https://localhost:8080/"
        },
        "id": "VclKPdBMmXgx",
        "outputId": "1ce9a5e3-d1bf-44dd-9308-1ccd003a6045"
      },
      "execution_count": null,
      "outputs": [
        {
          "output_type": "execute_result",
          "data": {
            "text/plain": [
              "[1, 'spaarta', 3.14, 100]"
            ]
          },
          "metadata": {},
          "execution_count": 41
        }
      ]
    },
    {
      "cell_type": "code",
      "source": [
        "l1.append(2298)"
      ],
      "metadata": {
        "id": "y5Cjmj4WmXeg"
      },
      "execution_count": null,
      "outputs": []
    },
    {
      "cell_type": "code",
      "source": [
        "l1"
      ],
      "metadata": {
        "colab": {
          "base_uri": "https://localhost:8080/"
        },
        "id": "noGw0VD_mXZZ",
        "outputId": "5c4eb4a8-bc5c-4876-93b9-2c80100e69e5"
      },
      "execution_count": null,
      "outputs": [
        {
          "output_type": "execute_result",
          "data": {
            "text/plain": [
              "[1, 'spaarta', 3.14, 100, 2298]"
            ]
          },
          "metadata": {},
          "execution_count": 43
        }
      ]
    },
    {
      "cell_type": "code",
      "source": [
        "l1.pop(1)"
      ],
      "metadata": {
        "colab": {
          "base_uri": "https://localhost:8080/",
          "height": 35
        },
        "id": "pIgHCVfwnsWk",
        "outputId": "d685343a-ba91-46fa-a906-83d97bd656dd"
      },
      "execution_count": null,
      "outputs": [
        {
          "output_type": "execute_result",
          "data": {
            "text/plain": [
              "'spaarta'"
            ],
            "application/vnd.google.colaboratory.intrinsic+json": {
              "type": "string"
            }
          },
          "metadata": {},
          "execution_count": 44
        }
      ]
    },
    {
      "cell_type": "code",
      "source": [
        "l1"
      ],
      "metadata": {
        "colab": {
          "base_uri": "https://localhost:8080/"
        },
        "id": "KLZso54qnywE",
        "outputId": "85e69101-3178-475a-b287-e6c875f61e67"
      },
      "execution_count": null,
      "outputs": [
        {
          "output_type": "execute_result",
          "data": {
            "text/plain": [
              "[1, 3.14, 100, 2298]"
            ]
          },
          "metadata": {},
          "execution_count": 45
        }
      ]
    },
    {
      "cell_type": "code",
      "source": [
        "l1.reverse()"
      ],
      "metadata": {
        "id": "BSjGSKZanz_B"
      },
      "execution_count": null,
      "outputs": []
    },
    {
      "cell_type": "code",
      "source": [
        "l1"
      ],
      "metadata": {
        "colab": {
          "base_uri": "https://localhost:8080/"
        },
        "id": "KmVcdddin4Rq",
        "outputId": "124f0301-60bd-4558-dd61-230bf717ebe0"
      },
      "execution_count": null,
      "outputs": [
        {
          "output_type": "execute_result",
          "data": {
            "text/plain": [
              "[2298, 100, 3.14, 1]"
            ]
          },
          "metadata": {},
          "execution_count": 49
        }
      ]
    },
    {
      "cell_type": "code",
      "source": [
        "l1.insert(2,'goat')"
      ],
      "metadata": {
        "id": "qtr4hrrVoUAR"
      },
      "execution_count": null,
      "outputs": []
    },
    {
      "cell_type": "code",
      "source": [
        "l1"
      ],
      "metadata": {
        "colab": {
          "base_uri": "https://localhost:8080/"
        },
        "id": "GNcRA7KvocAb",
        "outputId": "07b57961-3812-49c0-a0e8-c63c13bcf4bf"
      },
      "execution_count": null,
      "outputs": [
        {
          "output_type": "execute_result",
          "data": {
            "text/plain": [
              "[2298, 100, 'goat', 3.14, 1]"
            ]
          },
          "metadata": {},
          "execution_count": 51
        }
      ]
    },
    {
      "cell_type": "code",
      "source": [
        "l2 = [10,2,4,5,6,8,0]"
      ],
      "metadata": {
        "id": "JlHXH4wNodf3"
      },
      "execution_count": null,
      "outputs": []
    },
    {
      "cell_type": "code",
      "source": [
        "l2.sort()"
      ],
      "metadata": {
        "id": "wey2Ju0jomHJ"
      },
      "execution_count": null,
      "outputs": []
    },
    {
      "cell_type": "code",
      "source": [
        "l2"
      ],
      "metadata": {
        "colab": {
          "base_uri": "https://localhost:8080/"
        },
        "id": "m7uDOBHronmj",
        "outputId": "438cb1ce-074d-489a-f8e8-f92f256a0099"
      },
      "execution_count": null,
      "outputs": [
        {
          "output_type": "execute_result",
          "data": {
            "text/plain": [
              "[0, 2, 4, 5, 6, 8, 10]"
            ]
          },
          "metadata": {},
          "execution_count": 54
        }
      ]
    },
    {
      "cell_type": "code",
      "source": [
        "l3 = [22, 34, 45,55]"
      ],
      "metadata": {
        "id": "rV2E2MRhorhw"
      },
      "execution_count": null,
      "outputs": []
    },
    {
      "cell_type": "code",
      "source": [
        "l2 + l3"
      ],
      "metadata": {
        "colab": {
          "base_uri": "https://localhost:8080/"
        },
        "id": "PXdNiDXno9LK",
        "outputId": "42cf49b5-1593-4110-9cf2-289aa39eaa4c"
      },
      "execution_count": null,
      "outputs": [
        {
          "output_type": "execute_result",
          "data": {
            "text/plain": [
              "[0, 2, 4, 5, 6, 8, 10, 22, 34, 45, 55]"
            ]
          },
          "metadata": {},
          "execution_count": 56
        }
      ]
    },
    {
      "cell_type": "code",
      "source": [
        "l3*5 + l2*2"
      ],
      "metadata": {
        "colab": {
          "base_uri": "https://localhost:8080/"
        },
        "id": "7eLBn9uho-6C",
        "outputId": "c36730f8-c977-457f-8156-9d7303db76d6"
      },
      "execution_count": null,
      "outputs": [
        {
          "output_type": "execute_result",
          "data": {
            "text/plain": [
              "[22,\n",
              " 34,\n",
              " 45,\n",
              " 55,\n",
              " 22,\n",
              " 34,\n",
              " 45,\n",
              " 55,\n",
              " 22,\n",
              " 34,\n",
              " 45,\n",
              " 55,\n",
              " 22,\n",
              " 34,\n",
              " 45,\n",
              " 55,\n",
              " 22,\n",
              " 34,\n",
              " 45,\n",
              " 55,\n",
              " 0,\n",
              " 2,\n",
              " 4,\n",
              " 5,\n",
              " 6,\n",
              " 8,\n",
              " 10,\n",
              " 0,\n",
              " 2,\n",
              " 4,\n",
              " 5,\n",
              " 6,\n",
              " 8,\n",
              " 10]"
            ]
          },
          "metadata": {},
          "execution_count": 58
        }
      ]
    },
    {
      "cell_type": "code",
      "source": [
        "a = 10\n",
        "b= 20"
      ],
      "metadata": {
        "id": "aWKk4JFDpA0W"
      },
      "execution_count": null,
      "outputs": []
    },
    {
      "cell_type": "code",
      "source": [
        "if a>b:\n",
        "  print(\"B is greater than a\")"
      ],
      "metadata": {
        "id": "ZtAmDZ_xpF0z"
      },
      "execution_count": null,
      "outputs": []
    },
    {
      "cell_type": "code",
      "source": [
        "if a>b:\n",
        "  print(\"a is greater than b\")\n",
        "else:\n",
        "  print('b is greater than a ')"
      ],
      "metadata": {
        "colab": {
          "base_uri": "https://localhost:8080/"
        },
        "id": "O5IxYrs0pFyC",
        "outputId": "ab10b2cc-e85d-4ffa-e7e3-1b1f91efcae7"
      },
      "execution_count": null,
      "outputs": [
        {
          "output_type": "stream",
          "name": "stdout",
          "text": [
            "b is greater than a \n"
          ]
        }
      ]
    },
    {
      "cell_type": "code",
      "source": [
        "a = 10\n",
        "b=20\n",
        "c = 30\n"
      ],
      "metadata": {
        "id": "AiPqq1pmpFvp"
      },
      "execution_count": null,
      "outputs": []
    },
    {
      "cell_type": "code",
      "source": [
        "if (a>b) & (a>c):\n",
        "  print(\"A is greatest\")\n",
        "elif (b>a) & (b>c):\n",
        "  print('b is greatest')\n",
        "else:\n",
        "  print('c is the greatest')"
      ],
      "metadata": {
        "colab": {
          "base_uri": "https://localhost:8080/"
        },
        "id": "zlnB0nKUpFgb",
        "outputId": "f9d576ce-9129-4216-d83a-b30f5873ae62"
      },
      "execution_count": null,
      "outputs": [
        {
          "output_type": "stream",
          "name": "stdout",
          "text": [
            "c is the greatest\n"
          ]
        }
      ]
    },
    {
      "cell_type": "code",
      "source": [
        "tup1 = ('a','b', 'c')"
      ],
      "metadata": {
        "id": "ZDgTwf_tpFeC"
      },
      "execution_count": null,
      "outputs": []
    },
    {
      "cell_type": "code",
      "source": [
        "if 'z' in tup1:\n",
        "  print(\"value a is present in tup1\")\n",
        "else:\n",
        "  print(\"value z is not present\")\n"
      ],
      "metadata": {
        "colab": {
          "base_uri": "https://localhost:8080/"
        },
        "id": "-oaWOF1XpFZZ",
        "outputId": "031882cd-a4ba-4b7f-d085-42e6abb7ddf6"
      },
      "execution_count": null,
      "outputs": [
        {
          "output_type": "stream",
          "name": "stdout",
          "text": [
            "value z is not present\n"
          ]
        }
      ]
    },
    {
      "cell_type": "code",
      "source": [
        "i = 1\n",
        "while i<=10:\n",
        "  print(i)\n",
        "  i = i + 1"
      ],
      "metadata": {
        "colab": {
          "base_uri": "https://localhost:8080/"
        },
        "id": "G9YgIP_EqXGK",
        "outputId": "235d3d7b-2e1c-4c15-a076-add1644ec075"
      },
      "execution_count": null,
      "outputs": [
        {
          "output_type": "stream",
          "name": "stdout",
          "text": [
            "1\n",
            "2\n",
            "3\n",
            "4\n",
            "5\n",
            "6\n",
            "7\n",
            "8\n",
            "9\n",
            "10\n"
          ]
        }
      ]
    },
    {
      "cell_type": "code",
      "source": [
        "i=1\n",
        "n=2\n",
        "while i<=10:\n",
        "  print(n, \"*\", i, \"=\", n*i)\n",
        "  i = i+1"
      ],
      "metadata": {
        "colab": {
          "base_uri": "https://localhost:8080/"
        },
        "id": "5ppxRUdGqW-_",
        "outputId": "3089776d-977e-497f-8c6e-8b764d533336"
      },
      "execution_count": null,
      "outputs": [
        {
          "output_type": "stream",
          "name": "stdout",
          "text": [
            "2 * 1 = 2\n",
            "2 * 2 = 4\n",
            "2 * 3 = 6\n",
            "2 * 4 = 8\n",
            "2 * 5 = 10\n",
            "2 * 6 = 12\n",
            "2 * 7 = 14\n",
            "2 * 8 = 16\n",
            "2 * 9 = 18\n",
            "2 * 10 = 20\n"
          ]
        }
      ]
    },
    {
      "cell_type": "code",
      "source": [
        "l1 = ['mango', 'apple', 'grapes', 'orange']"
      ],
      "metadata": {
        "id": "Oy1ky2p8qW3A"
      },
      "execution_count": null,
      "outputs": []
    },
    {
      "cell_type": "code",
      "source": [
        "for i in l1:\n",
        "  print(i)"
      ],
      "metadata": {
        "colab": {
          "base_uri": "https://localhost:8080/"
        },
        "id": "TjBbKoao7X33",
        "outputId": "275cfd19-9c50-4539-c4fc-7e44af89f13a"
      },
      "execution_count": null,
      "outputs": [
        {
          "output_type": "stream",
          "name": "stdout",
          "text": [
            "mango\n",
            "apple\n",
            "grapes\n",
            "orange\n"
          ]
        }
      ]
    },
    {
      "cell_type": "code",
      "source": [
        "l1 = ['orange', 'black', 'white']\n",
        "l2 = ['chair', 'book','laptop']\n"
      ],
      "metadata": {
        "id": "npwsnoJq7X1x"
      },
      "execution_count": null,
      "outputs": []
    },
    {
      "cell_type": "code",
      "source": [
        "for i in l1:\n",
        "  for j in l2:\n",
        "    print(i,j)"
      ],
      "metadata": {
        "colab": {
          "base_uri": "https://localhost:8080/"
        },
        "id": "S9K5lw0z7Xzn",
        "outputId": "92805663-0a6c-4c39-a81b-c0c0242a5529"
      },
      "execution_count": null,
      "outputs": [
        {
          "output_type": "stream",
          "name": "stdout",
          "text": [
            "orange chair\n",
            "orange book\n",
            "orange laptop\n",
            "black chair\n",
            "black book\n",
            "black laptop\n",
            "white chair\n",
            "white book\n",
            "white laptop\n"
          ]
        }
      ]
    },
    {
      "cell_type": "markdown",
      "source": [
        "FUNCTIONS"
      ],
      "metadata": {
        "id": "GmvPO4aD9uSA"
      }
    },
    {
      "cell_type": "code",
      "source": [
        " def hello():\n",
        "   print(\"hello world\")"
      ],
      "metadata": {
        "id": "u9ADsZYx7XwQ"
      },
      "execution_count": null,
      "outputs": []
    },
    {
      "cell_type": "code",
      "source": [
        "hello()"
      ],
      "metadata": {
        "colab": {
          "base_uri": "https://localhost:8080/"
        },
        "id": "4f8d2rWb7Xtp",
        "outputId": "48865738-cd04-40e8-9979-253a11ccf6c7"
      },
      "execution_count": null,
      "outputs": [
        {
          "output_type": "stream",
          "name": "stdout",
          "text": [
            "hello world\n"
          ]
        }
      ]
    },
    {
      "cell_type": "code",
      "source": [
        "def add_10(x):\n",
        "  return x+10"
      ],
      "metadata": {
        "id": "M0nLA9pm8xJa"
      },
      "execution_count": null,
      "outputs": []
    },
    {
      "cell_type": "code",
      "source": [
        "add_10(5)"
      ],
      "metadata": {
        "colab": {
          "base_uri": "https://localhost:8080/"
        },
        "id": "wiCWuo_S8xF7",
        "outputId": "c58a9571-16b5-4a72-a33a-f3aec9c57c9e"
      },
      "execution_count": null,
      "outputs": [
        {
          "output_type": "execute_result",
          "data": {
            "text/plain": [
              "15"
            ]
          },
          "metadata": {},
          "execution_count": 81
        }
      ]
    },
    {
      "cell_type": "code",
      "source": [
        "def odd_even(x):\n",
        "  if x%2==0:\n",
        "    print(x,\"is even\")\n",
        "  else:\n",
        "    print(x,\"is odd\")\n"
      ],
      "metadata": {
        "id": "uuEKuiN68xDY"
      },
      "execution_count": null,
      "outputs": []
    },
    {
      "cell_type": "code",
      "source": [
        "odd_even(10)"
      ],
      "metadata": {
        "colab": {
          "base_uri": "https://localhost:8080/"
        },
        "id": "MBY_5N8O8w-C",
        "outputId": "744eed34-3279-4c5a-ea2f-299626a3ff36"
      },
      "execution_count": null,
      "outputs": [
        {
          "output_type": "stream",
          "name": "stdout",
          "text": [
            "10 is even\n"
          ]
        }
      ]
    },
    {
      "cell_type": "code",
      "source": [
        "g= lambda x : x*x*x"
      ],
      "metadata": {
        "id": "NtnFfo948w6j"
      },
      "execution_count": null,
      "outputs": []
    },
    {
      "cell_type": "code",
      "source": [
        "g(10)"
      ],
      "metadata": {
        "colab": {
          "base_uri": "https://localhost:8080/"
        },
        "id": "K79n0Hv78wzf",
        "outputId": "6d10266c-9f6b-4621-9971-23dc2528a1e9"
      },
      "execution_count": null,
      "outputs": [
        {
          "output_type": "execute_result",
          "data": {
            "text/plain": [
              "1000"
            ]
          },
          "metadata": {},
          "execution_count": 91
        }
      ]
    },
    {
      "cell_type": "markdown",
      "source": [
        "LAMBDA WITH FILTER"
      ],
      "metadata": {
        "id": "yj7ALcRR-qm3"
      }
    },
    {
      "cell_type": "code",
      "source": [
        "l1 =[23,34,56,78,89,90,34,56,54,76,87,98,99]"
      ],
      "metadata": {
        "id": "1aJIQCDc8wxI"
      },
      "execution_count": null,
      "outputs": []
    },
    {
      "cell_type": "code",
      "source": [
        "final_list = list(filter(lambda x: (x%2==0), l1)) "
      ],
      "metadata": {
        "id": "p7vDWbLi8wuR"
      },
      "execution_count": null,
      "outputs": []
    },
    {
      "cell_type": "code",
      "source": [
        "final_list"
      ],
      "metadata": {
        "colab": {
          "base_uri": "https://localhost:8080/"
        },
        "id": "EQpg9BHL8wor",
        "outputId": "c81c79c3-b7bb-4dc0-be19-0d6da86293b0"
      },
      "execution_count": null,
      "outputs": [
        {
          "output_type": "execute_result",
          "data": {
            "text/plain": [
              "[34, 56, 78, 90, 34, 56, 54, 76, 98]"
            ]
          },
          "metadata": {},
          "execution_count": 96
        }
      ]
    },
    {
      "cell_type": "markdown",
      "source": [
        "map "
      ],
      "metadata": {
        "id": "-m7rLgDj_kpl"
      }
    },
    {
      "cell_type": "code",
      "source": [
        "l1 = [1,2,3,4,5,6,7,8]"
      ],
      "metadata": {
        "id": "VPhXLugB8wmY"
      },
      "execution_count": null,
      "outputs": []
    },
    {
      "cell_type": "code",
      "source": [
        "new = list(map(lambda x : x*2, l1))"
      ],
      "metadata": {
        "id": "48sw7d-i_kAo"
      },
      "execution_count": null,
      "outputs": []
    },
    {
      "cell_type": "code",
      "source": [
        "new"
      ],
      "metadata": {
        "colab": {
          "base_uri": "https://localhost:8080/"
        },
        "id": "HHMw2tZb_j7w",
        "outputId": "29d4b061-98a1-43b1-9848-973fbe59f9e2"
      },
      "execution_count": null,
      "outputs": [
        {
          "output_type": "execute_result",
          "data": {
            "text/plain": [
              "[2, 4, 6, 8, 10, 12, 14, 16]"
            ]
          },
          "metadata": {},
          "execution_count": 99
        }
      ]
    },
    {
      "cell_type": "code",
      "source": [
        "from functools import reduce"
      ],
      "metadata": {
        "id": "sToHcX-x_j3h"
      },
      "execution_count": null,
      "outputs": []
    },
    {
      "cell_type": "code",
      "source": [
        "sum= reduce(lambda x ,y: x+y ,l1)"
      ],
      "metadata": {
        "id": "mla4O6b8_j0M"
      },
      "execution_count": null,
      "outputs": []
    },
    {
      "cell_type": "code",
      "source": [
        "sum"
      ],
      "metadata": {
        "colab": {
          "base_uri": "https://localhost:8080/"
        },
        "id": "-gjr2bzd_jwa",
        "outputId": "de239cfe-0004-4e67-d18f-46a01a72efe8"
      },
      "execution_count": null,
      "outputs": [
        {
          "output_type": "execute_result",
          "data": {
            "text/plain": [
              "36"
            ]
          },
          "metadata": {},
          "execution_count": 102
        }
      ]
    },
    {
      "cell_type": "markdown",
      "source": [
        "OOPS"
      ],
      "metadata": {
        "id": "x07tgu3TAuPU"
      }
    },
    {
      "cell_type": "code",
      "source": [
        "class Phone:\n",
        "  def make_call(self):\n",
        "    print('I am makin a call')\n",
        "  def play_game(self):\n",
        "    print('I am playin a game')"
      ],
      "metadata": {
        "id": "KtBQvR64_jtz"
      },
      "execution_count": null,
      "outputs": []
    },
    {
      "cell_type": "code",
      "source": [
        "p1 = Phone()"
      ],
      "metadata": {
        "id": "3JCgg3NgAqAP"
      },
      "execution_count": null,
      "outputs": []
    },
    {
      "cell_type": "code",
      "source": [
        "p1.make_call()"
      ],
      "metadata": {
        "id": "uTlNw6qEAp8g",
        "colab": {
          "base_uri": "https://localhost:8080/"
        },
        "outputId": "e09b9061-ce43-4215-bc0c-873fc8f7ba7c"
      },
      "execution_count": null,
      "outputs": [
        {
          "output_type": "stream",
          "name": "stdout",
          "text": [
            "I am makin a call\n"
          ]
        }
      ]
    },
    {
      "cell_type": "code",
      "source": [
        "p1.play_game()"
      ],
      "metadata": {
        "id": "9XIzphCdAp4-",
        "colab": {
          "base_uri": "https://localhost:8080/"
        },
        "outputId": "6d1e812a-aea2-43ba-dc5f-ccf35c884807"
      },
      "execution_count": null,
      "outputs": [
        {
          "output_type": "stream",
          "name": "stdout",
          "text": [
            "I am playin a game\n"
          ]
        }
      ]
    },
    {
      "cell_type": "code",
      "source": [],
      "metadata": {
        "id": "g_VoIDc4Ap1j"
      },
      "execution_count": null,
      "outputs": []
    },
    {
      "cell_type": "code",
      "source": [
        "class Phone:\n",
        "  def set_color(self,color):\n",
        "    self.color = color \n",
        "  def set_cost(self,cost):\n",
        "    self.cost= cost\n",
        "  def show_color(self):\n",
        "    return self.color\n",
        "  def show_cost(self):\n",
        "    return self.cost \n",
        "  def make_call(self):\n",
        "    print('I am makin a call')\n",
        "  def play_game(self):\n",
        "    print('I am playin a game')\n"
      ],
      "metadata": {
        "id": "NW6lelg6ApyM"
      },
      "execution_count": null,
      "outputs": []
    },
    {
      "cell_type": "code",
      "source": [
        "p2 = Phone()"
      ],
      "metadata": {
        "id": "ReuCI2dzApux"
      },
      "execution_count": null,
      "outputs": []
    },
    {
      "cell_type": "markdown",
      "source": [
        "constructor"
      ],
      "metadata": {
        "id": "IvCTHSix-sTD"
      }
    },
    {
      "cell_type": "code",
      "source": [
        "class Employee:\n",
        "  def __init__(self, name, age, salary, gender):\n",
        "    self.name = name\n",
        "    self.age = age\n",
        "    self.salary = salary\n",
        "    self.gender = gender\n",
        "\n",
        "  def show_employee_details(self):\n",
        "    print('name of employee is',self.name)\n",
        "    print('age of employee is',self.age)\n",
        "    print('salary of employee is',self.salary)\n",
        "    print('gender of employee is', self.gender)\n"
      ],
      "metadata": {
        "id": "krE09zHRAprd"
      },
      "execution_count": null,
      "outputs": []
    },
    {
      "cell_type": "code",
      "source": [
        "e1 = Employee ('Ram', 32,50000, 'male')"
      ],
      "metadata": {
        "id": "6TYZvj3_Apmj"
      },
      "execution_count": null,
      "outputs": []
    },
    {
      "cell_type": "code",
      "source": [
        "e1.show_employee_details()"
      ],
      "metadata": {
        "colab": {
          "base_uri": "https://localhost:8080/"
        },
        "id": "SJXwpYTG7G6U",
        "outputId": "0badefc5-a741-4940-8fcc-de722cc23339"
      },
      "execution_count": null,
      "outputs": [
        {
          "output_type": "stream",
          "name": "stdout",
          "text": [
            "name of employee is Ram\n",
            "age of employee is 32\n",
            "salary of employee is 50000\n",
            "gender of employee is male\n"
          ]
        }
      ]
    },
    {
      "cell_type": "code",
      "source": [],
      "metadata": {
        "id": "Y3VZ-z1s7G3k"
      },
      "execution_count": null,
      "outputs": []
    },
    {
      "cell_type": "code",
      "source": [
        "class vehicle :\n",
        "  def __init__ (self, milage,cost):\n",
        "    self.milage = milage\n",
        "    self.cost = cost\n",
        "\n",
        "  def show_vehicle_details(self):\n",
        "    print('Milage of vehicle is', self.milage)\n",
        "    print('cost of vehicle is', self.cost)\n",
        "    print('I am a vehicle')"
      ],
      "metadata": {
        "id": "cIQUaZHA7G01"
      },
      "execution_count": null,
      "outputs": []
    },
    {
      "cell_type": "code",
      "source": [
        "v1= vehicle(300,500)"
      ],
      "metadata": {
        "id": "cbxOlPz7C2nw"
      },
      "execution_count": null,
      "outputs": []
    },
    {
      "cell_type": "code",
      "source": [
        "v1.show_vehicle_details()"
      ],
      "metadata": {
        "colab": {
          "base_uri": "https://localhost:8080/"
        },
        "id": "bXvp3-plC2kY",
        "outputId": "d5631bba-096d-4e56-9cd0-edec15c80ff6"
      },
      "execution_count": null,
      "outputs": [
        {
          "output_type": "stream",
          "name": "stdout",
          "text": [
            "Milage of vehicle is 300\n",
            "cost of vehicle is 500\n",
            "I am a vehicle\n"
          ]
        }
      ]
    },
    {
      "cell_type": "markdown",
      "source": [
        "child class"
      ],
      "metadata": {
        "id": "zUgDeHbBDtjL"
      }
    },
    {
      "cell_type": "code",
      "source": [
        "class Car(vehicle):\n",
        "  def show_car_details(self):\n",
        "    print('I am a car')"
      ],
      "metadata": {
        "id": "TKVZZ4VwC2hA"
      },
      "execution_count": null,
      "outputs": []
    },
    {
      "cell_type": "code",
      "source": [
        "c1 = Car(200, 800)"
      ],
      "metadata": {
        "id": "i3lgEg0LC2dW"
      },
      "execution_count": null,
      "outputs": []
    },
    {
      "cell_type": "code",
      "source": [
        "c1.show_vehicle_details()"
      ],
      "metadata": {
        "colab": {
          "base_uri": "https://localhost:8080/"
        },
        "id": "LYAVbw2pC2Zw",
        "outputId": "77577329-8b5a-4e99-cab1-0f5d35e737c7"
      },
      "execution_count": null,
      "outputs": [
        {
          "output_type": "stream",
          "name": "stdout",
          "text": [
            "Milage of vehicle is 200\n",
            "cost of vehicle is 800\n",
            "I am a vehicle\n"
          ]
        }
      ]
    },
    {
      "cell_type": "code",
      "source": [
        "c1.show_car_details()"
      ],
      "metadata": {
        "colab": {
          "base_uri": "https://localhost:8080/"
        },
        "id": "WC7HC2liC2US",
        "outputId": "64c1d3bb-160b-4bba-a013-f020ef06271a"
      },
      "execution_count": null,
      "outputs": [
        {
          "output_type": "stream",
          "name": "stdout",
          "text": [
            "I am a car\n"
          ]
        }
      ]
    },
    {
      "cell_type": "code",
      "source": [],
      "metadata": {
        "id": "CWzv7WDpC2Rp"
      },
      "execution_count": null,
      "outputs": []
    },
    {
      "cell_type": "code",
      "source": [
        "class vehicle :\n",
        "  def __init__ (self, milage,cost):\n",
        "    self.milage = milage\n",
        "    self.cost = cost\n",
        "\n",
        "  def show_vehicle_details(self):\n",
        "    print('Milage of vehicle is', self.milage)\n",
        "    print('cost of vehicle is', self.cost)\n",
        "    print('I am a vehicle')"
      ],
      "metadata": {
        "id": "yFGiQs_IHGk8"
      },
      "execution_count": null,
      "outputs": []
    },
    {
      "cell_type": "code",
      "source": [
        "v1= vehicle(300,500)"
      ],
      "metadata": {
        "id": "wGv854pzHGRT"
      },
      "execution_count": null,
      "outputs": []
    },
    {
      "cell_type": "code",
      "source": [
        "class Car(vehicle):\n",
        "  def __init__(self, milage,cost,tyres,hp):\n",
        "    super().__init__(milage ,cost)\n",
        "    self.tyres = tyres\n",
        "    self.hp = hp\n",
        "\n",
        "  def show_car_details(self):\n",
        "    print('number of tyres in car', self.tyres)\n",
        "    print('horse power of car is', self.hp)\n",
        "\n"
      ],
      "metadata": {
        "id": "B5gn599lHGNh"
      },
      "execution_count": null,
      "outputs": []
    },
    {
      "cell_type": "code",
      "source": [
        "c1 = Car(600, 100000000, 8,999)"
      ],
      "metadata": {
        "id": "ZUaEW9FRHGKC"
      },
      "execution_count": null,
      "outputs": []
    },
    {
      "cell_type": "code",
      "source": [
        "c1.show_car_details()"
      ],
      "metadata": {
        "colab": {
          "base_uri": "https://localhost:8080/"
        },
        "id": "IPJJSD40HGG_",
        "outputId": "99f0e8b6-d5fd-4d6e-d2fe-200a7b3d13ba"
      },
      "execution_count": null,
      "outputs": [
        {
          "output_type": "stream",
          "name": "stdout",
          "text": [
            "number of tyres in car 8\n",
            "horse power of car is 999\n"
          ]
        }
      ]
    },
    {
      "cell_type": "code",
      "source": [
        "c1.show_vehicle_details()"
      ],
      "metadata": {
        "colab": {
          "base_uri": "https://localhost:8080/"
        },
        "id": "NGVxosyrHGDr",
        "outputId": "60351257-600a-49ad-aec8-16639997bd94"
      },
      "execution_count": null,
      "outputs": [
        {
          "output_type": "stream",
          "name": "stdout",
          "text": [
            "Milage of vehicle is 600\n",
            "cost of vehicle is 100000000\n",
            "I am a vehicle\n"
          ]
        }
      ]
    },
    {
      "cell_type": "markdown",
      "source": [
        "NUMPY"
      ],
      "metadata": {
        "id": "zsFVQD56LRsZ"
      }
    },
    {
      "cell_type": "code",
      "source": [
        "import numpy as np"
      ],
      "metadata": {
        "id": "FXRFWDv2HGAa"
      },
      "execution_count": null,
      "outputs": []
    },
    {
      "cell_type": "code",
      "source": [
        "l1 = [1,2,3,4]"
      ],
      "metadata": {
        "id": "d71SdAnDHF9_"
      },
      "execution_count": null,
      "outputs": []
    },
    {
      "cell_type": "code",
      "source": [
        "n1 =np.array(l1)"
      ],
      "metadata": {
        "id": "o-N3_PE9LqF0"
      },
      "execution_count": null,
      "outputs": []
    },
    {
      "cell_type": "code",
      "source": [
        "type(n1)"
      ],
      "metadata": {
        "colab": {
          "base_uri": "https://localhost:8080/"
        },
        "id": "LaYc6ZD7LqBf",
        "outputId": "7b520c06-3e5e-4183-eb02-3d37350473a2"
      },
      "execution_count": null,
      "outputs": [
        {
          "output_type": "execute_result",
          "data": {
            "text/plain": [
              "numpy.ndarray"
            ]
          },
          "metadata": {},
          "execution_count": 40
        }
      ]
    },
    {
      "cell_type": "code",
      "source": [
        "n2 = np.array([[1,2,3,4],[4,3,2,1]])"
      ],
      "metadata": {
        "id": "8ixOt6ymLp9a"
      },
      "execution_count": null,
      "outputs": []
    },
    {
      "cell_type": "code",
      "source": [
        "type(n2)"
      ],
      "metadata": {
        "colab": {
          "base_uri": "https://localhost:8080/"
        },
        "id": "j_Tqi0bVLp6r",
        "outputId": "b2936e36-ab6e-4f55-a39a-b2d365eb4b74"
      },
      "execution_count": null,
      "outputs": [
        {
          "output_type": "execute_result",
          "data": {
            "text/plain": [
              "numpy.ndarray"
            ]
          },
          "metadata": {},
          "execution_count": 43
        }
      ]
    },
    {
      "cell_type": "code",
      "source": [
        "n3 = np.zeros((10,10))"
      ],
      "metadata": {
        "id": "-jgDkw0WMGm6"
      },
      "execution_count": null,
      "outputs": []
    },
    {
      "cell_type": "code",
      "source": [
        "n3"
      ],
      "metadata": {
        "colab": {
          "base_uri": "https://localhost:8080/"
        },
        "id": "yDC3NxDyMHjP",
        "outputId": "32d1e24c-0f1f-4a90-e2ff-37fe561d444d"
      },
      "execution_count": null,
      "outputs": [
        {
          "output_type": "execute_result",
          "data": {
            "text/plain": [
              "array([[0., 0., 0., 0., 0., 0., 0., 0., 0., 0.],\n",
              "       [0., 0., 0., 0., 0., 0., 0., 0., 0., 0.],\n",
              "       [0., 0., 0., 0., 0., 0., 0., 0., 0., 0.],\n",
              "       [0., 0., 0., 0., 0., 0., 0., 0., 0., 0.],\n",
              "       [0., 0., 0., 0., 0., 0., 0., 0., 0., 0.],\n",
              "       [0., 0., 0., 0., 0., 0., 0., 0., 0., 0.],\n",
              "       [0., 0., 0., 0., 0., 0., 0., 0., 0., 0.],\n",
              "       [0., 0., 0., 0., 0., 0., 0., 0., 0., 0.],\n",
              "       [0., 0., 0., 0., 0., 0., 0., 0., 0., 0.],\n",
              "       [0., 0., 0., 0., 0., 0., 0., 0., 0., 0.]])"
            ]
          },
          "metadata": {},
          "execution_count": 48
        }
      ]
    },
    {
      "cell_type": "code",
      "source": [
        "type(n3)"
      ],
      "metadata": {
        "colab": {
          "base_uri": "https://localhost:8080/"
        },
        "id": "l1vIi0NFMHfi",
        "outputId": "e80f27d0-9020-4f5d-b015-a12e2cb47d6b"
      },
      "execution_count": null,
      "outputs": [
        {
          "output_type": "execute_result",
          "data": {
            "text/plain": [
              "numpy.ndarray"
            ]
          },
          "metadata": {},
          "execution_count": 49
        }
      ]
    },
    {
      "cell_type": "code",
      "source": [
        "n4 = np.full((3,3), 10)"
      ],
      "metadata": {
        "id": "p0Ake2m0MHcC"
      },
      "execution_count": null,
      "outputs": []
    },
    {
      "cell_type": "code",
      "source": [
        "n4"
      ],
      "metadata": {
        "colab": {
          "base_uri": "https://localhost:8080/"
        },
        "id": "idaQINgbMHYj",
        "outputId": "cdec0fa0-73e4-4696-d514-e7a2ff714137"
      },
      "execution_count": null,
      "outputs": [
        {
          "output_type": "execute_result",
          "data": {
            "text/plain": [
              "array([[10, 10, 10],\n",
              "       [10, 10, 10],\n",
              "       [10, 10, 10]])"
            ]
          },
          "metadata": {},
          "execution_count": 51
        }
      ]
    },
    {
      "cell_type": "code",
      "source": [
        "n1 = np.arange(50,101)"
      ],
      "metadata": {
        "id": "p2YHqMtYMHWG"
      },
      "execution_count": null,
      "outputs": []
    },
    {
      "cell_type": "code",
      "source": [
        "n1"
      ],
      "metadata": {
        "colab": {
          "base_uri": "https://localhost:8080/"
        },
        "id": "MtYXDKsVMIis",
        "outputId": "e60b4eb7-d937-41d5-95dc-b4856c534fbc"
      },
      "execution_count": null,
      "outputs": [
        {
          "output_type": "execute_result",
          "data": {
            "text/plain": [
              "array([ 50,  51,  52,  53,  54,  55,  56,  57,  58,  59,  60,  61,  62,\n",
              "        63,  64,  65,  66,  67,  68,  69,  70,  71,  72,  73,  74,  75,\n",
              "        76,  77,  78,  79,  80,  81,  82,  83,  84,  85,  86,  87,  88,\n",
              "        89,  90,  91,  92,  93,  94,  95,  96,  97,  98,  99, 100])"
            ]
          },
          "metadata": {},
          "execution_count": 53
        }
      ]
    },
    {
      "cell_type": "code",
      "source": [
        "n1 = np.arange(50,510,10)"
      ],
      "metadata": {
        "id": "v950QM0QMIfG"
      },
      "execution_count": null,
      "outputs": []
    },
    {
      "cell_type": "code",
      "source": [
        "n1"
      ],
      "metadata": {
        "colab": {
          "base_uri": "https://localhost:8080/"
        },
        "id": "tRbBAZG9MIbo",
        "outputId": "ed7ed339-0842-45be-ad7c-b77097571ef0"
      },
      "execution_count": null,
      "outputs": [
        {
          "output_type": "execute_result",
          "data": {
            "text/plain": [
              "array([ 50,  60,  70,  80,  90, 100, 110, 120, 130, 140, 150, 160, 170,\n",
              "       180, 190, 200, 210, 220, 230, 240, 250, 260, 270, 280, 290, 300,\n",
              "       310, 320, 330, 340, 350, 360, 370, 380, 390, 400, 410, 420, 430,\n",
              "       440, 450, 460, 470, 480, 490, 500])"
            ]
          },
          "metadata": {},
          "execution_count": 58
        }
      ]
    },
    {
      "cell_type": "code",
      "source": [
        "np.random.randint(1,10000,10)\n"
      ],
      "metadata": {
        "colab": {
          "base_uri": "https://localhost:8080/"
        },
        "id": "jNWW0vtYMIYM",
        "outputId": "34a6b7e0-65ea-4fc1-9fe4-80ad21841118"
      },
      "execution_count": null,
      "outputs": [
        {
          "output_type": "execute_result",
          "data": {
            "text/plain": [
              "array([7434, 4747, 2846, 7663, 2696, 4253,  691, 2041, 7218, 5028])"
            ]
          },
          "metadata": {},
          "execution_count": 62
        }
      ]
    },
    {
      "cell_type": "code",
      "source": [
        "n1 = np.array([[1,2,3,4],[4,3,2,1]])"
      ],
      "metadata": {
        "id": "9Ukb3TMCMIU4"
      },
      "execution_count": null,
      "outputs": []
    },
    {
      "cell_type": "code",
      "source": [
        "n1"
      ],
      "metadata": {
        "colab": {
          "base_uri": "https://localhost:8080/"
        },
        "id": "_aNaRFuEMIP8",
        "outputId": "62231bd4-9f34-4b66-8652-cf33c6522240"
      },
      "execution_count": null,
      "outputs": [
        {
          "output_type": "execute_result",
          "data": {
            "text/plain": [
              "array([[1, 2, 3, 4],\n",
              "       [4, 3, 2, 1]])"
            ]
          },
          "metadata": {},
          "execution_count": 64
        }
      ]
    },
    {
      "cell_type": "code",
      "source": [
        "n1.shape = (4,2)"
      ],
      "metadata": {
        "id": "maosYGwXN44u"
      },
      "execution_count": null,
      "outputs": []
    },
    {
      "cell_type": "code",
      "source": [
        "n1"
      ],
      "metadata": {
        "colab": {
          "base_uri": "https://localhost:8080/"
        },
        "id": "G0rGdAh-N41X",
        "outputId": "33db6370-7b5f-47a7-b6d8-2861d9bf255e"
      },
      "execution_count": null,
      "outputs": [
        {
          "output_type": "execute_result",
          "data": {
            "text/plain": [
              "array([[1, 2],\n",
              "       [3, 4],\n",
              "       [4, 3],\n",
              "       [2, 1]])"
            ]
          },
          "metadata": {},
          "execution_count": 67
        }
      ]
    },
    {
      "cell_type": "code",
      "source": [
        "import numpy as np"
      ],
      "metadata": {
        "id": "UhpVTXAlEhyL"
      },
      "execution_count": null,
      "outputs": []
    },
    {
      "cell_type": "code",
      "source": [
        "n1 = np.array([1,2,3])"
      ],
      "metadata": {
        "id": "QkW9sQ70N4x3"
      },
      "execution_count": null,
      "outputs": []
    },
    {
      "cell_type": "code",
      "source": [
        "n2 = np.array([4,5,6])"
      ],
      "metadata": {
        "id": "bR8ssvNiN4uo"
      },
      "execution_count": null,
      "outputs": []
    },
    {
      "cell_type": "code",
      "source": [
        "np.vstack((n1,n2))"
      ],
      "metadata": {
        "id": "ZdxkWenjN4qB",
        "colab": {
          "base_uri": "https://localhost:8080/"
        },
        "outputId": "5f390af0-b24d-4e03-8aec-f1c34e939c72"
      },
      "execution_count": null,
      "outputs": [
        {
          "output_type": "execute_result",
          "data": {
            "text/plain": [
              "array([[1, 2, 3],\n",
              "       [4, 5, 6]])"
            ]
          },
          "metadata": {},
          "execution_count": 7
        }
      ]
    },
    {
      "cell_type": "code",
      "source": [
        "np.hstack((n1,n2))"
      ],
      "metadata": {
        "id": "ERz31M8SN4nd",
        "colab": {
          "base_uri": "https://localhost:8080/"
        },
        "outputId": "19621836-c653-4eab-9c31-dfcc59f6744e"
      },
      "execution_count": null,
      "outputs": [
        {
          "output_type": "execute_result",
          "data": {
            "text/plain": [
              "array([1, 2, 3, 4, 5, 6])"
            ]
          },
          "metadata": {},
          "execution_count": 8
        }
      ]
    },
    {
      "cell_type": "code",
      "source": [
        "np.column_stack((n1,n2))"
      ],
      "metadata": {
        "id": "T-yELI_xN6Gi",
        "colab": {
          "base_uri": "https://localhost:8080/"
        },
        "outputId": "6118bc27-8717-4bf2-f587-13e09a12971e"
      },
      "execution_count": null,
      "outputs": [
        {
          "output_type": "execute_result",
          "data": {
            "text/plain": [
              "array([[1, 4],\n",
              "       [2, 5],\n",
              "       [3, 6]])"
            ]
          },
          "metadata": {},
          "execution_count": 9
        }
      ]
    },
    {
      "cell_type": "code",
      "source": [
        "n1 = np.array([10,20,30,40,50,60])"
      ],
      "metadata": {
        "id": "4gKGDl2_N6EC"
      },
      "execution_count": null,
      "outputs": []
    },
    {
      "cell_type": "code",
      "source": [
        "n2 = np.array([50,60,70,80,90])"
      ],
      "metadata": {
        "id": "jz4hWCBrEyv6"
      },
      "execution_count": null,
      "outputs": []
    },
    {
      "cell_type": "code",
      "source": [
        "np.intersect1d(n1,n2)"
      ],
      "metadata": {
        "colab": {
          "base_uri": "https://localhost:8080/"
        },
        "id": "R_qU5LQIEyoi",
        "outputId": "d6094b86-cb7b-456f-ef00-8a4de2c35c35"
      },
      "execution_count": null,
      "outputs": [
        {
          "output_type": "execute_result",
          "data": {
            "text/plain": [
              "array([50, 60])"
            ]
          },
          "metadata": {},
          "execution_count": 13
        }
      ]
    },
    {
      "cell_type": "code",
      "source": [
        "np.setdiff1d(n1,n2)"
      ],
      "metadata": {
        "colab": {
          "base_uri": "https://localhost:8080/"
        },
        "id": "PBDaFwjAFo9o",
        "outputId": "2f8ad0b6-ab37-4fa4-e3c1-25b32028b148"
      },
      "execution_count": null,
      "outputs": [
        {
          "output_type": "execute_result",
          "data": {
            "text/plain": [
              "array([10, 20, 30, 40])"
            ]
          },
          "metadata": {},
          "execution_count": 14
        }
      ]
    },
    {
      "cell_type": "code",
      "source": [
        "np.setdiff1d(n2,n1)"
      ],
      "metadata": {
        "colab": {
          "base_uri": "https://localhost:8080/"
        },
        "id": "GSVPjcnbFu1Q",
        "outputId": "41fd0351-0597-44b2-cf0f-8133ba669519"
      },
      "execution_count": null,
      "outputs": [
        {
          "output_type": "execute_result",
          "data": {
            "text/plain": [
              "array([70, 80, 90])"
            ]
          },
          "metadata": {},
          "execution_count": 15
        }
      ]
    },
    {
      "cell_type": "code",
      "source": [
        "n1 = np.array([10,20,30,40,50])\n",
        "n2 = np.array([50,60,70,80,90])"
      ],
      "metadata": {
        "id": "zaeYA7hAFwyO"
      },
      "execution_count": null,
      "outputs": []
    },
    {
      "cell_type": "code",
      "source": [
        "np.sum([n1,n2],axis=0)"
      ],
      "metadata": {
        "colab": {
          "base_uri": "https://localhost:8080/"
        },
        "id": "G2SAKrewFwui",
        "outputId": "fe33bb7a-f96c-4156-a08c-7cde3393039f"
      },
      "execution_count": null,
      "outputs": [
        {
          "output_type": "execute_result",
          "data": {
            "text/plain": [
              "array([ 60,  80, 100, 120, 140])"
            ]
          },
          "metadata": {},
          "execution_count": 20
        }
      ]
    },
    {
      "cell_type": "code",
      "source": [
        "n3 = np.array([10,20,30,40,50])"
      ],
      "metadata": {
        "id": "rbYxNK05Fwqy"
      },
      "execution_count": null,
      "outputs": []
    },
    {
      "cell_type": "code",
      "source": [
        "n3 "
      ],
      "metadata": {
        "colab": {
          "base_uri": "https://localhost:8080/"
        },
        "id": "F1p4et5rFwoC",
        "outputId": "2f9d3719-afb7-435d-a8c1-3d91c2b1729d"
      },
      "execution_count": null,
      "outputs": [
        {
          "output_type": "execute_result",
          "data": {
            "text/plain": [
              "array([10, 20, 30, 40, 50])"
            ]
          },
          "metadata": {},
          "execution_count": 31
        }
      ]
    },
    {
      "cell_type": "code",
      "source": [
        "n3 + 1\n"
      ],
      "metadata": {
        "colab": {
          "base_uri": "https://localhost:8080/"
        },
        "id": "77j-C-xdHAWZ",
        "outputId": "41d4bbca-3098-4363-f349-1a98ac3dd35e"
      },
      "execution_count": null,
      "outputs": [
        {
          "output_type": "execute_result",
          "data": {
            "text/plain": [
              "array([11, 21, 31, 41, 51])"
            ]
          },
          "metadata": {},
          "execution_count": 32
        }
      ]
    },
    {
      "cell_type": "code",
      "source": [
        "n = np.random.randint(1,50,10)"
      ],
      "metadata": {
        "id": "uKV7igpjHA38"
      },
      "execution_count": null,
      "outputs": []
    },
    {
      "cell_type": "code",
      "source": [
        "np.std(n)"
      ],
      "metadata": {
        "colab": {
          "base_uri": "https://localhost:8080/"
        },
        "id": "DssGl-MqHfoo",
        "outputId": "5b2f8396-ab59-40cc-e323-0e27b2a5d4b7"
      },
      "execution_count": null,
      "outputs": [
        {
          "output_type": "execute_result",
          "data": {
            "text/plain": [
              "15.596153371905523"
            ]
          },
          "metadata": {},
          "execution_count": 38
        }
      ]
    },
    {
      "cell_type": "code",
      "source": [],
      "metadata": {
        "id": "j9VEo93sHhSR"
      },
      "execution_count": null,
      "outputs": []
    },
    {
      "cell_type": "code",
      "source": [
        "import pandas as pd"
      ],
      "metadata": {
        "id": "OrEvJvCwIDNC"
      },
      "execution_count": null,
      "outputs": []
    },
    {
      "cell_type": "code",
      "source": [
        "s1 =pd.Series([1,2,3,4,5,5,66,7], index = ['a','b','c','d','e','f','g','h'])"
      ],
      "metadata": {
        "id": "0Df1o29HIDJL"
      },
      "execution_count": null,
      "outputs": []
    },
    {
      "cell_type": "code",
      "source": [
        "s1\n"
      ],
      "metadata": {
        "colab": {
          "base_uri": "https://localhost:8080/"
        },
        "id": "IyMLdfzqIDFi",
        "outputId": "e9edb3e5-760f-4867-d4ca-93bce24078c3"
      },
      "execution_count": null,
      "outputs": [
        {
          "output_type": "execute_result",
          "data": {
            "text/plain": [
              "a     1\n",
              "b     2\n",
              "c     3\n",
              "d     4\n",
              "e     5\n",
              "f     5\n",
              "g    66\n",
              "h     7\n",
              "dtype: int64"
            ]
          },
          "metadata": {},
          "execution_count": 47
        }
      ]
    },
    {
      "cell_type": "code",
      "source": [
        "pd.Series({'a':10, 'b':20, 'c':30}, index=['1','a','b','c','5'])"
      ],
      "metadata": {
        "colab": {
          "base_uri": "https://localhost:8080/"
        },
        "id": "n7pmdblHIDCF",
        "outputId": "4bab7835-e191-452f-c9b5-b45779aee931"
      },
      "execution_count": null,
      "outputs": [
        {
          "output_type": "execute_result",
          "data": {
            "text/plain": [
              "1     NaN\n",
              "a    10.0\n",
              "b    20.0\n",
              "c    30.0\n",
              "5     NaN\n",
              "dtype: float64"
            ]
          },
          "metadata": {},
          "execution_count": 51
        }
      ]
    },
    {
      "cell_type": "code",
      "source": [
        "s1 =pd.Series([1,2,3,4,5,5,66,7])"
      ],
      "metadata": {
        "id": "mK5ZLkV9IC-n"
      },
      "execution_count": null,
      "outputs": []
    },
    {
      "cell_type": "code",
      "source": [
        "s1[-5:]"
      ],
      "metadata": {
        "colab": {
          "base_uri": "https://localhost:8080/"
        },
        "id": "mPrCSXj7ICsd",
        "outputId": "122fa5ae-19f9-4241-b4fa-5b5ef18ec77e"
      },
      "execution_count": null,
      "outputs": [
        {
          "output_type": "execute_result",
          "data": {
            "text/plain": [
              "3     4\n",
              "4     5\n",
              "5     5\n",
              "6    66\n",
              "7     7\n",
              "dtype: int64"
            ]
          },
          "metadata": {},
          "execution_count": 57
        }
      ]
    },
    {
      "cell_type": "code",
      "source": [
        "s1 + 5"
      ],
      "metadata": {
        "colab": {
          "base_uri": "https://localhost:8080/"
        },
        "id": "GxbutCbcICon",
        "outputId": "8b71b407-df4a-4905-f860-7af74e9e3638"
      },
      "execution_count": null,
      "outputs": [
        {
          "output_type": "execute_result",
          "data": {
            "text/plain": [
              "0     6\n",
              "1     7\n",
              "2     8\n",
              "3     9\n",
              "4    10\n",
              "5    10\n",
              "6    71\n",
              "7    12\n",
              "dtype: int64"
            ]
          },
          "metadata": {},
          "execution_count": 58
        }
      ]
    },
    {
      "cell_type": "code",
      "source": [
        "pd.DataFrame({'Name': ['somya','bob','Matt'], 'Marks':['75','45','60']})"
      ],
      "metadata": {
        "colab": {
          "base_uri": "https://localhost:8080/",
          "height": 143
        },
        "id": "iT5auzdBICj7",
        "outputId": "cbba349f-68ea-4752-bd23-b914666c7b64"
      },
      "execution_count": null,
      "outputs": [
        {
          "output_type": "execute_result",
          "data": {
            "text/plain": [
              "    Name Marks\n",
              "0  somya    75\n",
              "1    bob    45\n",
              "2   Matt    60"
            ],
            "text/html": [
              "\n",
              "  <div id=\"df-a43d54c0-392c-45c6-b951-51cf2e45d64a\">\n",
              "    <div class=\"colab-df-container\">\n",
              "      <div>\n",
              "<style scoped>\n",
              "    .dataframe tbody tr th:only-of-type {\n",
              "        vertical-align: middle;\n",
              "    }\n",
              "\n",
              "    .dataframe tbody tr th {\n",
              "        vertical-align: top;\n",
              "    }\n",
              "\n",
              "    .dataframe thead th {\n",
              "        text-align: right;\n",
              "    }\n",
              "</style>\n",
              "<table border=\"1\" class=\"dataframe\">\n",
              "  <thead>\n",
              "    <tr style=\"text-align: right;\">\n",
              "      <th></th>\n",
              "      <th>Name</th>\n",
              "      <th>Marks</th>\n",
              "    </tr>\n",
              "  </thead>\n",
              "  <tbody>\n",
              "    <tr>\n",
              "      <th>0</th>\n",
              "      <td>somya</td>\n",
              "      <td>75</td>\n",
              "    </tr>\n",
              "    <tr>\n",
              "      <th>1</th>\n",
              "      <td>bob</td>\n",
              "      <td>45</td>\n",
              "    </tr>\n",
              "    <tr>\n",
              "      <th>2</th>\n",
              "      <td>Matt</td>\n",
              "      <td>60</td>\n",
              "    </tr>\n",
              "  </tbody>\n",
              "</table>\n",
              "</div>\n",
              "      <button class=\"colab-df-convert\" onclick=\"convertToInteractive('df-a43d54c0-392c-45c6-b951-51cf2e45d64a')\"\n",
              "              title=\"Convert this dataframe to an interactive table.\"\n",
              "              style=\"display:none;\">\n",
              "        \n",
              "  <svg xmlns=\"http://www.w3.org/2000/svg\" height=\"24px\"viewBox=\"0 0 24 24\"\n",
              "       width=\"24px\">\n",
              "    <path d=\"M0 0h24v24H0V0z\" fill=\"none\"/>\n",
              "    <path d=\"M18.56 5.44l.94 2.06.94-2.06 2.06-.94-2.06-.94-.94-2.06-.94 2.06-2.06.94zm-11 1L8.5 8.5l.94-2.06 2.06-.94-2.06-.94L8.5 2.5l-.94 2.06-2.06.94zm10 10l.94 2.06.94-2.06 2.06-.94-2.06-.94-.94-2.06-.94 2.06-2.06.94z\"/><path d=\"M17.41 7.96l-1.37-1.37c-.4-.4-.92-.59-1.43-.59-.52 0-1.04.2-1.43.59L10.3 9.45l-7.72 7.72c-.78.78-.78 2.05 0 2.83L4 21.41c.39.39.9.59 1.41.59.51 0 1.02-.2 1.41-.59l7.78-7.78 2.81-2.81c.8-.78.8-2.07 0-2.86zM5.41 20L4 18.59l7.72-7.72 1.47 1.35L5.41 20z\"/>\n",
              "  </svg>\n",
              "      </button>\n",
              "      \n",
              "  <style>\n",
              "    .colab-df-container {\n",
              "      display:flex;\n",
              "      flex-wrap:wrap;\n",
              "      gap: 12px;\n",
              "    }\n",
              "\n",
              "    .colab-df-convert {\n",
              "      background-color: #E8F0FE;\n",
              "      border: none;\n",
              "      border-radius: 50%;\n",
              "      cursor: pointer;\n",
              "      display: none;\n",
              "      fill: #1967D2;\n",
              "      height: 32px;\n",
              "      padding: 0 0 0 0;\n",
              "      width: 32px;\n",
              "    }\n",
              "\n",
              "    .colab-df-convert:hover {\n",
              "      background-color: #E2EBFA;\n",
              "      box-shadow: 0px 1px 2px rgba(60, 64, 67, 0.3), 0px 1px 3px 1px rgba(60, 64, 67, 0.15);\n",
              "      fill: #174EA6;\n",
              "    }\n",
              "\n",
              "    [theme=dark] .colab-df-convert {\n",
              "      background-color: #3B4455;\n",
              "      fill: #D2E3FC;\n",
              "    }\n",
              "\n",
              "    [theme=dark] .colab-df-convert:hover {\n",
              "      background-color: #434B5C;\n",
              "      box-shadow: 0px 1px 3px 1px rgba(0, 0, 0, 0.15);\n",
              "      filter: drop-shadow(0px 1px 2px rgba(0, 0, 0, 0.3));\n",
              "      fill: #FFFFFF;\n",
              "    }\n",
              "  </style>\n",
              "\n",
              "      <script>\n",
              "        const buttonEl =\n",
              "          document.querySelector('#df-a43d54c0-392c-45c6-b951-51cf2e45d64a button.colab-df-convert');\n",
              "        buttonEl.style.display =\n",
              "          google.colab.kernel.accessAllowed ? 'block' : 'none';\n",
              "\n",
              "        async function convertToInteractive(key) {\n",
              "          const element = document.querySelector('#df-a43d54c0-392c-45c6-b951-51cf2e45d64a');\n",
              "          const dataTable =\n",
              "            await google.colab.kernel.invokeFunction('convertToInteractive',\n",
              "                                                     [key], {});\n",
              "          if (!dataTable) return;\n",
              "\n",
              "          const docLinkHtml = 'Like what you see? Visit the ' +\n",
              "            '<a target=\"_blank\" href=https://colab.research.google.com/notebooks/data_table.ipynb>data table notebook</a>'\n",
              "            + ' to learn more about interactive tables.';\n",
              "          element.innerHTML = '';\n",
              "          dataTable['output_type'] = 'display_data';\n",
              "          await google.colab.output.renderOutput(dataTable, element);\n",
              "          const docLink = document.createElement('div');\n",
              "          docLink.innerHTML = docLinkHtml;\n",
              "          element.appendChild(docLink);\n",
              "        }\n",
              "      </script>\n",
              "    </div>\n",
              "  </div>\n",
              "  "
            ]
          },
          "metadata": {},
          "execution_count": 60
        }
      ]
    },
    {
      "cell_type": "code",
      "source": [
        "import numpy as np\n",
        "from matplotlib import pyplot as plt"
      ],
      "metadata": {
        "id": "TQGAiPE-IChA"
      },
      "execution_count": null,
      "outputs": []
    },
    {
      "cell_type": "code",
      "source": [
        "x= np.arange(1,12)"
      ],
      "metadata": {
        "id": "1xNuDAx6Lel8"
      },
      "execution_count": null,
      "outputs": []
    },
    {
      "cell_type": "code",
      "source": [
        "y= x*3"
      ],
      "metadata": {
        "id": "ThAMw_BOLehL"
      },
      "execution_count": null,
      "outputs": []
    },
    {
      "cell_type": "code",
      "source": [
        "y"
      ],
      "metadata": {
        "colab": {
          "base_uri": "https://localhost:8080/"
        },
        "id": "R4yebOUkLeem",
        "outputId": "06215c15-0c32-4823-8333-9b8cb0262146"
      },
      "execution_count": null,
      "outputs": [
        {
          "output_type": "execute_result",
          "data": {
            "text/plain": [
              "array([ 3,  6,  9, 12, 15, 18, 21, 24, 27, 30, 33])"
            ]
          },
          "metadata": {},
          "execution_count": 64
        }
      ]
    },
    {
      "cell_type": "code",
      "source": [],
      "metadata": {
        "id": "lS65ZPxeLkKT"
      },
      "execution_count": null,
      "outputs": []
    },
    {
      "cell_type": "code",
      "source": [
        "plt.plot(x,y, color ='g', linestyle = ':', linewidth='3')\n",
        "plt.title('x vs y')\n",
        "plt.xlabel('This is x axis')\n",
        "plt.ylabel('This is y axis')\n",
        "plt.show()"
      ],
      "metadata": {
        "colab": {
          "base_uri": "https://localhost:8080/",
          "height": 295
        },
        "id": "g6QiIbZqLkGR",
        "outputId": "12d1768f-96dc-4332-d9be-781c418e7ca9"
      },
      "execution_count": null,
      "outputs": [
        {
          "output_type": "display_data",
          "data": {
            "text/plain": [
              "<Figure size 432x288 with 1 Axes>"
            ],
            "image/png": "[encoded data removed]"
          },
          "metadata": {
            "needs_background": "light"
          }
        }
      ]
    },
    {
      "cell_type": "code",
      "source": [
        "x= np.arange(1,12)"
      ],
      "metadata": {
        "id": "jBsY4cVFLkCc"
      },
      "execution_count": null,
      "outputs": []
    },
    {
      "cell_type": "code",
      "source": [
        "y1 = 2*x\n",
        "y2 = 3*x"
      ],
      "metadata": {
        "id": "aeVtxCNdLj92"
      },
      "execution_count": null,
      "outputs": []
    },
    {
      "cell_type": "code",
      "source": [
        "plt.plot(x,y1, color ='g')\n",
        "plt.plot(x,y2, color ='y', linestyle = ':', linewidth='3')\n",
        "plt.grid(True)\n",
        "plt.title('Two lines in a plot')\n",
        "plt.xlabel('x axis')\n",
        "plt.show()"
      ],
      "metadata": {
        "colab": {
          "base_uri": "https://localhost:8080/",
          "height": 295
        },
        "id": "-r9spCHMLj7e",
        "outputId": "c7c94ea3-8f1b-4b4d-fcec-289f0d5e431c"
      },
      "execution_count": null,
      "outputs": [
        {
          "output_type": "display_data",
          "data": {
            "text/plain": [
              "<Figure size 432x288 with 1 Axes>"
            ],
            "image/png": "[encoded data removed]"
          },
          "metadata": {
            "needs_background": "light"
          }
        }
      ]
    },
    {
      "cell_type": "code",
      "source": [
        "plt.subplot(2,1,1)\n",
        "plt.plot(x,y1, color ='g')\n",
        "plt.grid(True)\n",
        "plt.title('Two lines in a plot')\n",
        "plt.xlabel('x axis')\n",
        "plt.show()\n",
        "\n",
        "plt.subplot(2,1,2)\n",
        "plt.plot(x,y2, color ='y', linestyle = ':', linewidth='3')\n",
        "\n",
        "plt.grid(True)\n",
        "plt.title('Two lines in a plot')\n",
        "plt.xlabel('x axis')\n",
        "plt.show()\n"
      ],
      "metadata": {
        "colab": {
          "base_uri": "https://localhost:8080/",
          "height": 337
        },
        "id": "CNAl_m9QSzA-",
        "outputId": "179c5a82-1adb-497b-c4ae-1c649d795de3"
      },
      "execution_count": null,
      "outputs": [
        {
          "output_type": "display_data",
          "data": {
            "text/plain": [
              "<Figure size 432x288 with 1 Axes>"
            ],
            "image/png": "[encoded data removed]"
          },
          "metadata": {
            "needs_background": "light"
          }
        },
        {
          "output_type": "display_data",
          "data": {
            "text/plain": [
              "<Figure size 432x288 with 1 Axes>"
            ],
            "image/png": "[encoded data removed]"
          },
          "metadata": {
            "needs_background": "light"
          }
        }
      ]
    },
    {
      "cell_type": "code",
      "source": [
        "student = {'BOB': 87, 'julie':54, 'matt':30}"
      ],
      "metadata": {
        "id": "aAR2-LiiTeTn"
      },
      "execution_count": null,
      "outputs": []
    },
    {
      "cell_type": "code",
      "source": [
        "names =list(student.keys())"
      ],
      "metadata": {
        "id": "yrdq1_ouTlZT"
      },
      "execution_count": null,
      "outputs": []
    },
    {
      "cell_type": "code",
      "source": [
        "values = list(student.values())"
      ],
      "metadata": {
        "id": "zJPmwVqdTlVA"
      },
      "execution_count": null,
      "outputs": []
    },
    {
      "cell_type": "code",
      "source": [
        "plt.bar(names,values)\n",
        "plt.title('Distribution of marks')\n",
        "plt.xlabel('Names')\n",
        "plt.ylabel('marks')\n",
        "plt.show()"
      ],
      "metadata": {
        "colab": {
          "base_uri": "https://localhost:8080/",
          "height": 295
        },
        "id": "ELMhA5UITlSk",
        "outputId": "8d44dd66-1ac3-4e51-f76b-717e89ed936f"
      },
      "execution_count": null,
      "outputs": [
        {
          "output_type": "display_data",
          "data": {
            "text/plain": [
              "<Figure size 432x288 with 1 Axes>"
            ],
            "image/png": "[encoded data removed]"
          },
          "metadata": {
            "needs_background": "light"
          }
        }
      ]
    },
    {
      "cell_type": "code",
      "source": [
        "plt.barh(names,values, color='g')\n",
        "plt.title('Distribution of marks')\n",
        "plt.xlabel('Names')\n",
        "plt.ylabel('marks')\n",
        "plt.show()"
      ],
      "metadata": {
        "colab": {
          "base_uri": "https://localhost:8080/",
          "height": 295
        },
        "id": "oAPPbE0KTlP8",
        "outputId": "d2c760b6-2abb-47d3-9da4-3417637c167e"
      },
      "execution_count": null,
      "outputs": [
        {
          "output_type": "display_data",
          "data": {
            "text/plain": [
              "<Figure size 432x288 with 1 Axes>"
            ],
            "image/png": "[encoded data removed]"
          },
          "metadata": {
            "needs_background": "light"
          }
        }
      ]
    },
    {
      "cell_type": "code",
      "source": [
        "x= [2,3,4,5,6,7,8,9]\n",
        "y= [29,3,5,7,1,5,7,8]\n",
        "z= [30,40,50,10,90,6,7,8]"
      ],
      "metadata": {
        "id": "PHiUmM7jTlLt"
      },
      "execution_count": null,
      "outputs": []
    },
    {
      "cell_type": "code",
      "source": [
        "plt.scatter(x,y)"
      ],
      "metadata": {
        "colab": {
          "base_uri": "https://localhost:8080/",
          "height": 284
        },
        "id": "n2n2KHa0TlJc",
        "outputId": "2e507979-54b2-4734-becf-88e63b78a46d"
      },
      "execution_count": null,
      "outputs": [
        {
          "output_type": "execute_result",
          "data": {
            "text/plain": [
              "<matplotlib.collections.PathCollection at 0x7ff6a7116710>"
            ]
          },
          "metadata": {},
          "execution_count": 91
        },
        {
          "output_type": "display_data",
          "data": {
            "text/plain": [
              "<Figure size 432x288 with 1 Axes>"
            ],
            "image/png": "[encoded data removed]"
          },
          "metadata": {
            "needs_background": "light"
          }
        }
      ]
    },
    {
      "cell_type": "code",
      "source": [
        "plt.scatter(x,y, marker='*', c='r', s=80)"
      ],
      "metadata": {
        "colab": {
          "base_uri": "https://localhost:8080/",
          "height": 284
        },
        "id": "jTm7j-3oTk_V",
        "outputId": "c24eb0ac-9b74-4bb8-a122-cef9b8d41d3d"
      },
      "execution_count": null,
      "outputs": [
        {
          "output_type": "execute_result",
          "data": {
            "text/plain": [
              "<matplotlib.collections.PathCollection at 0x7ff6a71d03d0>"
            ]
          },
          "metadata": {},
          "execution_count": 93
        },
        {
          "output_type": "display_data",
          "data": {
            "text/plain": [
              "<Figure size 432x288 with 1 Axes>"
            ],
            "image/png": "[encoded data removed]"
          },
          "metadata": {
            "needs_background": "light"
          }
        }
      ]
    },
    {
      "cell_type": "code",
      "source": [
        "plt.scatter(x,y, marker='*', c='r', s=80)\n",
        "plt.scatter(x,z, marker='*', c='y', s=80)"
      ],
      "metadata": {
        "colab": {
          "base_uri": "https://localhost:8080/",
          "height": 282
        },
        "id": "zHBjzY9bUpoX",
        "outputId": "a26e4abf-228b-4a94-d066-5814ffab2519"
      },
      "execution_count": null,
      "outputs": [
        {
          "output_type": "execute_result",
          "data": {
            "text/plain": [
              "<matplotlib.collections.PathCollection at 0x7ff6a71f4f90>"
            ]
          },
          "metadata": {},
          "execution_count": 96
        },
        {
          "output_type": "display_data",
          "data": {
            "text/plain": [
              "<Figure size 432x288 with 1 Axes>"
            ],
            "image/png": "[encoded data removed]"
          },
          "metadata": {
            "needs_background": "light"
          }
        }
      ]
    },
    {
      "cell_type": "code",
      "source": [
        "data = [20,30,40,60,80,90,67,54,32,67,89]"
      ],
      "metadata": {
        "id": "OQaP8VleUpmR"
      },
      "execution_count": null,
      "outputs": []
    },
    {
      "cell_type": "code",
      "source": [
        "plt.hist(data)\n",
        "plt.show()"
      ],
      "metadata": {
        "colab": {
          "base_uri": "https://localhost:8080/",
          "height": 265
        },
        "id": "A52gqnRAUpkQ",
        "outputId": "3f8e3279-07ae-4996-8c42-d2087c5daaa9"
      },
      "execution_count": null,
      "outputs": [
        {
          "output_type": "display_data",
          "data": {
            "text/plain": [
              "<Figure size 432x288 with 1 Axes>"
            ],
            "image/png": "[encoded data removed]"
          },
          "metadata": {
            "needs_background": "light"
          }
        }
      ]
    },
    {
      "cell_type": "code",
      "source": [
        "plt.hist(data, color='g', bins=3)\n",
        "plt.show()"
      ],
      "metadata": {
        "colab": {
          "base_uri": "https://localhost:8080/",
          "height": 265
        },
        "id": "HxpUyD2kUpiS",
        "outputId": "9c6e78ce-93b6-4860-b50f-da491b8db66d"
      },
      "execution_count": null,
      "outputs": [
        {
          "output_type": "display_data",
          "data": {
            "text/plain": [
              "<Figure size 432x288 with 1 Axes>"
            ],
            "image/png": "[encoded data removed]"
          },
          "metadata": {
            "needs_background": "light"
          }
        }
      ]
    },
    {
      "cell_type": "code",
      "source": [
        "plt.boxplot(data)\n",
        "plt.show()"
      ],
      "metadata": {
        "colab": {
          "base_uri": "https://localhost:8080/",
          "height": 265
        },
        "id": "J-xeH-uSUpgO",
        "outputId": "3037daa1-1bdd-421f-9561-d12e15134a69"
      },
      "execution_count": null,
      "outputs": [
        {
          "output_type": "display_data",
          "data": {
            "text/plain": [
              "<Figure size 432x288 with 1 Axes>"
            ],
            "image/png": "[encoded data removed]"
          },
          "metadata": {
            "needs_background": "light"
          }
        }
      ]
    },
    {
      "cell_type": "code",
      "source": [
        "plt.violinplot(data)\n",
        "plt.show()"
      ],
      "metadata": {
        "colab": {
          "base_uri": "https://localhost:8080/",
          "height": 265
        },
        "id": "TWi9xZuQUpeK",
        "outputId": "bf025031-a61e-49fa-8ef9-30f2db7a686d"
      },
      "execution_count": null,
      "outputs": [
        {
          "output_type": "display_data",
          "data": {
            "text/plain": [
              "<Figure size 432x288 with 1 Axes>"
            ],
            "image/png": "[encoded data removed]"
          },
          "metadata": {
            "needs_background": "light"
          }
        }
      ]
    },
    {
      "cell_type": "code",
      "source": [
        "fruit = ['apple','Mango','guava','Pinapple']\n",
        "quantity = [10,20,30,40]"
      ],
      "metadata": {
        "id": "kTDFDnf8Upbo"
      },
      "execution_count": null,
      "outputs": []
    },
    {
      "cell_type": "code",
      "source": [
        "plt.pie(quantity,labels= fruit, autopct='%0.1f%%')\n",
        "plt.show()"
      ],
      "metadata": {
        "colab": {
          "base_uri": "https://localhost:8080/",
          "height": 248
        },
        "id": "Vt3i5n2EUpY9",
        "outputId": "54453b95-a961-4b38-fde1-06ae2342a1e7"
      },
      "execution_count": null,
      "outputs": [
        {
          "output_type": "display_data",
          "data": {
            "text/plain": [
              "<Figure size 432x288 with 1 Axes>"
            ],
            "image/png": "[encoded data removed]"
          },
          "metadata": {}
        }
      ]
    },
    {
      "cell_type": "code",
      "source": [
        "plt.pie(quantity,labels= fruit, radius=4)\n",
        "plt.pie([100], radius=2)\n",
        "plt.show()"
      ],
      "metadata": {
        "colab": {
          "base_uri": "https://localhost:8080/",
          "height": 769
        },
        "id": "HazHDVnqUpWd",
        "outputId": "44feeca6-9fe9-4077-aa0b-51df4c93ba5b"
      },
      "execution_count": null,
      "outputs": [
        {
          "output_type": "display_data",
          "data": {
            "text/plain": [
              "<Figure size 432x288 with 1 Axes>"
            ],
            "image/png": "[encoded data removed]"
          },
          "metadata": {}
        }
      ]
    },
    {
      "cell_type": "code",
      "source": [
        "num = int(input())\n",
        "sum=0\n",
        "for i in range(1,num):\n",
        "    remainder = num % i\n",
        "    if remainder == 0:\n",
        "        sum = sum + i\n",
        "if sum == num:\n",
        "    print(\"It is Perfect Number\")\n",
        "else:\n",
        "    print(\"It is not Perfect Number\")"
      ],
      "metadata": {
        "id": "lEVGoA6WXfL8",
        "colab": {
          "base_uri": "https://localhost:8080/"
        },
        "outputId": "154d9ac6-fc57-4f48-a464-c12dfa2bb63e"
      },
      "execution_count": null,
      "outputs": [
        {
          "output_type": "stream",
          "name": "stdout",
          "text": [
            "6\n",
            "It is Perfect Number\n"
          ]
        }
      ]
    },
    {
      "cell_type": "code",
      "source": [
        "string=input()\n",
        "if(string == string[:: - 1]):\n",
        "   print(\"String is a Palindrome\")\n",
        "else:\n",
        "   print(\"String is not a Palindrome\")\n",
        "   \n",
        "   "
      ],
      "metadata": {
        "id": "lV5TYdlmXfVC",
        "colab": {
          "base_uri": "https://localhost:8080/"
        },
        "outputId": "218cb626-4eca-4d5d-b9a1-cf8be277d996"
      },
      "execution_count": null,
      "outputs": [
        {
          "output_type": "stream",
          "name": "stdout",
          "text": [
            "madam\n",
            "String is a Palindrome\n"
          ]
        }
      ]
    },
    {
      "cell_type": "code",
      "source": [
        "string = input()\n",
        "b = string[-1::-1]\n",
        "if b == string:\n",
        "  print(\"String is a Palindrome\")\n",
        "else:\n",
        "  print(\"String is not a Palindrome\")"
      ],
      "metadata": {
        "id": "iiha3x4-XfRu",
        "colab": {
          "base_uri": "https://localhost:8080/"
        },
        "outputId": "a81abd98-2093-42a1-a252-1e68df924424"
      },
      "execution_count": null,
      "outputs": [
        {
          "output_type": "stream",
          "name": "stdout",
          "text": [
            "madam\n",
            "String is a Palindrome\n"
          ]
        }
      ]
    },
    {
      "cell_type": "code",
      "source": [],
      "metadata": {
        "id": "fjBzhcXfY-Jc"
      },
      "execution_count": null,
      "outputs": []
    },
    {
      "cell_type": "code",
      "source": [
        "str = 'cools'\n",
        "strl=str.lower()\n",
        "ch = 's'\n",
        "chl=ch.lower()\n",
        "print(strl.replace(chl,\" \"))"
      ],
      "metadata": {
        "id": "hdop2GQvY-G_",
        "colab": {
          "base_uri": "https://localhost:8080/"
        },
        "outputId": "1feab552-556b-4dd7-af42-9c46e5c73fa5"
      },
      "execution_count": null,
      "outputs": [
        {
          "output_type": "stream",
          "name": "stdout",
          "text": [
            "cool \n"
          ]
        }
      ]
    },
    {
      "cell_type": "code",
      "source": [
        "string = input()\n",
        "stringl = string.lower()\n",
        "character = input()\n",
        "chrlower = character.lower()\n",
        "result = string.replace(chrlower,'')\n",
        "print(result)\n"
      ],
      "metadata": {
        "id": "yH6jCyDTY9_x",
        "colab": {
          "base_uri": "https://localhost:8080/"
        },
        "outputId": "5066c683-5dfd-4416-c8ad-e48b9c7e2588"
      },
      "execution_count": null,
      "outputs": [
        {
          "output_type": "stream",
          "name": "stdout",
          "text": [
            "cools\n",
            "s\n",
            "cool\n"
          ]
        }
      ]
    },
    {
      "cell_type": "code",
      "source": [
        "a = int(input())\n",
        "b = int(input())\n",
        "print ('value of a is:', a)\n",
        "print('value of b is:', b)\n",
        "\n",
        "a = a+b\n",
        "b=a-b\n",
        "a=a-b\n",
        "\n",
        "print('After swapping')\n",
        "print('value of a is :', a)\n",
        "print('value of b is:', b)\n"
      ],
      "metadata": {
        "colab": {
          "base_uri": "https://localhost:8080/"
        },
        "id": "iOB8TAkavuSn",
        "outputId": "b6958a86-6a10-44f0-a5b2-81a8597da8e6"
      },
      "execution_count": null,
      "outputs": [
        {
          "output_type": "stream",
          "name": "stdout",
          "text": [
            "5\n",
            "6\n",
            "6 5\n"
          ]
        }
      ]
    },
    {
      "cell_type": "code",
      "source": [
        "a = 9\n",
        "b = 2\n",
        "print ('value of a is:',a)\n",
        "print('value of b is:',b)\n",
        "\n",
        "a = a+b\n",
        "b=a-b\n",
        "a=a-b\n",
        "\n",
        "print('After swapping')\n",
        "print('value of a is :',a)\n",
        "print('value of b is:',b)"
      ],
      "metadata": {
        "colab": {
          "base_uri": "https://localhost:8080/"
        },
        "id": "YXEX_ORQvuNm",
        "outputId": "edf7ea74-6e7f-47ab-befa-b5012f48d89f"
      },
      "execution_count": null,
      "outputs": [
        {
          "output_type": "stream",
          "name": "stdout",
          "text": [
            "value of a is: 9\n",
            "value of b is: 2\n",
            "After swapping\n",
            "value of a is : 2\n",
            "value of b is: 9\n"
          ]
        }
      ]
    },
    {
      "cell_type": "code",
      "source": [
        "str1 = 'Emma is a data scientist who knows Python. Emma works at google.'\n",
        "substr= 'Emma'\n",
        "index = str1.rfind(substr)\n",
        "print(\"Last occurrence of\", substr, \"starts at index\", index)"
      ],
      "metadata": {
        "colab": {
          "base_uri": "https://localhost:8080/"
        },
        "id": "XilBnUNivuIN",
        "outputId": "a240e18d-834f-4d55-c688-a9929a3bfa50"
      },
      "execution_count": null,
      "outputs": [
        {
          "output_type": "stream",
          "name": "stdout",
          "text": [
            "Last occurrence of Emma starts at index 43\n"
          ]
        }
      ]
    },
    {
      "cell_type": "code",
      "source": [
        "str1 = input()\n",
        "str2 = input()\n",
        "index = str1.rfind(str2)\n",
        "print(\"Last occurrence of\",str2,\"starts at\",index)"
      ],
      "metadata": {
        "colab": {
          "base_uri": "https://localhost:8080/"
        },
        "id": "jx_JS2z8vuFj",
        "outputId": "b8a72ac8-266c-461d-f4c2-25d2458f3fc6"
      },
      "execution_count": null,
      "outputs": [
        {
          "output_type": "stream",
          "name": "stdout",
          "text": [
            "Last occurrence of until starts at 22\n"
          ]
        }
      ]
    },
    {
      "cell_type": "code",
      "source": [],
      "metadata": {
        "id": "0tTjsGfVuRLp"
      },
      "execution_count": null,
      "outputs": []
    },
    {
      "cell_type": "code",
      "source": [
        "my_list= eval(input())\n",
        "for i in range(0,len(my_list)-1,2):\n",
        "  my_list[i],my_list[i+1] = my_list[i+1], my_list[i]\n",
        "print(my_list)"
      ],
      "metadata": {
        "id": "8WpNbnOjuRC9"
      },
      "execution_count": null,
      "outputs": []
    },
    {
      "cell_type": "code",
      "source": [
        "x = [\"red\", \"orange\", \"green\", \"blue\", \"white\"]\n",
        "y = [\"black\", \"yellow\", \"green\", \"blue\"]\n",
        "z = []\n",
        "for i in x:\n",
        "    if i not in y:\n",
        "        z.append(i)\n",
        "\n",
        "print(z)"
      ],
      "metadata": {
        "colab": {
          "base_uri": "https://localhost:8080/"
        },
        "id": "mqRfzassvwEC",
        "outputId": "d582ba12-7ae3-4e3e-e02f-bc8e5a04d3ec"
      },
      "execution_count": null,
      "outputs": [
        {
          "output_type": "stream",
          "name": "stdout",
          "text": [
            "['red', 'orange', 'white']\n"
          ]
        }
      ]
    },
    {
      "cell_type": "code",
      "source": [
        "L1=[\"red\", \"orange\", \"green\", \"blue\", \"white\"]\n",
        "L2=[\"black\", \"yellow\", \"green\", \"blue\"]\n",
        "diff_L1_L2 = list(set(L1)-set(L2))\n",
        "diff_L2_L1 = list(set(L2)-set(L1))\n",
        "print(diff_L1_L2)\n",
        "print(diff_L2_L1)"
      ],
      "metadata": {
        "colab": {
          "base_uri": "https://localhost:8080/"
        },
        "id": "9ao4crgZvwBj",
        "outputId": "10c8ee52-2912-4365-b7e9-66869b151ebe"
      },
      "execution_count": null,
      "outputs": [
        {
          "output_type": "stream",
          "name": "stdout",
          "text": [
            "['red', 'orange', 'white']\n",
            "['yellow', 'black']\n"
          ]
        }
      ]
    },
    {
      "cell_type": "code",
      "source": [
        "L1 = eval(input())\n",
        "L2 = eval(input())\n",
        "diff_L1_L2 = list(set(L1)-set(L2))\n",
        "diff_L2_L1 = list(set(L2)-set(L1))\n",
        "print(diff_L1_L2)\n",
        "print(diff_L2_L1)"
      ],
      "metadata": {
        "id": "JXi86PQe0RnA"
      },
      "execution_count": null,
      "outputs": []
    },
    {
      "cell_type": "code",
      "source": [
        "add=10\n",
        "mult1=12\n",
        "mult2= 4\n",
        "v = lambda a:a+15\n",
        "print(f\"After addition:\",v(add))\n",
        "u = lambda x ,y : x*y\n",
        "print(f\"After multiplication:\",u(mult1,mult2))"
      ],
      "metadata": {
        "colab": {
          "base_uri": "https://localhost:8080/"
        },
        "id": "Pp4Vtytv50XC",
        "outputId": "2b2f65ca-658d-4812-da8c-3a1c5ec8825e"
      },
      "execution_count": null,
      "outputs": [
        {
          "output_type": "stream",
          "name": "stdout",
          "text": [
            "After addition: 25\n",
            "After multiplication: 48\n"
          ]
        }
      ]
    },
    {
      "cell_type": "code",
      "source": [
        "text = ['abcd', 'abc', 'bcd', 'bkie', 'cder', 'cdsw', 'sdfsd', 'dagfa', 'acjd']\n",
        "char = 'a'\n",
        "list1=[]\n",
        "for i in text:\n",
        "  if i[0]== char:\n",
        "    list1.append(i)\n",
        "\n",
        "print(\"Items start with 'a' from the said list:\",list1)"
      ],
      "metadata": {
        "colab": {
          "base_uri": "https://localhost:8080/"
        },
        "id": "PnFcuf6yCdOn",
        "outputId": "7636c3f5-0bbe-4e78-af4d-65154f8baa17"
      },
      "execution_count": null,
      "outputs": [
        {
          "output_type": "stream",
          "name": "stdout",
          "text": [
            "Items start with 'a' from the said list: ['abcd', 'abc', 'acjd']\n"
          ]
        }
      ]
    },
    {
      "cell_type": "code",
      "source": [
        "text = eval(input())\n",
        "char = input()\n",
        "list1=[]\n",
        "for i in text:\n",
        "  if i[0]== char:\n",
        "    list1.append(i)\n",
        "\n",
        "print(\"Items start with:\", char,\"from the said list:\")\n",
        "print(list1)"
      ],
      "metadata": {
        "colab": {
          "base_uri": "https://localhost:8080/"
        },
        "id": "8xqkYdtpCdLI",
        "outputId": "15e2c860-d515-4a95-93af-4575fd00943f"
      },
      "execution_count": null,
      "outputs": [
        {
          "output_type": "stream",
          "name": "stdout",
          "text": [
            "['abcd', 'abc', 'bcd', 'bkie', 'cder', 'cdsw', 'sdfsd', 'dagfa', 'acjd']\n",
            "a\n",
            "Items start with: a from the said list:\n",
            "['abcd', 'abc', 'acjd']\n"
          ]
        }
      ]
    },
    {
      "cell_type": "code",
      "source": [
        "s= input()\n",
        "ch=input()\n",
        "starts_with = lambda x : True if x.startswith('ch') else False\n",
        "print(starts_with('s'))\n"
      ],
      "metadata": {
        "colab": {
          "base_uri": "https://localhost:8080/"
        },
        "id": "RyGMzWANEumy",
        "outputId": "aec4639e-147f-4ff5-bb8d-864ebe64c89a"
      },
      "execution_count": null,
      "outputs": [
        {
          "output_type": "stream",
          "name": "stdout",
          "text": [
            "Python\n",
            "P\n",
            "False\n"
          ]
        }
      ]
    },
    {
      "cell_type": "code",
      "source": [
        "s= 'Python'\n",
        "ch= 'P'\n",
        "starts_with = lambda x : True if x.startswith('ch') else False\n",
        "print(starts_with('ch'))"
      ],
      "metadata": {
        "colab": {
          "base_uri": "https://localhost:8080/"
        },
        "id": "f1ziYnfbK-2P",
        "outputId": "91a78380-1509-4787-fe70-bdf93454da45"
      },
      "execution_count": null,
      "outputs": [
        {
          "output_type": "stream",
          "name": "stdout",
          "text": [
            "True\n"
          ]
        }
      ]
    },
    {
      "cell_type": "code",
      "source": [
        "def next_prime(n):\n",
        "  while True:\n",
        "    n=n+1\n",
        "    for  i in range (2,n):\n",
        "      if(n%i==0):\n",
        "        break\n",
        "      else:\n",
        "        return n\n",
        "\n",
        "  "
      ],
      "metadata": {
        "id": "DphxvKW6LI1P"
      },
      "execution_count": null,
      "outputs": []
    },
    {
      "cell_type": "code",
      "source": [
        "next_prime(11)"
      ],
      "metadata": {
        "colab": {
          "base_uri": "https://localhost:8080/"
        },
        "id": "VuEhr-7jPbir",
        "outputId": "42919471-d56d-4624-edfb-0f3730c7035c"
      },
      "execution_count": null,
      "outputs": [
        {
          "output_type": "execute_result",
          "data": {
            "text/plain": [
              "13"
            ]
          },
          "metadata": {},
          "execution_count": 23
        }
      ]
    },
    {
      "cell_type": "code",
      "source": [
        "def nextprime(n):\n",
        "    p=n+1\n",
        "    for i in range(2,p):\n",
        "        if(p%i==0):\n",
        "            p=p+1\n",
        "    else:\n",
        "            print('The Next prime number of', n, 'is:', p)\n",
        "n=int(input())\n",
        "nextprime(n)"
      ],
      "metadata": {
        "id": "j-f-YD_uPcEl"
      },
      "execution_count": null,
      "outputs": []
    },
    {
      "cell_type": "code",
      "source": [
        "x_1, y_1 = 6, 7\n",
        "x_2, y_2 = 5, 4\n",
        "Eucli_dist = ((x_2-x_1)**2 + (y_2-y_1)**2)**(0.5)\n",
        "print(\"The Euclidean Distance between the above given two points 'PQ' = \" + str(Eucli_dist))"
      ],
      "metadata": {
        "colab": {
          "base_uri": "https://localhost:8080/"
        },
        "id": "hpNEWdWgPcB3",
        "outputId": "2473616e-7667-435d-983c-64c32c7a68c4"
      },
      "execution_count": null,
      "outputs": [
        {
          "output_type": "stream",
          "name": "stdout",
          "text": [
            "The Euclidean Distance between the above given two points 'PQ' = 3.1622776601683795\n"
          ]
        }
      ]
    },
    {
      "cell_type": "code",
      "source": [
        "x_1 , y_1 = 6,7\n",
        "x_2 , y_2 = 5,4\n",
        "Euclidian_dist = ((x_2-x_1)**2+ (y_2-y_1)**2)**(0.5)\n",
        "print(\"The Euclidean Distance between the above given two points 'PQ'= \"+ str(Euclidian_dist))\n"
      ],
      "metadata": {
        "colab": {
          "base_uri": "https://localhost:8080/"
        },
        "id": "bq3PWk3RPb9V",
        "outputId": "d6e9ffa5-8534-4819-89e9-25d8d3110afa"
      },
      "execution_count": null,
      "outputs": [
        {
          "output_type": "stream",
          "name": "stdout",
          "text": [
            "The Euclidean Distance between the above given two points 'PQ'= 3.1622776601683795\n"
          ]
        }
      ]
    },
    {
      "cell_type": "code",
      "source": [
        "num = [1, 2, 3, 4, 5, 6, 7, 8, 9, 10]\n",
        "print('Even numbers from the said list:',)\n",
        "even_nums = list(filter(lambda x : x%2==0,num))\n",
        "print(even_nums)\n",
        "\n",
        "print('Odd numbers from the said list:')\n",
        "odd_nums = list(filter(lambda x : x%2!=0,num))\n",
        "print(odd_nums)\n"
      ],
      "metadata": {
        "colab": {
          "base_uri": "https://localhost:8080/"
        },
        "id": "Zw5vMPObYigE",
        "outputId": "584f0652-2d9f-4aa0-bbb3-d450e7b79612"
      },
      "execution_count": null,
      "outputs": [
        {
          "output_type": "stream",
          "name": "stdout",
          "text": [
            "Even numbers from the said list:\n",
            "[2, 4, 6, 8, 10]\n",
            "Odd numbers from the said list:\n",
            "[1, 3, 5, 7, 9]\n"
          ]
        }
      ]
    },
    {
      "cell_type": "code",
      "source": [
        "num = [1, 2, 3, 4, 5, 6, 7, 8, 9, 10]\n",
        "print('Even numbers from the said list:',)\n",
        "even_nums = list(filter(lambda x : x%2==0,num))\n",
        "print(even_nums)\n",
        "\n",
        "print('Odd numbers from the said list:')\n",
        "odd_nums = list(filter(lambda x : x%2!=0,num))\n",
        "print(odd_nums)"
      ],
      "metadata": {
        "id": "RrcUNXGTYidG"
      },
      "execution_count": null,
      "outputs": []
    },
    {
      "cell_type": "code",
      "source": [
        "L1 = [\"red\", \"orange\", \"green\", \"blue\", \"white\"]\n",
        "L2 = [\"black\", \"yellow\", \"green\", \"blue\"]\n",
        "a=set(L1) - set(L2)\n",
        "b=set(L2) - set(L1)\n",
        "print(\"L1-L2 =\", list(a))\n",
        "print(\"L2-L1 =\", list(b))"
      ],
      "metadata": {
        "id": "KzIYudjCiJWw",
        "outputId": "4c7320ca-0f3f-499b-cccc-d3f73f470322",
        "colab": {
          "base_uri": "https://localhost:8080/"
        }
      },
      "execution_count": null,
      "outputs": [
        {
          "output_type": "stream",
          "name": "stdout",
          "text": [
            "L1-L2 = ['white', 'red', 'orange']\n",
            "L2-L1 = ['black', 'yellow']\n"
          ]
        }
      ]
    },
    {
      "cell_type": "code",
      "source": [
        "n = int(input())\n",
        "sum = 0\n",
        "order = len(str(n))\n",
        "copy_n = n\n",
        "while (n>0):\n",
        "  digit = n%10\n",
        "  sum = sum + digit**order\n",
        "  n = n//10\n",
        "\n",
        "if (sum ==copy_n):\n",
        "  print(\"Number is Armstrong\")\n",
        "\n",
        "\n",
        "\n"
      ],
      "metadata": {
        "id": "vJyX7mpliJQd",
        "colab": {
          "base_uri": "https://localhost:8080/"
        },
        "outputId": "a7ef2ce7-0992-48d0-f958-32465d7d10db"
      },
      "execution_count": null,
      "outputs": [
        {
          "output_type": "stream",
          "name": "stdout",
          "text": [
            "Number is Armstrong\n"
          ]
        }
      ]
    },
    {
      "cell_type": "code",
      "source": [
        "strs = \"The quick brown fox jumps over the lazy dog.\"\n",
        "\n",
        "strs2 = strs.split(\" \")\n",
        "\n",
        "for i in strs2:\n",
        "  if len(i)%2 != 0:\n",
        "    print(end=\"\")\n",
        "    print(i)\n",
        "    \n",
        "\n",
        "\n",
        "  \n"
      ],
      "metadata": {
        "id": "yPyMUeutiJNy",
        "colab": {
          "base_uri": "https://localhost:8080/"
        },
        "outputId": "2e26e243-809c-474e-ffa2-2508d6ab91d0"
      },
      "execution_count": 3,
      "outputs": [
        {
          "output_type": "stream",
          "name": "stdout",
          "text": [
            "The\n",
            "quick\n",
            "brown\n",
            "fox\n",
            "jumps\n",
            "the\n"
          ]
        }
      ]
    },
    {
      "cell_type": "code",
      "source": [
        "\n",
        "\n",
        "\n"
      ],
      "metadata": {
        "id": "D-HUIZyIiKex"
      },
      "execution_count": null,
      "outputs": []
    },
    {
      "cell_type": "code",
      "source": [],
      "metadata": {
        "id": "dxxQi3AgiKZd"
      },
      "execution_count": null,
      "outputs": []
    },
    {
      "cell_type": "code",
      "source": [],
      "metadata": {
        "id": "aVG9hMiZiKUH"
      },
      "execution_count": null,
      "outputs": []
    },
    {
      "cell_type": "code",
      "source": [],
      "metadata": {
        "id": "DamOQc-IiKRy"
      },
      "execution_count": null,
      "outputs": []
    }
  ],
  "metadata": {
    "colab": {
      "provenance": [],
      "authorship_tag": "ABX9TyPUE1LCHuJweIVv1OuC5oiw",
      "include_colab_link": true
    },
    "kernelspec": {
      "display_name": "Python 3",
      "name": "python3"
    },
    "language_info": {
      "name": "python"
    }
  },
  "nbformat": 4,
  "nbformat_minor": 0
}