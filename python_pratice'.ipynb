{
  "nbformat": 4,
  "nbformat_minor": 0,
  "metadata": {
    "colab": {
      "provenance": [],
      "authorship_tag": "ABX9TyPhZ0ryF28N1QDGROTqlJEV",
      "include_colab_link": true
    },
    "kernelspec": {
      "name": "python3",
      "display_name": "Python 3"
    },
    "language_info": {
      "name": "python"
    }
  },
  "cells": [
    {
      "cell_type": "markdown",
      "metadata": {
        "id": "view-in-github",
        "colab_type": "text"
      },
      "source": [
        "<a href=\"https://colab.research.google.com/github/SomyaH99/python-personal-/blob/main/python_pratice'.ipynb\" target=\"_parent\"><img src=\"https://colab.research.google.com/assets/colab-badge.svg\" alt=\"Open In Colab\"/></a>"
      ]
    },
    {
      "cell_type": "markdown",
      "source": [
        "practise workbook"
      ],
      "metadata": {
        "id": "Zxhmw90aZtmp"
      }
    },
    {
      "cell_type": "markdown",
      "source": [
        "different data types in python:\n",
        "1. numeric\n",
        "2. string\n",
        "3. boolean\n",
        "4. datetime"
      ],
      "metadata": {
        "id": "l9IpkylxaVtY"
      }
    },
    {
      "cell_type": "markdown",
      "source": [
        "Indentation in Python:\n",
        "Indentation refers to the spaces at the beginning of a code line.\n"
      ],
      "metadata": {
        "id": "gC0RLM5Ocrxf"
      }
    },
    {
      "cell_type": "code",
      "source": [
        "# example of indentation\n",
        "if 5>2:\n",
        "  print('Five is greater than 2')"
      ],
      "metadata": {
        "colab": {
          "base_uri": "https://localhost:8080/"
        },
        "id": "Ec9lEXRhcz7H",
        "outputId": "528238cc-8cb5-48d9-f51b-20ec1b790e61"
      },
      "execution_count": null,
      "outputs": [
        {
          "output_type": "stream",
          "name": "stdout",
          "text": [
            "Five is greater than 2\n"
          ]
        }
      ]
    },
    {
      "cell_type": "markdown",
      "source": [
        "Python variable:\n",
        "Variable are containers for storing data values. A variable is created the moment you first assign a value to it."
      ],
      "metadata": {
        "id": "Mqw2aaNJdKDv"
      }
    },
    {
      "cell_type": "markdown",
      "source": [
        "* A variable name must start with a letter or the underscore character\n",
        "* A variable name cannot start with a number\n",
        "* A variable name can only contain alpha-numeric characters and underscores (A-z, 0-9, and _ )\n",
        "* Variable names are case-sensitive (age, Age and AGE are three different variables)"
      ],
      "metadata": {
        "id": "RMrwQYsjd7xn"
      }
    },
    {
      "cell_type": "markdown",
      "source": [
        "Python Variables - Assign Multiple Values"
      ],
      "metadata": {
        "id": "HmDCZnVGereN"
      }
    },
    {
      "cell_type": "markdown",
      "source": [
        "Many Values to Multiple Variables\n",
        "Python allows you to assign values to multiple variables in one line:"
      ],
      "metadata": {
        "id": "FYjvQCWGeusz"
      }
    },
    {
      "cell_type": "code",
      "source": [
        "x, y,z = 'orange', 'banana', 'cherry'\n",
        "print(x)\n",
        "print(y)\n",
        "print(z)"
      ],
      "metadata": {
        "colab": {
          "base_uri": "https://localhost:8080/"
        },
        "id": "XDzwh3CEerPN",
        "outputId": "e888db07-d340-4e75-ec7d-cf2b4fe373ca"
      },
      "execution_count": null,
      "outputs": [
        {
          "output_type": "stream",
          "name": "stdout",
          "text": [
            "orange\n",
            "banana\n",
            "cherry\n"
          ]
        }
      ]
    },
    {
      "cell_type": "markdown",
      "source": [
        "One Value to Multiple Variables\n",
        "* And you can assign the same value to multiple variables in one line:"
      ],
      "metadata": {
        "id": "3SeAb8QcfADD"
      }
    },
    {
      "cell_type": "code",
      "source": [
        "x = y = z = \"Orange\"\n",
        "print(x)\n",
        "print(y)\n",
        "print(z)"
      ],
      "metadata": {
        "colab": {
          "base_uri": "https://localhost:8080/"
        },
        "id": "we5CiPVSd7dn",
        "outputId": "faf441fa-f092-4b8b-e309-ede253c03617"
      },
      "execution_count": null,
      "outputs": [
        {
          "output_type": "stream",
          "name": "stdout",
          "text": [
            "Orange\n",
            "Orange\n",
            "Orange\n"
          ]
        }
      ]
    },
    {
      "cell_type": "markdown",
      "source": [
        "Unpack a Collection"
      ],
      "metadata": {
        "id": "C4pJuc1ufIUz"
      }
    },
    {
      "cell_type": "markdown",
      "source": [
        "if you have values in lists, tuples etc python allows you to extract the values into variables. this is called unpackng in python\n"
      ],
      "metadata": {
        "id": "n9YA55WofRuK"
      }
    },
    {
      "cell_type": "code",
      "source": [
        "fruits= ['apple','banana', 'orage']\n",
        "x,y,z = fruits\n",
        "print(x)\n",
        "print(y)\n",
        "print(z)"
      ],
      "metadata": {
        "colab": {
          "base_uri": "https://localhost:8080/"
        },
        "id": "9mxtpGEJdo6P",
        "outputId": "36cbf81e-08b8-48d2-cb14-cc5a91325e97"
      },
      "execution_count": null,
      "outputs": [
        {
          "output_type": "stream",
          "name": "stdout",
          "text": [
            "apple\n",
            "banana\n",
            "orage\n"
          ]
        }
      ]
    },
    {
      "cell_type": "markdown",
      "source": [
        "output variables \n"
      ],
      "metadata": {
        "id": "a4SDKc66gNRj"
      }
    },
    {
      "cell_type": "code",
      "source": [
        "x = 5\n",
        "y = \"John\"\n",
        "print(x, y)"
      ],
      "metadata": {
        "colab": {
          "base_uri": "https://localhost:8080/"
        },
        "id": "KR_EzHCUdyVX",
        "outputId": "43442f93-1b2d-446b-c6ef-aada3f457a9a"
      },
      "execution_count": null,
      "outputs": [
        {
          "output_type": "stream",
          "name": "stdout",
          "text": [
            "5 John\n"
          ]
        }
      ]
    },
    {
      "cell_type": "markdown",
      "source": [
        "Global Variables\n",
        "Variables that are created outside of a function are known as global variables.\n",
        "Global variables can be used by everyone, both inside of functions and outside."
      ],
      "metadata": {
        "id": "xi-D8nXjiW_L"
      }
    },
    {
      "cell_type": "markdown",
      "source": [
        "Strings slicing.\n"
      ],
      "metadata": {
        "id": "0qQNhPrdbi3G"
      }
    },
    {
      "cell_type": "markdown",
      "source": [
        "Strings in python are surrounded by either single quotation marks, or double quotation marks."
      ],
      "metadata": {
        "id": "PpOoN-C41sm2"
      }
    },
    {
      "cell_type": "markdown",
      "source": [
        "Slice From the Start"
      ],
      "metadata": {
        "id": "aAeHnsZA1sik"
      }
    },
    {
      "cell_type": "markdown",
      "source": [
        "By leaving out the start index, the range will start at the first character:"
      ],
      "metadata": {
        "id": "aNbo4LuE147o"
      }
    },
    {
      "cell_type": "code",
      "source": [
        "b = \"Hello, World!\"\n",
        "print(b[:5])"
      ],
      "metadata": {
        "colab": {
          "base_uri": "https://localhost:8080/"
        },
        "id": "8WGO2qXw2ACp",
        "outputId": "a240b69a-5fe8-46f1-aa22-db3c6328c3f1"
      },
      "execution_count": null,
      "outputs": [
        {
          "output_type": "stream",
          "name": "stdout",
          "text": [
            "Hello\n"
          ]
        }
      ]
    },
    {
      "cell_type": "markdown",
      "source": [
        "By leaving out the end index, the range will go to the end:"
      ],
      "metadata": {
        "id": "z_sqKUEQ19_y"
      }
    },
    {
      "cell_type": "code",
      "source": [
        "b = \"Hello, World!\"\n",
        "print(b[2:])"
      ],
      "metadata": {
        "colab": {
          "base_uri": "https://localhost:8080/"
        },
        "id": "amP7rWKQ12s4",
        "outputId": "002ebf91-0a2b-45d5-8815-ddf31fb46c0f"
      },
      "execution_count": null,
      "outputs": [
        {
          "output_type": "stream",
          "name": "stdout",
          "text": [
            "llo, World!\n"
          ]
        }
      ]
    },
    {
      "cell_type": "markdown",
      "source": [
        "Negative Indexing\n",
        "Use negative indexes to start the slice from the end of the string:"
      ],
      "metadata": {
        "id": "N1PSiwf-2Dc3"
      }
    },
    {
      "cell_type": "code",
      "source": [
        "b = \"Hello, World!\"\n",
        "print(b[-5:-2])"
      ],
      "metadata": {
        "colab": {
          "base_uri": "https://localhost:8080/"
        },
        "id": "qVfqaaz_1rCt",
        "outputId": "39666ce6-40c0-48af-f87c-11f093a39288"
      },
      "execution_count": null,
      "outputs": [
        {
          "output_type": "stream",
          "name": "stdout",
          "text": [
            "orl\n"
          ]
        }
      ]
    },
    {
      "cell_type": "markdown",
      "source": [
        "Upper Case\n",
        "\n",
        "Lower Case\n",
        "\n",
        "Remove Whitespace"
      ],
      "metadata": {
        "id": "bQC4wW2u5EA5"
      }
    },
    {
      "cell_type": "code",
      "source": [
        "a = \"Hello, World!\"\n",
        "print(a.upper())"
      ],
      "metadata": {
        "colab": {
          "base_uri": "https://localhost:8080/"
        },
        "id": "DxhFTihr5QWZ",
        "outputId": "1f99dcfc-ebf9-42cc-a975-b3ed8c74794b"
      },
      "execution_count": null,
      "outputs": [
        {
          "output_type": "stream",
          "name": "stdout",
          "text": [
            "HELLO, WORLD!\n"
          ]
        }
      ]
    },
    {
      "cell_type": "code",
      "source": [
        "a = \"Hello, World!\"\n",
        "print(a.lower())"
      ],
      "metadata": {
        "colab": {
          "base_uri": "https://localhost:8080/"
        },
        "id": "Wst9ap-n5QT7",
        "outputId": "0b12eb4a-af08-4987-88c0-b34986bd5d1e"
      },
      "execution_count": null,
      "outputs": [
        {
          "output_type": "stream",
          "name": "stdout",
          "text": [
            "hello, world!\n"
          ]
        }
      ]
    },
    {
      "cell_type": "code",
      "execution_count": null,
      "metadata": {
        "id": "Tv9Blup7iaZa",
        "colab": {
          "base_uri": "https://localhost:8080/"
        },
        "outputId": "64fb8e39-97ed-4c5b-cf72-eaf6a73983a8"
      },
      "outputs": [
        {
          "output_type": "stream",
          "name": "stdout",
          "text": [
            "Hello, World!\n"
          ]
        }
      ],
      "source": [
        "a = \" Hello, World! \"\n",
        "print(a.strip())"
      ]
    },
    {
      "cell_type": "markdown",
      "source": [
        "Remove Whitespace"
      ],
      "metadata": {
        "id": "GMs7OdmC5Vl_"
      }
    },
    {
      "cell_type": "markdown",
      "source": [
        "The strip() method removes any whitespace from the beginning or the end:"
      ],
      "metadata": {
        "id": "nzsldA3B5Vhb"
      }
    },
    {
      "cell_type": "markdown",
      "source": [],
      "metadata": {
        "id": "bnWi86j25Ve7"
      }
    },
    {
      "cell_type": "code",
      "source": [
        "a = \" Hello,    World! \"\n",
        "print(a.strip()) "
      ],
      "metadata": {
        "colab": {
          "base_uri": "https://localhost:8080/"
        },
        "id": "r2qryOUJ5VYy",
        "outputId": "d1c9a85c-3bc3-4dae-9232-e8117c931518"
      },
      "execution_count": null,
      "outputs": [
        {
          "output_type": "stream",
          "name": "stdout",
          "text": [
            "Hello,    World!\n"
          ]
        }
      ]
    },
    {
      "cell_type": "markdown",
      "source": [
        "Replace String"
      ],
      "metadata": {
        "id": "VYeeC6se5rup"
      }
    },
    {
      "cell_type": "markdown",
      "source": [
        "The replace() method replaces a string with another string:"
      ],
      "metadata": {
        "id": "J2ZuQCxO5uk5"
      }
    },
    {
      "cell_type": "code",
      "source": [
        "a = \"Hello, World!\"\n",
        "print(a.replace(\"H\", \"J\"))"
      ],
      "metadata": {
        "colab": {
          "base_uri": "https://localhost:8080/"
        },
        "id": "yb5eUonG5uGS",
        "outputId": "ff10c859-6c2f-4668-f992-ef7b83c34eef"
      },
      "execution_count": null,
      "outputs": [
        {
          "output_type": "stream",
          "name": "stdout",
          "text": [
            "Jello, World!\n"
          ]
        }
      ]
    },
    {
      "cell_type": "markdown",
      "source": [
        "Split String"
      ],
      "metadata": {
        "id": "D3jQ0EEy5zba"
      }
    },
    {
      "cell_type": "markdown",
      "source": [
        "The split() method returns a list where the text between the specified separator becomes the list items."
      ],
      "metadata": {
        "id": "zeNaAuwm52R6"
      }
    },
    {
      "cell_type": "code",
      "source": [
        "a = \"Hello, World!\"\n",
        "print(a.split(\",\")) "
      ],
      "metadata": {
        "colab": {
          "base_uri": "https://localhost:8080/"
        },
        "id": "uDuy-icK508S",
        "outputId": "67a50486-e753-4bb9-ab0f-1720649bcec5"
      },
      "execution_count": null,
      "outputs": [
        {
          "output_type": "stream",
          "name": "stdout",
          "text": [
            "['Hello', ' World!']\n"
          ]
        }
      ]
    },
    {
      "cell_type": "markdown",
      "source": [
        "String Concatenation\n",
        "\n",
        "To concatenate, or combine, two strings you can use the + operator."
      ],
      "metadata": {
        "id": "CQ2SsiZt6Boq"
      }
    },
    {
      "cell_type": "code",
      "source": [
        "a = \"Hello\"\n",
        "b = \"World\"\n",
        "c = a + b\n",
        "print(c)"
      ],
      "metadata": {
        "colab": {
          "base_uri": "https://localhost:8080/"
        },
        "id": "nF2Iow4o5sWu",
        "outputId": "a96de335-4a46-4d75-a93c-872bbf7e1e8c"
      },
      "execution_count": null,
      "outputs": [
        {
          "output_type": "stream",
          "name": "stdout",
          "text": [
            "HelloWorld\n"
          ]
        }
      ]
    },
    {
      "cell_type": "markdown",
      "source": [
        "To add a space between them, add a \" \":"
      ],
      "metadata": {
        "id": "AigzE67o6HU6"
      }
    },
    {
      "cell_type": "code",
      "source": [
        "a = \"Hello\"\n",
        "b = \"World\"\n",
        "c = a + \" \" + b\n",
        "print(c)"
      ],
      "metadata": {
        "colab": {
          "base_uri": "https://localhost:8080/"
        },
        "id": "DrG3RvAU6G6R",
        "outputId": "78827a92-747f-42cd-9909-cf2cdf8e7d98"
      },
      "execution_count": null,
      "outputs": [
        {
          "output_type": "stream",
          "name": "stdout",
          "text": [
            "Hello World\n"
          ]
        }
      ]
    },
    {
      "cell_type": "markdown",
      "source": [
        "String Format"
      ],
      "metadata": {
        "id": "Cf8iSvWl6bBx"
      }
    },
    {
      "cell_type": "markdown",
      "source": [
        "The format() method takes the passed arguments, formats them, and places them in the string where the placeholders {} are:\n"
      ],
      "metadata": {
        "id": "d4e5fDM767OD"
      }
    },
    {
      "cell_type": "code",
      "source": [
        "age = 36\n",
        "text = \"my name is somya, and I am {}\"\n",
        "print(text.format(age))"
      ],
      "metadata": {
        "colab": {
          "base_uri": "https://localhost:8080/"
        },
        "id": "bSOqpNsE6aw6",
        "outputId": "19cc01ef-e84e-45f8-f070-a466126d397b"
      },
      "execution_count": null,
      "outputs": [
        {
          "output_type": "stream",
          "name": "stdout",
          "text": [
            "my name is somya, and I am 36\n"
          ]
        }
      ]
    },
    {
      "cell_type": "code",
      "source": [
        "quantity = 3\n",
        "item = 567\n",
        "price = 49.95\n",
        "myorder = \"i want {} pieces of item {} for {} dollars.\"\n",
        "print(myorder.format(quantity,item,price))"
      ],
      "metadata": {
        "colab": {
          "base_uri": "https://localhost:8080/"
        },
        "id": "brCTaSlh7Whh",
        "outputId": "fba97a5b-b5da-4bd2-8650-15855c1f7990"
      },
      "execution_count": null,
      "outputs": [
        {
          "output_type": "stream",
          "name": "stdout",
          "text": [
            "i want 3 pieces of item 567 for 49.95 dollars.\n"
          ]
        }
      ]
    },
    {
      "cell_type": "code",
      "source": [
        "a = 10 \n",
        "b=20 \n",
        "c = 30"
      ],
      "metadata": {
        "id": "nGYY7RAcH9Og"
      },
      "execution_count": null,
      "outputs": []
    },
    {
      "cell_type": "code",
      "source": [
        "if a>b:\n",
        "  print(\"B is greater than a\")"
      ],
      "metadata": {
        "id": "73YySMDL7261"
      },
      "execution_count": null,
      "outputs": []
    },
    {
      "cell_type": "code",
      "source": [
        "if a>b:\n",
        "  print(\"a is greater than b\")\n",
        "else:\n",
        "  print('b is greater than a ')"
      ],
      "metadata": {
        "id": "dy-Lo6sq72oF",
        "colab": {
          "base_uri": "https://localhost:8080/"
        },
        "outputId": "743c2dee-9eba-4e9c-b2de-8981d46440f7"
      },
      "execution_count": null,
      "outputs": [
        {
          "output_type": "stream",
          "name": "stdout",
          "text": [
            "b is greater than a \n"
          ]
        }
      ]
    },
    {
      "cell_type": "markdown",
      "source": [
        "a = 10\n",
        "b=20\n",
        "c = 30\n"
      ],
      "metadata": {
        "id": "KwzB6H16HyIN"
      }
    },
    {
      "cell_type": "code",
      "source": [
        "if (a>b) & (a>c):\n",
        "  print(\"A is greatest\")\n",
        "elif (b>a) & (b>c):\n",
        "  print('b is greatest')\n",
        "else:\n",
        "  print('c is the greatest')"
      ],
      "metadata": {
        "colab": {
          "base_uri": "https://localhost:8080/"
        },
        "id": "6tSN5ASuH07K",
        "outputId": "9035aa54-51ce-4730-f580-900ba019a845"
      },
      "execution_count": null,
      "outputs": [
        {
          "output_type": "stream",
          "name": "stdout",
          "text": [
            "c is the greatest\n"
          ]
        }
      ]
    },
    {
      "cell_type": "code",
      "source": [
        "tup1 = ('a','b', 'c')"
      ],
      "metadata": {
        "id": "9RKVufXrIFfs"
      },
      "execution_count": null,
      "outputs": []
    },
    {
      "cell_type": "code",
      "source": [
        "if 'z' in tup1:\n",
        "  print(\"value a is present in tup1\")\n",
        "else:\n",
        "  print(\"value z is not present\")\n"
      ],
      "metadata": {
        "id": "Qv1Ud5wkIGvT"
      },
      "execution_count": null,
      "outputs": []
    },
    {
      "cell_type": "code",
      "source": [
        "i = 1\n",
        "while i<=10:\n",
        "  print(i)\n",
        "  i = i + 1"
      ],
      "metadata": {
        "id": "aYmJcUrdIIbG"
      },
      "execution_count": null,
      "outputs": []
    },
    {
      "cell_type": "code",
      "source": [
        "i=1\n",
        "n=2\n",
        "while i<=10:\n",
        "  print(n, \"*\", i, \"=\", n*i)\n",
        "  i = i+1"
      ],
      "metadata": {
        "id": "DzWnIuXmIKz0"
      },
      "execution_count": null,
      "outputs": []
    },
    {
      "cell_type": "code",
      "source": [
        "l1 = ['mango', 'apple', 'grapes', 'orange']"
      ],
      "metadata": {
        "id": "s3j4k8J3IMZb"
      },
      "execution_count": null,
      "outputs": []
    },
    {
      "cell_type": "code",
      "source": [
        "for i in l1:\n",
        "  print(i)"
      ],
      "metadata": {
        "id": "-46p9ekbIMW3"
      },
      "execution_count": null,
      "outputs": []
    },
    {
      "cell_type": "code",
      "source": [
        "l1 = ['orange', 'black', 'white']\n",
        "l2 = ['chair', 'book','laptop']"
      ],
      "metadata": {
        "id": "uCVlReiGIMTe"
      },
      "execution_count": null,
      "outputs": []
    },
    {
      "cell_type": "code",
      "source": [
        "for i in l1:\n",
        "  for j in l2:\n",
        "    print(i,j)"
      ],
      "metadata": {
        "id": "hVBE5jXCIMPC"
      },
      "execution_count": null,
      "outputs": []
    },
    {
      "cell_type": "markdown",
      "source": [
        "Functions;"
      ],
      "metadata": {
        "id": "D-tV2WcJ7U5q"
      }
    },
    {
      "cell_type": "code",
      "source": [
        "def hello():\n",
        "  print(\"hello world\")"
      ],
      "metadata": {
        "id": "YW7VhKurIMMb"
      },
      "execution_count": null,
      "outputs": []
    },
    {
      "cell_type": "code",
      "source": [
        "hello()"
      ],
      "metadata": {
        "colab": {
          "base_uri": "https://localhost:8080/"
        },
        "id": "S2bvPXr_IXP2",
        "outputId": "26cc01c7-9d77-4cf3-8b2c-29b6f8d05a31"
      },
      "execution_count": null,
      "outputs": [
        {
          "output_type": "stream",
          "name": "stdout",
          "text": [
            "hello world\n"
          ]
        }
      ]
    },
    {
      "cell_type": "code",
      "source": [
        "def add_10(x):\n",
        "  return x+10"
      ],
      "metadata": {
        "id": "xvwJKJSEIbJK"
      },
      "execution_count": null,
      "outputs": []
    },
    {
      "cell_type": "code",
      "source": [
        "add_10(5)"
      ],
      "metadata": {
        "colab": {
          "base_uri": "https://localhost:8080/"
        },
        "id": "6SKq6vBXIbGT",
        "outputId": "c31b01ed-6ea4-4faa-8faf-4f5adb685156"
      },
      "execution_count": null,
      "outputs": [
        {
          "output_type": "execute_result",
          "data": {
            "text/plain": [
              "15"
            ]
          },
          "metadata": {},
          "execution_count": 15
        }
      ]
    },
    {
      "cell_type": "code",
      "source": [
        "def odd_even(x):\n",
        "  if x%2==0:\n",
        "    print(x,\"is even\")\n",
        "  else:\n",
        "    print(x,\"is odd\")"
      ],
      "metadata": {
        "id": "SdhYE3bSIbD7"
      },
      "execution_count": null,
      "outputs": []
    },
    {
      "cell_type": "code",
      "source": [
        "odd_even(10)"
      ],
      "metadata": {
        "colab": {
          "base_uri": "https://localhost:8080/"
        },
        "id": "wRUWW4T8IgUl",
        "outputId": "2038bb16-be22-48c5-9fd3-67e38d817ee7"
      },
      "execution_count": null,
      "outputs": [
        {
          "output_type": "stream",
          "name": "stdout",
          "text": [
            "10 is even\n"
          ]
        }
      ]
    },
    {
      "cell_type": "code",
      "source": [
        "g= lambda x : x*x*x"
      ],
      "metadata": {
        "id": "-_c7FidDIgSM"
      },
      "execution_count": null,
      "outputs": []
    },
    {
      "cell_type": "code",
      "source": [
        "g(10)"
      ],
      "metadata": {
        "colab": {
          "base_uri": "https://localhost:8080/"
        },
        "id": "bOgfdemSIirM",
        "outputId": "0aa1cde8-253d-4093-8621-bb11d21a3c4d"
      },
      "execution_count": null,
      "outputs": [
        {
          "output_type": "execute_result",
          "data": {
            "text/plain": [
              "1000"
            ]
          },
          "metadata": {},
          "execution_count": 19
        }
      ]
    },
    {
      "cell_type": "markdown",
      "source": [
        "LAMBDA WITH FILTER"
      ],
      "metadata": {
        "id": "plV8Y4QvIm3W"
      }
    },
    {
      "cell_type": "code",
      "source": [
        "l1 =[23,34,56,78,89,90,34,56,54,76,87,98,99]"
      ],
      "metadata": {
        "id": "_oEHlsVBIlbd"
      },
      "execution_count": null,
      "outputs": []
    },
    {
      "cell_type": "code",
      "source": [
        "final_list = list(filter(lambda x: (x%2==0), l1)) "
      ],
      "metadata": {
        "id": "gpn-7uhuIlYE"
      },
      "execution_count": null,
      "outputs": []
    },
    {
      "cell_type": "code",
      "source": [
        "final_list"
      ],
      "metadata": {
        "colab": {
          "base_uri": "https://localhost:8080/"
        },
        "id": "vWiYOlPAIlU1",
        "outputId": "64ff3470-0d68-4ecb-c586-76a402198f4b"
      },
      "execution_count": null,
      "outputs": [
        {
          "output_type": "execute_result",
          "data": {
            "text/plain": [
              "[34, 56, 78, 90, 34, 56, 54, 76, 98]"
            ]
          },
          "metadata": {},
          "execution_count": 22
        }
      ]
    },
    {
      "cell_type": "markdown",
      "source": [
        "map"
      ],
      "metadata": {
        "id": "GPTAr5lTIt3r"
      }
    },
    {
      "cell_type": "code",
      "source": [
        "l1 = [1,2,3,4,5,6,7,8]"
      ],
      "metadata": {
        "id": "Mpk67LE6IlSE"
      },
      "execution_count": null,
      "outputs": []
    },
    {
      "cell_type": "code",
      "source": [
        "new = list(map(lambda x : x*2, l1))"
      ],
      "metadata": {
        "id": "YaVTWEbhIw5N"
      },
      "execution_count": null,
      "outputs": []
    },
    {
      "cell_type": "code",
      "source": [
        "new"
      ],
      "metadata": {
        "colab": {
          "base_uri": "https://localhost:8080/"
        },
        "id": "b72sPEy-IynL",
        "outputId": "2c3ce6bc-88f9-4227-ce4d-2d9e959b6e4f"
      },
      "execution_count": null,
      "outputs": [
        {
          "output_type": "execute_result",
          "data": {
            "text/plain": [
              "[2, 4, 6, 8, 10, 12, 14, 16]"
            ]
          },
          "metadata": {},
          "execution_count": 25
        }
      ]
    },
    {
      "cell_type": "code",
      "source": [
        "from functools import reduce"
      ],
      "metadata": {
        "id": "MRLreWxQI0mF"
      },
      "execution_count": null,
      "outputs": []
    },
    {
      "cell_type": "code",
      "source": [
        "sum= reduce(lambda x ,y: x+y ,l1)"
      ],
      "metadata": {
        "id": "0hMVLlp1I3UY"
      },
      "execution_count": null,
      "outputs": []
    },
    {
      "cell_type": "code",
      "source": [
        "sum"
      ],
      "metadata": {
        "colab": {
          "base_uri": "https://localhost:8080/"
        },
        "id": "zq2GmogUI3R3",
        "outputId": "e4d1f1c6-c4ed-495d-9b44-688f25f2be6d"
      },
      "execution_count": null,
      "outputs": [
        {
          "output_type": "execute_result",
          "data": {
            "text/plain": [
              "36"
            ]
          },
          "metadata": {},
          "execution_count": 28
        }
      ]
    },
    {
      "cell_type": "code",
      "source": [
        "class Phone:\n",
        "  def make_call(self):\n",
        "    print('I am makin a call')\n",
        "  def play_game(self):\n",
        "    print('I am playin a game')"
      ],
      "metadata": {
        "id": "buqc7u-hJyZo"
      },
      "execution_count": null,
      "outputs": []
    },
    {
      "cell_type": "code",
      "source": [
        "p1 = Phone()"
      ],
      "metadata": {
        "id": "GYGMLaZIJyWw"
      },
      "execution_count": null,
      "outputs": []
    },
    {
      "cell_type": "code",
      "source": [
        "p1.make_call()"
      ],
      "metadata": {
        "colab": {
          "base_uri": "https://localhost:8080/"
        },
        "id": "dDnYE6mdJyUa",
        "outputId": "48097328-648a-46b4-ebed-cf928ef8a1e1"
      },
      "execution_count": null,
      "outputs": [
        {
          "output_type": "stream",
          "name": "stdout",
          "text": [
            "I am makin a call\n"
          ]
        }
      ]
    },
    {
      "cell_type": "code",
      "source": [
        "p1.play_game()"
      ],
      "metadata": {
        "id": "ZDkM05c6J3Vl",
        "outputId": "d4215534-1ae3-4cb0-f92c-66a8aabc3427",
        "colab": {
          "base_uri": "https://localhost:8080/"
        }
      },
      "execution_count": null,
      "outputs": [
        {
          "output_type": "stream",
          "name": "stdout",
          "text": [
            "I am playin a game\n"
          ]
        }
      ]
    },
    {
      "cell_type": "code",
      "source": [
        "import numpy as np"
      ],
      "metadata": {
        "id": "mP0ETaQ3NPWG"
      },
      "execution_count": 1,
      "outputs": []
    },
    {
      "cell_type": "code",
      "source": [
        "l1 = [1,2,3,4]"
      ],
      "metadata": {
        "id": "WoTZGbHeNPOf"
      },
      "execution_count": 2,
      "outputs": []
    },
    {
      "cell_type": "code",
      "source": [
        "n1 =np.array(l1)"
      ],
      "metadata": {
        "id": "yB8rFalGNO8z"
      },
      "execution_count": 3,
      "outputs": []
    },
    {
      "cell_type": "code",
      "source": [
        "type(n1)"
      ],
      "metadata": {
        "colab": {
          "base_uri": "https://localhost:8080/"
        },
        "id": "OekGBmaMO-XA",
        "outputId": "191543a0-9a4b-4b67-cade-97d3fbe1f456"
      },
      "execution_count": 4,
      "outputs": [
        {
          "output_type": "execute_result",
          "data": {
            "text/plain": [
              "numpy.ndarray"
            ]
          },
          "metadata": {},
          "execution_count": 4
        }
      ]
    },
    {
      "cell_type": "code",
      "source": [
        "n2 = np.array([[1,2,3,4],[4,3,2,1]])"
      ],
      "metadata": {
        "id": "Cz1rfgh4PANv"
      },
      "execution_count": 5,
      "outputs": []
    },
    {
      "cell_type": "code",
      "source": [
        "type(n2)"
      ],
      "metadata": {
        "colab": {
          "base_uri": "https://localhost:8080/"
        },
        "id": "J1NVOs7ePDwQ",
        "outputId": "c2d513a1-54b0-496c-b382-66f93c339c3a"
      },
      "execution_count": 6,
      "outputs": [
        {
          "output_type": "execute_result",
          "data": {
            "text/plain": [
              "numpy.ndarray"
            ]
          },
          "metadata": {},
          "execution_count": 6
        }
      ]
    },
    {
      "cell_type": "code",
      "source": [
        "n3 = np.zeros((10,10))"
      ],
      "metadata": {
        "id": "n9G-_omBPFZX"
      },
      "execution_count": 7,
      "outputs": []
    },
    {
      "cell_type": "code",
      "source": [
        "n3"
      ],
      "metadata": {
        "colab": {
          "base_uri": "https://localhost:8080/"
        },
        "id": "Y8fpILXkPGCA",
        "outputId": "a60687c0-55b7-41ff-8a94-0acd251be079"
      },
      "execution_count": 8,
      "outputs": [
        {
          "output_type": "execute_result",
          "data": {
            "text/plain": [
              "array([[0., 0., 0., 0., 0., 0., 0., 0., 0., 0.],\n",
              "       [0., 0., 0., 0., 0., 0., 0., 0., 0., 0.],\n",
              "       [0., 0., 0., 0., 0., 0., 0., 0., 0., 0.],\n",
              "       [0., 0., 0., 0., 0., 0., 0., 0., 0., 0.],\n",
              "       [0., 0., 0., 0., 0., 0., 0., 0., 0., 0.],\n",
              "       [0., 0., 0., 0., 0., 0., 0., 0., 0., 0.],\n",
              "       [0., 0., 0., 0., 0., 0., 0., 0., 0., 0.],\n",
              "       [0., 0., 0., 0., 0., 0., 0., 0., 0., 0.],\n",
              "       [0., 0., 0., 0., 0., 0., 0., 0., 0., 0.],\n",
              "       [0., 0., 0., 0., 0., 0., 0., 0., 0., 0.]])"
            ]
          },
          "metadata": {},
          "execution_count": 8
        }
      ]
    },
    {
      "cell_type": "code",
      "source": [
        "type(n3)"
      ],
      "metadata": {
        "colab": {
          "base_uri": "https://localhost:8080/"
        },
        "id": "Gcu44WuNPF-4",
        "outputId": "52b3b6f6-30cf-46a6-9879-4f00fb864bdf"
      },
      "execution_count": 9,
      "outputs": [
        {
          "output_type": "execute_result",
          "data": {
            "text/plain": [
              "numpy.ndarray"
            ]
          },
          "metadata": {},
          "execution_count": 9
        }
      ]
    },
    {
      "cell_type": "code",
      "source": [
        "n4 = np.full((3,3), 10)"
      ],
      "metadata": {
        "id": "vM7O-wG3PF3m"
      },
      "execution_count": 10,
      "outputs": []
    },
    {
      "cell_type": "code",
      "source": [
        "n4"
      ],
      "metadata": {
        "colab": {
          "base_uri": "https://localhost:8080/"
        },
        "id": "KsCl8nLePOf5",
        "outputId": "2622ce60-d716-4c0d-fa39-8c2260ab7b90"
      },
      "execution_count": 11,
      "outputs": [
        {
          "output_type": "execute_result",
          "data": {
            "text/plain": [
              "array([[10, 10, 10],\n",
              "       [10, 10, 10],\n",
              "       [10, 10, 10]])"
            ]
          },
          "metadata": {},
          "execution_count": 11
        }
      ]
    },
    {
      "cell_type": "code",
      "source": [
        "n1 = np.arange(50,101)"
      ],
      "metadata": {
        "id": "mo1Wq8yqPOa8"
      },
      "execution_count": 12,
      "outputs": []
    },
    {
      "cell_type": "code",
      "source": [
        "n1"
      ],
      "metadata": {
        "colab": {
          "base_uri": "https://localhost:8080/"
        },
        "id": "-zR0nekdPRRM",
        "outputId": "8511282c-4557-450d-f7b2-0d2421e2391d"
      },
      "execution_count": 13,
      "outputs": [
        {
          "output_type": "execute_result",
          "data": {
            "text/plain": [
              "array([ 50,  51,  52,  53,  54,  55,  56,  57,  58,  59,  60,  61,  62,\n",
              "        63,  64,  65,  66,  67,  68,  69,  70,  71,  72,  73,  74,  75,\n",
              "        76,  77,  78,  79,  80,  81,  82,  83,  84,  85,  86,  87,  88,\n",
              "        89,  90,  91,  92,  93,  94,  95,  96,  97,  98,  99, 100])"
            ]
          },
          "metadata": {},
          "execution_count": 13
        }
      ]
    },
    {
      "cell_type": "code",
      "source": [
        "n1 = np.arange(50,510,10)"
      ],
      "metadata": {
        "id": "xhID5o-ZPRO7"
      },
      "execution_count": 14,
      "outputs": []
    },
    {
      "cell_type": "code",
      "source": [
        "n1"
      ],
      "metadata": {
        "colab": {
          "base_uri": "https://localhost:8080/"
        },
        "id": "YgTp07KqPW0G",
        "outputId": "3ce8897a-1267-48ed-f470-13e3d843dc07"
      },
      "execution_count": 15,
      "outputs": [
        {
          "output_type": "execute_result",
          "data": {
            "text/plain": [
              "array([ 50,  60,  70,  80,  90, 100, 110, 120, 130, 140, 150, 160, 170,\n",
              "       180, 190, 200, 210, 220, 230, 240, 250, 260, 270, 280, 290, 300,\n",
              "       310, 320, 330, 340, 350, 360, 370, 380, 390, 400, 410, 420, 430,\n",
              "       440, 450, 460, 470, 480, 490, 500])"
            ]
          },
          "metadata": {},
          "execution_count": 15
        }
      ]
    },
    {
      "cell_type": "code",
      "source": [
        "np.random.randint(1,10000,10)"
      ],
      "metadata": {
        "colab": {
          "base_uri": "https://localhost:8080/"
        },
        "id": "mZmD_p9BPWxb",
        "outputId": "48ae38f4-7f22-4877-8515-a652bb353654"
      },
      "execution_count": 16,
      "outputs": [
        {
          "output_type": "execute_result",
          "data": {
            "text/plain": [
              "array([  81,   60, 3936, 6254, 4204, 3858, 7550, 9585, 4490, 3950])"
            ]
          },
          "metadata": {},
          "execution_count": 16
        }
      ]
    },
    {
      "cell_type": "code",
      "source": [
        "n1 = np.array([[1,2,3,4],[4,3,2,1]])"
      ],
      "metadata": {
        "id": "Gp9AQ5L-Pbb_"
      },
      "execution_count": 17,
      "outputs": []
    }
  ]
}