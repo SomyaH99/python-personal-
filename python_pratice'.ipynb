{
  "nbformat": 4,
  "nbformat_minor": 0,
  "metadata": {
    "colab": {
      "provenance": [],
      "authorship_tag": "ABX9TyN6FZ44Hr58nQRZ0uVp3gti",
      "include_colab_link": true
    },
    "kernelspec": {
      "name": "python3",
      "display_name": "Python 3"
    },
    "language_info": {
      "name": "python"
    }
  },
  "cells": [
    {
      "cell_type": "markdown",
      "metadata": {
        "id": "view-in-github",
        "colab_type": "text"
      },
      "source": [
        "<a href=\"https://colab.research.google.com/github/SomyaH99/python-personal-/blob/main/python_pratice'.ipynb\" target=\"_parent\"><img src=\"https://colab.research.google.com/assets/colab-badge.svg\" alt=\"Open In Colab\"/></a>"
      ]
    },
    {
      "cell_type": "markdown",
      "source": [
        "practise workbook"
      ],
      "metadata": {
        "id": "Zxhmw90aZtmp"
      }
    },
    {
      "cell_type": "markdown",
      "source": [
        "different data types in python:\n",
        "1. numeric\n",
        "2. string\n",
        "3. boolean\n",
        "4. datetime"
      ],
      "metadata": {
        "id": "l9IpkylxaVtY"
      }
    },
    {
      "cell_type": "markdown",
      "source": [
        "Indentation in Python:\n",
        "Indentation refers to the spaces at the beginning of a code line.\n"
      ],
      "metadata": {
        "id": "gC0RLM5Ocrxf"
      }
    },
    {
      "cell_type": "code",
      "source": [
        "# example of indentation\n",
        "if 5>2:\n",
        "  print('Five is greater than 2')"
      ],
      "metadata": {
        "colab": {
          "base_uri": "https://localhost:8080/"
        },
        "id": "Ec9lEXRhcz7H",
        "outputId": "528238cc-8cb5-48d9-f51b-20ec1b790e61"
      },
      "execution_count": null,
      "outputs": [
        {
          "output_type": "stream",
          "name": "stdout",
          "text": [
            "Five is greater than 2\n"
          ]
        }
      ]
    },
    {
      "cell_type": "markdown",
      "source": [
        "Python variable:\n",
        "Variable are containers for storing data values. A variable is created the moment you first assign a value to it."
      ],
      "metadata": {
        "id": "Mqw2aaNJdKDv"
      }
    },
    {
      "cell_type": "markdown",
      "source": [
        "* A variable name must start with a letter or the underscore character\n",
        "* A variable name cannot start with a number\n",
        "* A variable name can only contain alpha-numeric characters and underscores (A-z, 0-9, and _ )\n",
        "* Variable names are case-sensitive (age, Age and AGE are three different variables)"
      ],
      "metadata": {
        "id": "RMrwQYsjd7xn"
      }
    },
    {
      "cell_type": "markdown",
      "source": [
        "Python Variables - Assign Multiple Values"
      ],
      "metadata": {
        "id": "HmDCZnVGereN"
      }
    },
    {
      "cell_type": "markdown",
      "source": [
        "Many Values to Multiple Variables\n",
        "Python allows you to assign values to multiple variables in one line:"
      ],
      "metadata": {
        "id": "FYjvQCWGeusz"
      }
    },
    {
      "cell_type": "code",
      "source": [
        "x, y,z = 'orange', 'banana', 'cherry'\n",
        "print(x)\n",
        "print(y)\n",
        "print(z)"
      ],
      "metadata": {
        "colab": {
          "base_uri": "https://localhost:8080/"
        },
        "id": "XDzwh3CEerPN",
        "outputId": "e888db07-d340-4e75-ec7d-cf2b4fe373ca"
      },
      "execution_count": null,
      "outputs": [
        {
          "output_type": "stream",
          "name": "stdout",
          "text": [
            "orange\n",
            "banana\n",
            "cherry\n"
          ]
        }
      ]
    },
    {
      "cell_type": "markdown",
      "source": [
        "One Value to Multiple Variables\n",
        "* And you can assign the same value to multiple variables in one line:"
      ],
      "metadata": {
        "id": "3SeAb8QcfADD"
      }
    },
    {
      "cell_type": "code",
      "source": [
        "x = y = z = \"Orange\"\n",
        "print(x)\n",
        "print(y)\n",
        "print(z)"
      ],
      "metadata": {
        "colab": {
          "base_uri": "https://localhost:8080/"
        },
        "id": "we5CiPVSd7dn",
        "outputId": "faf441fa-f092-4b8b-e309-ede253c03617"
      },
      "execution_count": null,
      "outputs": [
        {
          "output_type": "stream",
          "name": "stdout",
          "text": [
            "Orange\n",
            "Orange\n",
            "Orange\n"
          ]
        }
      ]
    },
    {
      "cell_type": "markdown",
      "source": [
        "Unpack a Collection"
      ],
      "metadata": {
        "id": "C4pJuc1ufIUz"
      }
    },
    {
      "cell_type": "markdown",
      "source": [
        "if you have values in lists, tuples etc python allows you to extract the values into variables. this is called unpackng in python\n"
      ],
      "metadata": {
        "id": "n9YA55WofRuK"
      }
    },
    {
      "cell_type": "code",
      "source": [
        "fruits= ['apple','banana', 'orage']\n",
        "x,y,z = fruits\n",
        "print(x)\n",
        "print(y)\n",
        "print(z)"
      ],
      "metadata": {
        "colab": {
          "base_uri": "https://localhost:8080/"
        },
        "id": "9mxtpGEJdo6P",
        "outputId": "36cbf81e-08b8-48d2-cb14-cc5a91325e97"
      },
      "execution_count": null,
      "outputs": [
        {
          "output_type": "stream",
          "name": "stdout",
          "text": [
            "apple\n",
            "banana\n",
            "orage\n"
          ]
        }
      ]
    },
    {
      "cell_type": "markdown",
      "source": [
        "output variables \n"
      ],
      "metadata": {
        "id": "a4SDKc66gNRj"
      }
    },
    {
      "cell_type": "code",
      "source": [
        "x = 5\n",
        "y = \"John\"\n",
        "print(x, y)"
      ],
      "metadata": {
        "colab": {
          "base_uri": "https://localhost:8080/"
        },
        "id": "KR_EzHCUdyVX",
        "outputId": "43442f93-1b2d-446b-c6ef-aada3f457a9a"
      },
      "execution_count": null,
      "outputs": [
        {
          "output_type": "stream",
          "name": "stdout",
          "text": [
            "5 John\n"
          ]
        }
      ]
    },
    {
      "cell_type": "markdown",
      "source": [
        "Global Variables\n",
        "Variables that are created outside of a function are known as global variables.\n",
        "Global variables can be used by everyone, both inside of functions and outside."
      ],
      "metadata": {
        "id": "xi-D8nXjiW_L"
      }
    },
    {
      "cell_type": "markdown",
      "source": [
        "Strings slicing.\n"
      ],
      "metadata": {
        "id": "0qQNhPrdbi3G"
      }
    },
    {
      "cell_type": "markdown",
      "source": [
        "Strings in python are surrounded by either single quotation marks, or double quotation marks."
      ],
      "metadata": {
        "id": "PpOoN-C41sm2"
      }
    },
    {
      "cell_type": "markdown",
      "source": [
        "Slice From the Start"
      ],
      "metadata": {
        "id": "aAeHnsZA1sik"
      }
    },
    {
      "cell_type": "markdown",
      "source": [
        "By leaving out the start index, the range will start at the first character:"
      ],
      "metadata": {
        "id": "aNbo4LuE147o"
      }
    },
    {
      "cell_type": "code",
      "source": [
        "b = \"Hello, World!\"\n",
        "print(b[:5])"
      ],
      "metadata": {
        "colab": {
          "base_uri": "https://localhost:8080/"
        },
        "id": "8WGO2qXw2ACp",
        "outputId": "a240b69a-5fe8-46f1-aa22-db3c6328c3f1"
      },
      "execution_count": null,
      "outputs": [
        {
          "output_type": "stream",
          "name": "stdout",
          "text": [
            "Hello\n"
          ]
        }
      ]
    },
    {
      "cell_type": "markdown",
      "source": [
        "By leaving out the end index, the range will go to the end:"
      ],
      "metadata": {
        "id": "z_sqKUEQ19_y"
      }
    },
    {
      "cell_type": "code",
      "source": [
        "b = \"Hello, World!\"\n",
        "print(b[2:])"
      ],
      "metadata": {
        "colab": {
          "base_uri": "https://localhost:8080/"
        },
        "id": "amP7rWKQ12s4",
        "outputId": "002ebf91-0a2b-45d5-8815-ddf31fb46c0f"
      },
      "execution_count": null,
      "outputs": [
        {
          "output_type": "stream",
          "name": "stdout",
          "text": [
            "llo, World!\n"
          ]
        }
      ]
    },
    {
      "cell_type": "markdown",
      "source": [
        "Negative Indexing\n",
        "Use negative indexes to start the slice from the end of the string:"
      ],
      "metadata": {
        "id": "N1PSiwf-2Dc3"
      }
    },
    {
      "cell_type": "code",
      "source": [
        "b = \"Hello, World!\"\n",
        "print(b[-5:-2])"
      ],
      "metadata": {
        "colab": {
          "base_uri": "https://localhost:8080/"
        },
        "id": "qVfqaaz_1rCt",
        "outputId": "39666ce6-40c0-48af-f87c-11f093a39288"
      },
      "execution_count": null,
      "outputs": [
        {
          "output_type": "stream",
          "name": "stdout",
          "text": [
            "orl\n"
          ]
        }
      ]
    },
    {
      "cell_type": "markdown",
      "source": [
        "Upper Case\n",
        "\n",
        "Lower Case\n",
        "\n",
        "Remove Whitespace"
      ],
      "metadata": {
        "id": "bQC4wW2u5EA5"
      }
    },
    {
      "cell_type": "code",
      "source": [
        "a = \"Hello, World!\"\n",
        "print(a.upper())"
      ],
      "metadata": {
        "colab": {
          "base_uri": "https://localhost:8080/"
        },
        "id": "DxhFTihr5QWZ",
        "outputId": "1f99dcfc-ebf9-42cc-a975-b3ed8c74794b"
      },
      "execution_count": null,
      "outputs": [
        {
          "output_type": "stream",
          "name": "stdout",
          "text": [
            "HELLO, WORLD!\n"
          ]
        }
      ]
    },
    {
      "cell_type": "code",
      "source": [
        "a = \"Hello, World!\"\n",
        "print(a.lower())"
      ],
      "metadata": {
        "colab": {
          "base_uri": "https://localhost:8080/"
        },
        "id": "Wst9ap-n5QT7",
        "outputId": "0b12eb4a-af08-4987-88c0-b34986bd5d1e"
      },
      "execution_count": null,
      "outputs": [
        {
          "output_type": "stream",
          "name": "stdout",
          "text": [
            "hello, world!\n"
          ]
        }
      ]
    },
    {
      "cell_type": "code",
      "execution_count": null,
      "metadata": {
        "id": "Tv9Blup7iaZa",
        "colab": {
          "base_uri": "https://localhost:8080/"
        },
        "outputId": "64fb8e39-97ed-4c5b-cf72-eaf6a73983a8"
      },
      "outputs": [
        {
          "output_type": "stream",
          "name": "stdout",
          "text": [
            "Hello, World!\n"
          ]
        }
      ],
      "source": [
        "a = \" Hello, World! \"\n",
        "print(a.strip())"
      ]
    },
    {
      "cell_type": "markdown",
      "source": [
        "Remove Whitespace"
      ],
      "metadata": {
        "id": "GMs7OdmC5Vl_"
      }
    },
    {
      "cell_type": "markdown",
      "source": [
        "The strip() method removes any whitespace from the beginning or the end:"
      ],
      "metadata": {
        "id": "nzsldA3B5Vhb"
      }
    },
    {
      "cell_type": "markdown",
      "source": [],
      "metadata": {
        "id": "bnWi86j25Ve7"
      }
    },
    {
      "cell_type": "code",
      "source": [
        "a = \" Hello,    World! \"\n",
        "print(a.strip()) "
      ],
      "metadata": {
        "colab": {
          "base_uri": "https://localhost:8080/"
        },
        "id": "r2qryOUJ5VYy",
        "outputId": "d1c9a85c-3bc3-4dae-9232-e8117c931518"
      },
      "execution_count": null,
      "outputs": [
        {
          "output_type": "stream",
          "name": "stdout",
          "text": [
            "Hello,    World!\n"
          ]
        }
      ]
    },
    {
      "cell_type": "markdown",
      "source": [
        "Replace String"
      ],
      "metadata": {
        "id": "VYeeC6se5rup"
      }
    },
    {
      "cell_type": "markdown",
      "source": [
        "The replace() method replaces a string with another string:"
      ],
      "metadata": {
        "id": "J2ZuQCxO5uk5"
      }
    },
    {
      "cell_type": "code",
      "source": [
        "a = \"Hello, World!\"\n",
        "print(a.replace(\"H\", \"J\"))"
      ],
      "metadata": {
        "colab": {
          "base_uri": "https://localhost:8080/"
        },
        "id": "yb5eUonG5uGS",
        "outputId": "ff10c859-6c2f-4668-f992-ef7b83c34eef"
      },
      "execution_count": null,
      "outputs": [
        {
          "output_type": "stream",
          "name": "stdout",
          "text": [
            "Jello, World!\n"
          ]
        }
      ]
    },
    {
      "cell_type": "markdown",
      "source": [
        "Split String"
      ],
      "metadata": {
        "id": "D3jQ0EEy5zba"
      }
    },
    {
      "cell_type": "markdown",
      "source": [
        "The split() method returns a list where the text between the specified separator becomes the list items."
      ],
      "metadata": {
        "id": "zeNaAuwm52R6"
      }
    },
    {
      "cell_type": "code",
      "source": [
        "a = \"Hello, World!\"\n",
        "print(a.split(\",\")) "
      ],
      "metadata": {
        "colab": {
          "base_uri": "https://localhost:8080/"
        },
        "id": "uDuy-icK508S",
        "outputId": "67a50486-e753-4bb9-ab0f-1720649bcec5"
      },
      "execution_count": null,
      "outputs": [
        {
          "output_type": "stream",
          "name": "stdout",
          "text": [
            "['Hello', ' World!']\n"
          ]
        }
      ]
    },
    {
      "cell_type": "markdown",
      "source": [
        "String Concatenation\n",
        "\n",
        "To concatenate, or combine, two strings you can use the + operator."
      ],
      "metadata": {
        "id": "CQ2SsiZt6Boq"
      }
    },
    {
      "cell_type": "code",
      "source": [
        "a = \"Hello\"\n",
        "b = \"World\"\n",
        "c = a + b\n",
        "print(c)"
      ],
      "metadata": {
        "colab": {
          "base_uri": "https://localhost:8080/"
        },
        "id": "nF2Iow4o5sWu",
        "outputId": "a96de335-4a46-4d75-a93c-872bbf7e1e8c"
      },
      "execution_count": null,
      "outputs": [
        {
          "output_type": "stream",
          "name": "stdout",
          "text": [
            "HelloWorld\n"
          ]
        }
      ]
    },
    {
      "cell_type": "markdown",
      "source": [
        "To add a space between them, add a \" \":"
      ],
      "metadata": {
        "id": "AigzE67o6HU6"
      }
    },
    {
      "cell_type": "code",
      "source": [
        "a = \"Hello\"\n",
        "b = \"World\"\n",
        "c = a + \" \" + b\n",
        "print(c)"
      ],
      "metadata": {
        "colab": {
          "base_uri": "https://localhost:8080/"
        },
        "id": "DrG3RvAU6G6R",
        "outputId": "78827a92-747f-42cd-9909-cf2cdf8e7d98"
      },
      "execution_count": null,
      "outputs": [
        {
          "output_type": "stream",
          "name": "stdout",
          "text": [
            "Hello World\n"
          ]
        }
      ]
    },
    {
      "cell_type": "markdown",
      "source": [
        "String Format"
      ],
      "metadata": {
        "id": "Cf8iSvWl6bBx"
      }
    },
    {
      "cell_type": "markdown",
      "source": [
        "The format() method takes the passed arguments, formats them, and places them in the string where the placeholders {} are:\n"
      ],
      "metadata": {
        "id": "d4e5fDM767OD"
      }
    },
    {
      "cell_type": "code",
      "source": [
        "age = 36\n",
        "text = \"my name is somya, and I am {}\"\n",
        "print(text.format(age))"
      ],
      "metadata": {
        "colab": {
          "base_uri": "https://localhost:8080/"
        },
        "id": "bSOqpNsE6aw6",
        "outputId": "19cc01ef-e84e-45f8-f070-a466126d397b"
      },
      "execution_count": null,
      "outputs": [
        {
          "output_type": "stream",
          "name": "stdout",
          "text": [
            "my name is somya, and I am 36\n"
          ]
        }
      ]
    },
    {
      "cell_type": "code",
      "source": [
        "quantity = 3\n",
        "item = 567\n",
        "price = 49.95\n",
        "myorder = \"i want {} pieces of item {} for {} dollars.\"\n",
        "print(myorder.format(quantity,item,price))"
      ],
      "metadata": {
        "colab": {
          "base_uri": "https://localhost:8080/"
        },
        "id": "brCTaSlh7Whh",
        "outputId": "fba97a5b-b5da-4bd2-8650-15855c1f7990"
      },
      "execution_count": null,
      "outputs": [
        {
          "output_type": "stream",
          "name": "stdout",
          "text": [
            "i want 3 pieces of item 567 for 49.95 dollars.\n"
          ]
        }
      ]
    },
    {
      "cell_type": "code",
      "source": [
        "a = 10 \n",
        "b=20 \n",
        "c = 30"
      ],
      "metadata": {
        "id": "nGYY7RAcH9Og"
      },
      "execution_count": null,
      "outputs": []
    },
    {
      "cell_type": "code",
      "source": [
        "if a>b:\n",
        "  print(\"B is greater than a\")"
      ],
      "metadata": {
        "id": "73YySMDL7261"
      },
      "execution_count": null,
      "outputs": []
    },
    {
      "cell_type": "code",
      "source": [
        "if a>b:\n",
        "  print(\"a is greater than b\")\n",
        "else:\n",
        "  print('b is greater than a ')"
      ],
      "metadata": {
        "id": "dy-Lo6sq72oF",
        "colab": {
          "base_uri": "https://localhost:8080/"
        },
        "outputId": "743c2dee-9eba-4e9c-b2de-8981d46440f7"
      },
      "execution_count": null,
      "outputs": [
        {
          "output_type": "stream",
          "name": "stdout",
          "text": [
            "b is greater than a \n"
          ]
        }
      ]
    },
    {
      "cell_type": "markdown",
      "source": [
        "a = 10\n",
        "b=20\n",
        "c = 30\n"
      ],
      "metadata": {
        "id": "KwzB6H16HyIN"
      }
    },
    {
      "cell_type": "code",
      "source": [
        "if (a>b) & (a>c):\n",
        "  print(\"A is greatest\")\n",
        "elif (b>a) & (b>c):\n",
        "  print('b is greatest')\n",
        "else:\n",
        "  print('c is the greatest')"
      ],
      "metadata": {
        "colab": {
          "base_uri": "https://localhost:8080/"
        },
        "id": "6tSN5ASuH07K",
        "outputId": "9035aa54-51ce-4730-f580-900ba019a845"
      },
      "execution_count": null,
      "outputs": [
        {
          "output_type": "stream",
          "name": "stdout",
          "text": [
            "c is the greatest\n"
          ]
        }
      ]
    },
    {
      "cell_type": "code",
      "source": [
        "tup1 = ('a','b', 'c')"
      ],
      "metadata": {
        "id": "9RKVufXrIFfs"
      },
      "execution_count": null,
      "outputs": []
    },
    {
      "cell_type": "code",
      "source": [
        "if 'z' in tup1:\n",
        "  print(\"value a is present in tup1\")\n",
        "else:\n",
        "  print(\"value z is not present\")\n"
      ],
      "metadata": {
        "id": "Qv1Ud5wkIGvT"
      },
      "execution_count": null,
      "outputs": []
    },
    {
      "cell_type": "code",
      "source": [
        "i = 1\n",
        "while i<=10:\n",
        "  print(i)\n",
        "  i = i + 1"
      ],
      "metadata": {
        "id": "aYmJcUrdIIbG"
      },
      "execution_count": null,
      "outputs": []
    },
    {
      "cell_type": "code",
      "source": [
        "i=1\n",
        "n=2\n",
        "while i<=10:\n",
        "  print(n, \"*\", i, \"=\", n*i)\n",
        "  i = i+1"
      ],
      "metadata": {
        "id": "DzWnIuXmIKz0"
      },
      "execution_count": null,
      "outputs": []
    },
    {
      "cell_type": "code",
      "source": [
        "l1 = ['mango', 'apple', 'grapes', 'orange']"
      ],
      "metadata": {
        "id": "s3j4k8J3IMZb"
      },
      "execution_count": null,
      "outputs": []
    },
    {
      "cell_type": "code",
      "source": [
        "for i in l1:\n",
        "  print(i)"
      ],
      "metadata": {
        "id": "-46p9ekbIMW3"
      },
      "execution_count": null,
      "outputs": []
    },
    {
      "cell_type": "code",
      "source": [
        "l1 = ['orange', 'black', 'white']\n",
        "l2 = ['chair', 'book','laptop']"
      ],
      "metadata": {
        "id": "uCVlReiGIMTe"
      },
      "execution_count": null,
      "outputs": []
    },
    {
      "cell_type": "code",
      "source": [
        "for i in l1:\n",
        "  for j in l2:\n",
        "    print(i,j)"
      ],
      "metadata": {
        "id": "hVBE5jXCIMPC"
      },
      "execution_count": null,
      "outputs": []
    },
    {
      "cell_type": "markdown",
      "source": [
        "Functions;"
      ],
      "metadata": {
        "id": "D-tV2WcJ7U5q"
      }
    },
    {
      "cell_type": "code",
      "source": [
        "def hello():\n",
        "  print(\"hello world\")"
      ],
      "metadata": {
        "id": "YW7VhKurIMMb"
      },
      "execution_count": null,
      "outputs": []
    },
    {
      "cell_type": "code",
      "source": [
        "hello()"
      ],
      "metadata": {
        "colab": {
          "base_uri": "https://localhost:8080/"
        },
        "id": "S2bvPXr_IXP2",
        "outputId": "26cc01c7-9d77-4cf3-8b2c-29b6f8d05a31"
      },
      "execution_count": null,
      "outputs": [
        {
          "output_type": "stream",
          "name": "stdout",
          "text": [
            "hello world\n"
          ]
        }
      ]
    },
    {
      "cell_type": "code",
      "source": [
        "def add_10(x):\n",
        "  return x+10"
      ],
      "metadata": {
        "id": "xvwJKJSEIbJK"
      },
      "execution_count": null,
      "outputs": []
    },
    {
      "cell_type": "code",
      "source": [
        "add_10(5)"
      ],
      "metadata": {
        "colab": {
          "base_uri": "https://localhost:8080/"
        },
        "id": "6SKq6vBXIbGT",
        "outputId": "c31b01ed-6ea4-4faa-8faf-4f5adb685156"
      },
      "execution_count": null,
      "outputs": [
        {
          "output_type": "execute_result",
          "data": {
            "text/plain": [
              "15"
            ]
          },
          "metadata": {},
          "execution_count": 15
        }
      ]
    },
    {
      "cell_type": "code",
      "source": [
        "def odd_even(x):\n",
        "  if x%2==0:\n",
        "    print(x,\"is even\")\n",
        "  else:\n",
        "    print(x,\"is odd\")"
      ],
      "metadata": {
        "id": "SdhYE3bSIbD7"
      },
      "execution_count": null,
      "outputs": []
    },
    {
      "cell_type": "code",
      "source": [
        "odd_even(10)"
      ],
      "metadata": {
        "colab": {
          "base_uri": "https://localhost:8080/"
        },
        "id": "wRUWW4T8IgUl",
        "outputId": "2038bb16-be22-48c5-9fd3-67e38d817ee7"
      },
      "execution_count": null,
      "outputs": [
        {
          "output_type": "stream",
          "name": "stdout",
          "text": [
            "10 is even\n"
          ]
        }
      ]
    },
    {
      "cell_type": "code",
      "source": [
        "g= lambda x : x*x*x"
      ],
      "metadata": {
        "id": "-_c7FidDIgSM"
      },
      "execution_count": null,
      "outputs": []
    },
    {
      "cell_type": "code",
      "source": [
        "g(10)"
      ],
      "metadata": {
        "colab": {
          "base_uri": "https://localhost:8080/"
        },
        "id": "bOgfdemSIirM",
        "outputId": "0aa1cde8-253d-4093-8621-bb11d21a3c4d"
      },
      "execution_count": null,
      "outputs": [
        {
          "output_type": "execute_result",
          "data": {
            "text/plain": [
              "1000"
            ]
          },
          "metadata": {},
          "execution_count": 19
        }
      ]
    },
    {
      "cell_type": "markdown",
      "source": [
        "LAMBDA WITH FILTER"
      ],
      "metadata": {
        "id": "plV8Y4QvIm3W"
      }
    },
    {
      "cell_type": "code",
      "source": [
        "l1 =[23,34,56,78,89,90,34,56,54,76,87,98,99]"
      ],
      "metadata": {
        "id": "_oEHlsVBIlbd"
      },
      "execution_count": null,
      "outputs": []
    },
    {
      "cell_type": "code",
      "source": [
        "final_list = list(filter(lambda x: (x%2==0), l1)) "
      ],
      "metadata": {
        "id": "gpn-7uhuIlYE"
      },
      "execution_count": null,
      "outputs": []
    },
    {
      "cell_type": "code",
      "source": [
        "final_list"
      ],
      "metadata": {
        "colab": {
          "base_uri": "https://localhost:8080/"
        },
        "id": "vWiYOlPAIlU1",
        "outputId": "64ff3470-0d68-4ecb-c586-76a402198f4b"
      },
      "execution_count": null,
      "outputs": [
        {
          "output_type": "execute_result",
          "data": {
            "text/plain": [
              "[34, 56, 78, 90, 34, 56, 54, 76, 98]"
            ]
          },
          "metadata": {},
          "execution_count": 22
        }
      ]
    },
    {
      "cell_type": "markdown",
      "source": [
        "map"
      ],
      "metadata": {
        "id": "GPTAr5lTIt3r"
      }
    },
    {
      "cell_type": "code",
      "source": [
        "l1 = [1,2,3,4,5,6,7,8]"
      ],
      "metadata": {
        "id": "Mpk67LE6IlSE"
      },
      "execution_count": null,
      "outputs": []
    },
    {
      "cell_type": "code",
      "source": [
        "new = list(map(lambda x : x*2, l1))"
      ],
      "metadata": {
        "id": "YaVTWEbhIw5N"
      },
      "execution_count": null,
      "outputs": []
    },
    {
      "cell_type": "code",
      "source": [
        "new"
      ],
      "metadata": {
        "colab": {
          "base_uri": "https://localhost:8080/"
        },
        "id": "b72sPEy-IynL",
        "outputId": "2c3ce6bc-88f9-4227-ce4d-2d9e959b6e4f"
      },
      "execution_count": null,
      "outputs": [
        {
          "output_type": "execute_result",
          "data": {
            "text/plain": [
              "[2, 4, 6, 8, 10, 12, 14, 16]"
            ]
          },
          "metadata": {},
          "execution_count": 25
        }
      ]
    },
    {
      "cell_type": "code",
      "source": [
        "from functools import reduce"
      ],
      "metadata": {
        "id": "MRLreWxQI0mF"
      },
      "execution_count": null,
      "outputs": []
    },
    {
      "cell_type": "code",
      "source": [
        "sum= reduce(lambda x ,y: x+y ,l1)"
      ],
      "metadata": {
        "id": "0hMVLlp1I3UY"
      },
      "execution_count": null,
      "outputs": []
    },
    {
      "cell_type": "code",
      "source": [
        "sum"
      ],
      "metadata": {
        "colab": {
          "base_uri": "https://localhost:8080/"
        },
        "id": "zq2GmogUI3R3",
        "outputId": "e4d1f1c6-c4ed-495d-9b44-688f25f2be6d"
      },
      "execution_count": null,
      "outputs": [
        {
          "output_type": "execute_result",
          "data": {
            "text/plain": [
              "36"
            ]
          },
          "metadata": {},
          "execution_count": 28
        }
      ]
    },
    {
      "cell_type": "code",
      "source": [
        "class Phone:\n",
        "  def make_call(self):\n",
        "    print('I am makin a call')\n",
        "  def play_game(self):\n",
        "    print('I am playin a game')"
      ],
      "metadata": {
        "id": "buqc7u-hJyZo"
      },
      "execution_count": null,
      "outputs": []
    },
    {
      "cell_type": "code",
      "source": [
        "p1 = Phone()"
      ],
      "metadata": {
        "id": "GYGMLaZIJyWw"
      },
      "execution_count": null,
      "outputs": []
    },
    {
      "cell_type": "code",
      "source": [
        "p1.make_call()"
      ],
      "metadata": {
        "colab": {
          "base_uri": "https://localhost:8080/"
        },
        "id": "dDnYE6mdJyUa",
        "outputId": "48097328-648a-46b4-ebed-cf928ef8a1e1"
      },
      "execution_count": null,
      "outputs": [
        {
          "output_type": "stream",
          "name": "stdout",
          "text": [
            "I am makin a call\n"
          ]
        }
      ]
    },
    {
      "cell_type": "code",
      "source": [
        "p1.play_game()"
      ],
      "metadata": {
        "id": "ZDkM05c6J3Vl",
        "outputId": "d4215534-1ae3-4cb0-f92c-66a8aabc3427",
        "colab": {
          "base_uri": "https://localhost:8080/"
        }
      },
      "execution_count": null,
      "outputs": [
        {
          "output_type": "stream",
          "name": "stdout",
          "text": [
            "I am playin a game\n"
          ]
        }
      ]
    },
    {
      "cell_type": "code",
      "source": [
        "import numpy as np"
      ],
      "metadata": {
        "id": "mP0ETaQ3NPWG"
      },
      "execution_count": null,
      "outputs": []
    },
    {
      "cell_type": "code",
      "source": [
        "l1 = [1,2,3,4]"
      ],
      "metadata": {
        "id": "WoTZGbHeNPOf"
      },
      "execution_count": null,
      "outputs": []
    },
    {
      "cell_type": "code",
      "source": [
        "n1 =np.array(l1)"
      ],
      "metadata": {
        "id": "yB8rFalGNO8z"
      },
      "execution_count": null,
      "outputs": []
    },
    {
      "cell_type": "code",
      "source": [
        "type(n1)"
      ],
      "metadata": {
        "colab": {
          "base_uri": "https://localhost:8080/"
        },
        "id": "OekGBmaMO-XA",
        "outputId": "191543a0-9a4b-4b67-cade-97d3fbe1f456"
      },
      "execution_count": null,
      "outputs": [
        {
          "output_type": "execute_result",
          "data": {
            "text/plain": [
              "numpy.ndarray"
            ]
          },
          "metadata": {},
          "execution_count": 4
        }
      ]
    },
    {
      "cell_type": "code",
      "source": [
        "n2 = np.array([[1,2,3,4],[4,3,2,1]])"
      ],
      "metadata": {
        "id": "Cz1rfgh4PANv"
      },
      "execution_count": null,
      "outputs": []
    },
    {
      "cell_type": "code",
      "source": [
        "type(n2)"
      ],
      "metadata": {
        "colab": {
          "base_uri": "https://localhost:8080/"
        },
        "id": "J1NVOs7ePDwQ",
        "outputId": "c2d513a1-54b0-496c-b382-66f93c339c3a"
      },
      "execution_count": null,
      "outputs": [
        {
          "output_type": "execute_result",
          "data": {
            "text/plain": [
              "numpy.ndarray"
            ]
          },
          "metadata": {},
          "execution_count": 6
        }
      ]
    },
    {
      "cell_type": "code",
      "source": [
        "n3 = np.zeros((10,10))"
      ],
      "metadata": {
        "id": "n9G-_omBPFZX"
      },
      "execution_count": null,
      "outputs": []
    },
    {
      "cell_type": "code",
      "source": [
        "n3"
      ],
      "metadata": {
        "colab": {
          "base_uri": "https://localhost:8080/"
        },
        "id": "Y8fpILXkPGCA",
        "outputId": "a60687c0-55b7-41ff-8a94-0acd251be079"
      },
      "execution_count": null,
      "outputs": [
        {
          "output_type": "execute_result",
          "data": {
            "text/plain": [
              "array([[0., 0., 0., 0., 0., 0., 0., 0., 0., 0.],\n",
              "       [0., 0., 0., 0., 0., 0., 0., 0., 0., 0.],\n",
              "       [0., 0., 0., 0., 0., 0., 0., 0., 0., 0.],\n",
              "       [0., 0., 0., 0., 0., 0., 0., 0., 0., 0.],\n",
              "       [0., 0., 0., 0., 0., 0., 0., 0., 0., 0.],\n",
              "       [0., 0., 0., 0., 0., 0., 0., 0., 0., 0.],\n",
              "       [0., 0., 0., 0., 0., 0., 0., 0., 0., 0.],\n",
              "       [0., 0., 0., 0., 0., 0., 0., 0., 0., 0.],\n",
              "       [0., 0., 0., 0., 0., 0., 0., 0., 0., 0.],\n",
              "       [0., 0., 0., 0., 0., 0., 0., 0., 0., 0.]])"
            ]
          },
          "metadata": {},
          "execution_count": 8
        }
      ]
    },
    {
      "cell_type": "code",
      "source": [
        "type(n3)"
      ],
      "metadata": {
        "colab": {
          "base_uri": "https://localhost:8080/"
        },
        "id": "Gcu44WuNPF-4",
        "outputId": "52b3b6f6-30cf-46a6-9879-4f00fb864bdf"
      },
      "execution_count": null,
      "outputs": [
        {
          "output_type": "execute_result",
          "data": {
            "text/plain": [
              "numpy.ndarray"
            ]
          },
          "metadata": {},
          "execution_count": 9
        }
      ]
    },
    {
      "cell_type": "code",
      "source": [
        "n4 = np.full((3,3), 10)"
      ],
      "metadata": {
        "id": "vM7O-wG3PF3m"
      },
      "execution_count": null,
      "outputs": []
    },
    {
      "cell_type": "code",
      "source": [
        "n4"
      ],
      "metadata": {
        "colab": {
          "base_uri": "https://localhost:8080/"
        },
        "id": "KsCl8nLePOf5",
        "outputId": "2622ce60-d716-4c0d-fa39-8c2260ab7b90"
      },
      "execution_count": null,
      "outputs": [
        {
          "output_type": "execute_result",
          "data": {
            "text/plain": [
              "array([[10, 10, 10],\n",
              "       [10, 10, 10],\n",
              "       [10, 10, 10]])"
            ]
          },
          "metadata": {},
          "execution_count": 11
        }
      ]
    },
    {
      "cell_type": "code",
      "source": [
        "n1 = np.arange(50,101)"
      ],
      "metadata": {
        "id": "mo1Wq8yqPOa8"
      },
      "execution_count": null,
      "outputs": []
    },
    {
      "cell_type": "code",
      "source": [
        "n1"
      ],
      "metadata": {
        "colab": {
          "base_uri": "https://localhost:8080/"
        },
        "id": "-zR0nekdPRRM",
        "outputId": "8511282c-4557-450d-f7b2-0d2421e2391d"
      },
      "execution_count": null,
      "outputs": [
        {
          "output_type": "execute_result",
          "data": {
            "text/plain": [
              "array([ 50,  51,  52,  53,  54,  55,  56,  57,  58,  59,  60,  61,  62,\n",
              "        63,  64,  65,  66,  67,  68,  69,  70,  71,  72,  73,  74,  75,\n",
              "        76,  77,  78,  79,  80,  81,  82,  83,  84,  85,  86,  87,  88,\n",
              "        89,  90,  91,  92,  93,  94,  95,  96,  97,  98,  99, 100])"
            ]
          },
          "metadata": {},
          "execution_count": 13
        }
      ]
    },
    {
      "cell_type": "code",
      "source": [
        "n1 = np.arange(50,510,10)"
      ],
      "metadata": {
        "id": "xhID5o-ZPRO7"
      },
      "execution_count": null,
      "outputs": []
    },
    {
      "cell_type": "code",
      "source": [
        "n1"
      ],
      "metadata": {
        "colab": {
          "base_uri": "https://localhost:8080/"
        },
        "id": "YgTp07KqPW0G",
        "outputId": "3ce8897a-1267-48ed-f470-13e3d843dc07"
      },
      "execution_count": null,
      "outputs": [
        {
          "output_type": "execute_result",
          "data": {
            "text/plain": [
              "array([ 50,  60,  70,  80,  90, 100, 110, 120, 130, 140, 150, 160, 170,\n",
              "       180, 190, 200, 210, 220, 230, 240, 250, 260, 270, 280, 290, 300,\n",
              "       310, 320, 330, 340, 350, 360, 370, 380, 390, 400, 410, 420, 430,\n",
              "       440, 450, 460, 470, 480, 490, 500])"
            ]
          },
          "metadata": {},
          "execution_count": 15
        }
      ]
    },
    {
      "cell_type": "code",
      "source": [
        "np.random.randint(1,10000,10)"
      ],
      "metadata": {
        "colab": {
          "base_uri": "https://localhost:8080/"
        },
        "id": "mZmD_p9BPWxb",
        "outputId": "48ae38f4-7f22-4877-8515-a652bb353654"
      },
      "execution_count": null,
      "outputs": [
        {
          "output_type": "execute_result",
          "data": {
            "text/plain": [
              "array([  81,   60, 3936, 6254, 4204, 3858, 7550, 9585, 4490, 3950])"
            ]
          },
          "metadata": {},
          "execution_count": 16
        }
      ]
    },
    {
      "cell_type": "code",
      "source": [
        "n1 = np.array([[1,2,3,4],[4,3,2,1]])"
      ],
      "metadata": {
        "id": "Gp9AQ5L-Pbb_"
      },
      "execution_count": null,
      "outputs": []
    },
    {
      "cell_type": "code",
      "source": [],
      "metadata": {
        "id": "L81eJo6m7NWO"
      },
      "execution_count": null,
      "outputs": []
    },
    {
      "cell_type": "code",
      "source": [],
      "metadata": {
        "id": "tDSsLDij7NMz"
      },
      "execution_count": null,
      "outputs": []
    },
    {
      "cell_type": "markdown",
      "source": [
        "Pandas"
      ],
      "metadata": {
        "id": "h5DYUDGB7N59"
      }
    },
    {
      "cell_type": "code",
      "source": [
        "import numpy as np\n",
        "import pandas as pd"
      ],
      "metadata": {
        "id": "nDHgHp017NJo"
      },
      "execution_count": null,
      "outputs": []
    },
    {
      "cell_type": "markdown",
      "source": [
        "Creating a Series"
      ],
      "metadata": {
        "id": "DRl1cjaGafpV"
      }
    },
    {
      "cell_type": "code",
      "source": [
        "# Creating empty series\n",
        "ser = pd.Series()\n",
        "   \n",
        "print(ser)\n",
        " \n"
      ],
      "metadata": {
        "colab": {
          "base_uri": "https://localhost:8080/"
        },
        "id": "XlXrRTN37NF_",
        "outputId": "9aee5325-83bb-4fb5-da80-04bec9ca42d6"
      },
      "execution_count": null,
      "outputs": [
        {
          "output_type": "stream",
          "name": "stdout",
          "text": [
            "Series([], dtype: float64)\n"
          ]
        },
        {
          "output_type": "stream",
          "name": "stderr",
          "text": [
            "<ipython-input-4-5a080319ca91>:2: DeprecationWarning: The default dtype for empty Series will be 'object' instead of 'float64' in a future version. Specify a dtype explicitly to silence this warning.\n",
            "  ser = pd.Series()\n"
          ]
        }
      ]
    },
    {
      "cell_type": "code",
      "source": [
        "# simple array\n",
        "data = np.array(['g', 'e', 'e', 'k', 's'])\n",
        "   \n",
        "ser = pd.Series(data)\n",
        "print(ser)"
      ],
      "metadata": {
        "colab": {
          "base_uri": "https://localhost:8080/"
        },
        "id": "C99U6naGa1uu",
        "outputId": "446182d9-383a-4f89-9253-1829249dba40"
      },
      "execution_count": null,
      "outputs": [
        {
          "output_type": "stream",
          "name": "stdout",
          "text": [
            "0    g\n",
            "1    e\n",
            "2    e\n",
            "3    k\n",
            "4    s\n",
            "dtype: object\n"
          ]
        }
      ]
    },
    {
      "cell_type": "markdown",
      "source": [
        "Creating a DataFrame:"
      ],
      "metadata": {
        "id": "wt9ZihuPat2e"
      }
    },
    {
      "cell_type": "code",
      "source": [
        "df = pd.DataFrame()\n",
        "print(df)"
      ],
      "metadata": {
        "colab": {
          "base_uri": "https://localhost:8080/"
        },
        "id": "Qk67lh7L7NDN",
        "outputId": "3c707c36-5f72-499b-af2b-db19c5006b8c"
      },
      "execution_count": null,
      "outputs": [
        {
          "output_type": "stream",
          "name": "stdout",
          "text": [
            "Empty DataFrame\n",
            "Columns: []\n",
            "Index: []\n"
          ]
        }
      ]
    },
    {
      "cell_type": "code",
      "source": [
        "lst = [\"Geeks\",\"For\",\"geeks\",\"is\", \"protal\"]\n",
        "df = pd.DataFrame(lst)\n",
        "print(df)\n"
      ],
      "metadata": {
        "colab": {
          "base_uri": "https://localhost:8080/"
        },
        "id": "ShVTLAYnbCoy",
        "outputId": "1008e7f0-9ad2-4d95-e188-d8127c7ef8e6"
      },
      "execution_count": null,
      "outputs": [
        {
          "output_type": "stream",
          "name": "stdout",
          "text": [
            "        0\n",
            "0   Geeks\n",
            "1     For\n",
            "2   geeks\n",
            "3      is\n",
            "4  protal\n"
          ]
        }
      ]
    },
    {
      "cell_type": "markdown",
      "source": [
        "replace function"
      ],
      "metadata": {
        "id": "QOhwCVyvTfdR"
      }
    },
    {
      "cell_type": "code",
      "source": [
        "inp = 'this is a string'\n",
        "new =inp.replace(' ','-')\n",
        "new"
      ],
      "metadata": {
        "id": "ciweOO_Xbd-G",
        "colab": {
          "base_uri": "https://localhost:8080/",
          "height": 36
        },
        "outputId": "2f25de05-6aa3-424c-bed8-5c0b66f40aef"
      },
      "execution_count": null,
      "outputs": [
        {
          "output_type": "execute_result",
          "data": {
            "text/plain": [
              "'this-is-a-string'"
            ],
            "application/vnd.google.colaboratory.intrinsic+json": {
              "type": "string"
            }
          },
          "metadata": {},
          "execution_count": 1
        }
      ]
    },
    {
      "cell_type": "markdown",
      "source": [
        "using split and join function\n"
      ],
      "metadata": {
        "id": "YT49n2kbXmJC"
      }
    },
    {
      "cell_type": "code",
      "source": [
        "inp = 'this is a string'\n",
        "x = inp.split()\n",
        "x"
      ],
      "metadata": {
        "colab": {
          "base_uri": "https://localhost:8080/"
        },
        "id": "EE3dKtqUXl2S",
        "outputId": "329a6a29-dca8-429b-8687-7dd2d6b41598"
      },
      "execution_count": null,
      "outputs": [
        {
          "output_type": "execute_result",
          "data": {
            "text/plain": [
              "['this', 'is', 'a', 'string']"
            ]
          },
          "metadata": {},
          "execution_count": 3
        }
      ]
    },
    {
      "cell_type": "code",
      "source": [
        "y= \"-\".join(x)\n",
        "y"
      ],
      "metadata": {
        "colab": {
          "base_uri": "https://localhost:8080/",
          "height": 36
        },
        "id": "vfLltTDaXqtX",
        "outputId": "8ff68269-230c-4fce-e2b2-2f59dee388d8"
      },
      "execution_count": null,
      "outputs": [
        {
          "output_type": "execute_result",
          "data": {
            "text/plain": [
              "'this-is-a-string'"
            ],
            "application/vnd.google.colaboratory.intrinsic+json": {
              "type": "string"
            }
          },
          "metadata": {},
          "execution_count": 4
        }
      ]
    },
    {
      "cell_type": "markdown",
      "source": [
        "changing string 5th position "
      ],
      "metadata": {
        "id": "hif6eFw5Z4Uh"
      }
    },
    {
      "cell_type": "code",
      "source": [
        "string = \"abracadabra\"\n",
        "list1= list(string)\n",
        "print(list1)\n",
        "list1[5]='k'\n",
        "print(list1)\n",
        "new = ''.join(list1)"
      ],
      "metadata": {
        "colab": {
          "base_uri": "https://localhost:8080/"
        },
        "id": "gI3ZO-rhXwzH",
        "outputId": "ecdda01c-0b93-4595-bb54-50440c4bd53d"
      },
      "execution_count": null,
      "outputs": [
        {
          "output_type": "stream",
          "name": "stdout",
          "text": [
            "['a', 'b', 'r', 'a', 'c', 'a', 'd', 'a', 'b', 'r', 'a']\n",
            "['a', 'b', 'r', 'a', 'c', 'k', 'd', 'a', 'b', 'r', 'a']\n"
          ]
        }
      ]
    },
    {
      "cell_type": "code",
      "source": [
        "new"
      ],
      "metadata": {
        "colab": {
          "base_uri": "https://localhost:8080/",
          "height": 36
        },
        "id": "wDPwwFxbZf90",
        "outputId": "1733f171-406b-4764-bd9e-da4c4782777b"
      },
      "execution_count": null,
      "outputs": [
        {
          "output_type": "execute_result",
          "data": {
            "text/plain": [
              "'abrackdabra'"
            ],
            "application/vnd.google.colaboratory.intrinsic+json": {
              "type": "string"
            }
          },
          "metadata": {},
          "execution_count": 9
        }
      ]
    },
    {
      "cell_type": "markdown",
      "source": [
        "Finding a string"
      ],
      "metadata": {
        "id": "HMjRazVfl66Y"
      }
    },
    {
      "cell_type": "code",
      "source": [
        "inp = 'ABCDCDC'\n",
        "new= 'CDC'\n",
        "c=0\n",
        "l= len(new)\n",
        "\n",
        "for i in range(len(inp)):\n",
        "  x=inp[i:i+l]\n",
        "  if x==new:\n",
        "    c=c+1\n",
        "print(c)\n",
        "\n"
      ],
      "metadata": {
        "colab": {
          "base_uri": "https://localhost:8080/"
        },
        "id": "1PgdqAXfZ2CI",
        "outputId": "b4df7514-cabc-4f7c-b533-5f381a4445c1"
      },
      "execution_count": null,
      "outputs": [
        {
          "output_type": "stream",
          "name": "stdout",
          "text": [
            "2\n"
          ]
        }
      ]
    },
    {
      "cell_type": "markdown",
      "source": [
        "reshaping an array"
      ],
      "metadata": {
        "id": "ZMEZIJmDprWR"
      }
    },
    {
      "cell_type": "code",
      "source": [
        "import numpy as np\n",
        "list1 = [1,2,3,4,5,6,7,8,9]\n",
        "l= np.array(list1)\n",
        "a= l.reshape(3,3)\n",
        "a\n"
      ],
      "metadata": {
        "colab": {
          "base_uri": "https://localhost:8080/"
        },
        "id": "fbjVhN74omth",
        "outputId": "e8385fc1-f904-4e2d-e573-896851bcc8a0"
      },
      "execution_count": null,
      "outputs": [
        {
          "output_type": "execute_result",
          "data": {
            "text/plain": [
              "array([[1, 2, 3],\n",
              "       [4, 5, 6],\n",
              "       [7, 8, 9]])"
            ]
          },
          "metadata": {},
          "execution_count": 5
        }
      ]
    },
    {
      "cell_type": "code",
      "source": [
        "str1 = 'ALMABETTER'\n",
        "str2 =''\n",
        "for i in str1:\n",
        "  str2 = i+ str2\n",
        "\n",
        "print(str2)\n"
      ],
      "metadata": {
        "id": "wp4ZjBCCqBmQ",
        "colab": {
          "base_uri": "https://localhost:8080/"
        },
        "outputId": "4e3cce7c-edf9-49e2-9736-8894094957c5"
      },
      "execution_count": null,
      "outputs": [
        {
          "output_type": "stream",
          "name": "stdout",
          "text": [
            "RETTEBAMLA\n"
          ]
        }
      ]
    },
    {
      "cell_type": "code",
      "source": [
        "str1 = 'ALMABETTER'\n",
        "print(str1[::-1])"
      ],
      "metadata": {
        "colab": {
          "base_uri": "https://localhost:8080/"
        },
        "id": "p9F8yW-C80U6",
        "outputId": "88501238-f7a1-413e-ab57-1a7c7941d2ca"
      },
      "execution_count": null,
      "outputs": [
        {
          "output_type": "stream",
          "name": "stdout",
          "text": [
            "RETTEBAMLA\n"
          ]
        }
      ]
    },
    {
      "cell_type": "code",
      "source": [
        "str3 = 'ALMABETTER'\n",
        "n = str3[5:]\n",
        "m = n[::-1]\n",
        "m\n"
      ],
      "metadata": {
        "colab": {
          "base_uri": "https://localhost:8080/",
          "height": 36
        },
        "id": "4XlNS9hT80vH",
        "outputId": "43be046e-0132-4b0d-a862-eaeaec6c47a0"
      },
      "execution_count": null,
      "outputs": [
        {
          "output_type": "execute_result",
          "data": {
            "text/plain": [
              "'RETTE'"
            ],
            "application/vnd.google.colaboratory.intrinsic+json": {
              "type": "string"
            }
          },
          "metadata": {},
          "execution_count": 13
        }
      ]
    },
    {
      "cell_type": "code",
      "source": [
        "new = 'ALMABETTER'\n",
        "even =[]\n",
        "odd = []\n",
        "for i in range(len(new)):\n",
        "  if i%2 ==0:\n",
        "    even.append(new[i])\n",
        "  else:\n",
        "    odd.append(new[i])\n",
        "\n",
        "print('Odd characters: {}'.format(even))\n",
        "print('Even characters: {}'.format(odd))"
      ],
      "metadata": {
        "colab": {
          "base_uri": "https://localhost:8080/"
        },
        "id": "j5Nv5L0l-h1i",
        "outputId": "696ccd0c-de39-46b5-b97f-608608ab8420"
      },
      "execution_count": null,
      "outputs": [
        {
          "output_type": "stream",
          "name": "stdout",
          "text": [
            "Odd characters: ['A', 'M', 'B', 'T', 'E']\n",
            "Even characters: ['L', 'A', 'E', 'T', 'R']\n"
          ]
        }
      ]
    },
    {
      "cell_type": "code",
      "source": [
        "students = {'Marc': 99, 'Amie': 76, 'Jonny': 98, 'Anne': 99, 'Andy': 77, 'Elli': 98, 'Acer': 67, 'Joan': 61, 'Mike': 54, 'Anna': 76, 'Bobi': 67,\n",
        "            'Kate': 99, 'Todd': 98, 'Emma': 49, 'Stan': 76, 'Harv': 99, 'Ward': 67, 'Hank': 54, 'Wendy': 98, 'Sven': 100}\n",
        "\n",
        "            "
      ],
      "metadata": {
        "id": "-Nz-xhvnA0Km"
      },
      "execution_count": null,
      "outputs": []
    },
    {
      "cell_type": "code",
      "source": [
        "n = list(students.values())\n",
        "\n",
        "max(n)"
      ],
      "metadata": {
        "colab": {
          "base_uri": "https://localhost:8080/"
        },
        "id": "gA5qWQ5jDekW",
        "outputId": "eb2570a1-7cec-4399-b6a9-cc5c1391728b"
      },
      "execution_count": null,
      "outputs": [
        {
          "output_type": "execute_result",
          "data": {
            "text/plain": [
              "100"
            ]
          },
          "metadata": {},
          "execution_count": 32
        }
      ]
    },
    {
      "cell_type": "code",
      "source": [
        "common_val = max(list(students.values()), key=list(students.values()).count)\n",
        "common_val"
      ],
      "metadata": {
        "colab": {
          "base_uri": "https://localhost:8080/"
        },
        "id": "MAk0tU23Digq",
        "outputId": "9c85d3b5-eb3e-4af8-8629-ea44b7ce533d"
      },
      "execution_count": null,
      "outputs": [
        {
          "output_type": "execute_result",
          "data": {
            "text/plain": [
              "99"
            ]
          },
          "metadata": {},
          "execution_count": 34
        }
      ]
    },
    {
      "cell_type": "code",
      "source": [
        "key=list(students.values()).count\n",
        "key"
      ],
      "metadata": {
        "colab": {
          "base_uri": "https://localhost:8080/"
        },
        "id": "4J31374uE32g",
        "outputId": "41147af8-2f6b-4f7b-ad4d-6dd4c89fe4bb"
      },
      "execution_count": null,
      "outputs": [
        {
          "output_type": "execute_result",
          "data": {
            "text/plain": [
              "<function list.count(value, /)>"
            ]
          },
          "metadata": {},
          "execution_count": 36
        }
      ]
    },
    {
      "cell_type": "code",
      "source": [
        "s = 'I am working at Almabetter'\n",
        "l = [i for i in s.split(\" \") if len(i)%2 == 0]\n",
        "\n",
        "print(l)"
      ],
      "metadata": {
        "id": "o_-Nu9SRE_P6",
        "colab": {
          "base_uri": "https://localhost:8080/"
        },
        "outputId": "6419df16-319a-4379-b4d8-748364df291d"
      },
      "execution_count": 1,
      "outputs": [
        {
          "output_type": "stream",
          "name": "stdout",
          "text": [
            "['am', 'at', 'Almabetter']\n"
          ]
        }
      ]
    },
    {
      "cell_type": "code",
      "source": [
        "nums = [10,15,20,25,30,14,20,19,34,14,20,12]\n",
        "\n",
        "for i,n in enumerate(nums):\n",
        "    if n == 20:\n",
        "        print(i, end = \",\")\n"
      ],
      "metadata": {
        "colab": {
          "base_uri": "https://localhost:8080/"
        },
        "id": "dnvYKIkoPeC4",
        "outputId": "c578da13-1326-4c71-ee45-4b8cee1cc2ba"
      },
      "execution_count": 2,
      "outputs": [
        {
          "output_type": "stream",
          "name": "stdout",
          "text": [
            "2,6,10,"
          ]
        }
      ]
    },
    {
      "cell_type": "code",
      "source": [
        "# Write your code here\n",
        "def fibonacci(n):\n",
        "    fibolist = [0, 1]\n",
        "    for i in range(n):\n",
        "        if i>=2:\n",
        "                fibolist.append(fibolist[i-2] + fibolist[i-1])\n",
        "\n",
        "    for el in fibolist:\n",
        "        yield el\n",
        "\n",
        "j = \"Fibonacci Series: \"\n",
        "for i in fibonacci(15):\n",
        " j += str(i)+\",\"\n",
        "print(j)"
      ],
      "metadata": {
        "colab": {
          "base_uri": "https://localhost:8080/"
        },
        "id": "vW0cQiz4Piyv",
        "outputId": "eef8ec11-6179-4ffb-fe4a-24adbe626309"
      },
      "execution_count": 3,
      "outputs": [
        {
          "output_type": "stream",
          "name": "stdout",
          "text": [
            "Fibonacci Series: 0,1,1,2,3,5,8,13,21,34,55,89,144,233,377,\n"
          ]
        }
      ]
    },
    {
      "cell_type": "markdown",
      "source": [
        "n = [1, 2, 3, 4, 5, 6, 7, 8]"
      ],
      "metadata": {
        "id": "SNwkmuOYQF0m"
      }
    },
    {
      "cell_type": "code",
      "source": [
        "def split_list(a_list):\n",
        "    half = len(a_list)//2\n",
        "    return a_list[:half], a_list[half:]\n",
        "\n",
        "A = [1, 2, 3, 4, 5, 6, 7, 8]\n",
        "B, C = split_list(A)\n",
        "print(B)\n",
        "print(C)"
      ],
      "metadata": {
        "colab": {
          "base_uri": "https://localhost:8080/"
        },
        "id": "OzIoP9xuQOSD",
        "outputId": "700eaaef-8b5d-49c1-d1d9-8de08b75b01f"
      },
      "execution_count": 6,
      "outputs": [
        {
          "output_type": "stream",
          "name": "stdout",
          "text": [
            "[1, 2, 3, 4]\n",
            "[5, 6, 7, 8]\n"
          ]
        }
      ]
    },
    {
      "cell_type": "code",
      "source": [],
      "metadata": {
        "id": "mN42AlzVRJpe"
      },
      "execution_count": null,
      "outputs": []
    }
  ]
}