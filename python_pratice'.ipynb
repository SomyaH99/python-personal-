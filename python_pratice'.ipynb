{
  "nbformat": 4,
  "nbformat_minor": 0,
  "metadata": {
    "colab": {
      "provenance": [],
      "authorship_tag": "ABX9TyPl5P65cH92gJDSjLk1zFWx",
      "include_colab_link": true
    },
    "kernelspec": {
      "name": "python3",
      "display_name": "Python 3"
    },
    "language_info": {
      "name": "python"
    }
  },
  "cells": [
    {
      "cell_type": "markdown",
      "metadata": {
        "id": "view-in-github",
        "colab_type": "text"
      },
      "source": [
        "<a href=\"https://colab.research.google.com/github/SomyaH99/python-personal-/blob/main/python_pratice'.ipynb\" target=\"_parent\"><img src=\"https://colab.research.google.com/assets/colab-badge.svg\" alt=\"Open In Colab\"/></a>"
      ]
    },
    {
      "cell_type": "markdown",
      "source": [
        "practise workbook"
      ],
      "metadata": {
        "id": "Zxhmw90aZtmp"
      }
    },
    {
      "cell_type": "markdown",
      "source": [
        "different data types in python:\n",
        "1. numeric\n",
        "2. string\n",
        "3. boolean\n",
        "4. datetime"
      ],
      "metadata": {
        "id": "l9IpkylxaVtY"
      }
    },
    {
      "cell_type": "markdown",
      "source": [
        "Indentation in Python:\n",
        "Indentation refers to the spaces at the beginning of a code line.\n"
      ],
      "metadata": {
        "id": "gC0RLM5Ocrxf"
      }
    },
    {
      "cell_type": "code",
      "source": [
        "# example of indentation\n",
        "if 5>2:\n",
        "  print('Five is greater than 2')"
      ],
      "metadata": {
        "colab": {
          "base_uri": "https://localhost:8080/"
        },
        "id": "Ec9lEXRhcz7H",
        "outputId": "528238cc-8cb5-48d9-f51b-20ec1b790e61"
      },
      "execution_count": null,
      "outputs": [
        {
          "output_type": "stream",
          "name": "stdout",
          "text": [
            "Five is greater than 2\n"
          ]
        }
      ]
    },
    {
      "cell_type": "markdown",
      "source": [
        "Python variable:\n",
        "Variable are containers for storing data values. A variable is created the moment you first assign a value to it."
      ],
      "metadata": {
        "id": "Mqw2aaNJdKDv"
      }
    },
    {
      "cell_type": "markdown",
      "source": [
        "* A variable name must start with a letter or the underscore character\n",
        "* A variable name cannot start with a number\n",
        "* A variable name can only contain alpha-numeric characters and underscores (A-z, 0-9, and _ )\n",
        "* Variable names are case-sensitive (age, Age and AGE are three different variables)"
      ],
      "metadata": {
        "id": "RMrwQYsjd7xn"
      }
    },
    {
      "cell_type": "markdown",
      "source": [
        "Python Variables - Assign Multiple Values"
      ],
      "metadata": {
        "id": "HmDCZnVGereN"
      }
    },
    {
      "cell_type": "markdown",
      "source": [
        "Many Values to Multiple Variables\n",
        "Python allows you to assign values to multiple variables in one line:"
      ],
      "metadata": {
        "id": "FYjvQCWGeusz"
      }
    },
    {
      "cell_type": "code",
      "source": [
        "x, y,z = 'orange', 'banana', 'cherry'\n",
        "print(x)\n",
        "print(y)\n",
        "print(z)"
      ],
      "metadata": {
        "colab": {
          "base_uri": "https://localhost:8080/"
        },
        "id": "XDzwh3CEerPN",
        "outputId": "e888db07-d340-4e75-ec7d-cf2b4fe373ca"
      },
      "execution_count": null,
      "outputs": [
        {
          "output_type": "stream",
          "name": "stdout",
          "text": [
            "orange\n",
            "banana\n",
            "cherry\n"
          ]
        }
      ]
    },
    {
      "cell_type": "markdown",
      "source": [
        "One Value to Multiple Variables\n",
        "* And you can assign the same value to multiple variables in one line:"
      ],
      "metadata": {
        "id": "3SeAb8QcfADD"
      }
    },
    {
      "cell_type": "code",
      "source": [
        "x = y = z = \"Orange\"\n",
        "print(x)\n",
        "print(y)\n",
        "print(z)"
      ],
      "metadata": {
        "colab": {
          "base_uri": "https://localhost:8080/"
        },
        "id": "we5CiPVSd7dn",
        "outputId": "faf441fa-f092-4b8b-e309-ede253c03617"
      },
      "execution_count": null,
      "outputs": [
        {
          "output_type": "stream",
          "name": "stdout",
          "text": [
            "Orange\n",
            "Orange\n",
            "Orange\n"
          ]
        }
      ]
    },
    {
      "cell_type": "markdown",
      "source": [
        "Unpack a Collection"
      ],
      "metadata": {
        "id": "C4pJuc1ufIUz"
      }
    },
    {
      "cell_type": "markdown",
      "source": [
        "if you have values in lists, tuples etc python allows you to extract the values into variables. this is called unpackng in python\n"
      ],
      "metadata": {
        "id": "n9YA55WofRuK"
      }
    },
    {
      "cell_type": "code",
      "source": [
        "fruits= ['apple','banana', 'orage']\n",
        "x,y,z = fruits\n",
        "print(x)\n",
        "print(y)\n",
        "print(z)"
      ],
      "metadata": {
        "colab": {
          "base_uri": "https://localhost:8080/"
        },
        "id": "9mxtpGEJdo6P",
        "outputId": "36cbf81e-08b8-48d2-cb14-cc5a91325e97"
      },
      "execution_count": null,
      "outputs": [
        {
          "output_type": "stream",
          "name": "stdout",
          "text": [
            "apple\n",
            "banana\n",
            "orage\n"
          ]
        }
      ]
    },
    {
      "cell_type": "markdown",
      "source": [
        "output variables \n"
      ],
      "metadata": {
        "id": "a4SDKc66gNRj"
      }
    },
    {
      "cell_type": "code",
      "source": [
        "x = 5\n",
        "y = \"John\"\n",
        "print(x, y)"
      ],
      "metadata": {
        "colab": {
          "base_uri": "https://localhost:8080/"
        },
        "id": "KR_EzHCUdyVX",
        "outputId": "43442f93-1b2d-446b-c6ef-aada3f457a9a"
      },
      "execution_count": null,
      "outputs": [
        {
          "output_type": "stream",
          "name": "stdout",
          "text": [
            "5 John\n"
          ]
        }
      ]
    },
    {
      "cell_type": "markdown",
      "source": [
        "Global Variables\n",
        "Variables that are created outside of a function are known as global variables.\n",
        "Global variables can be used by everyone, both inside of functions and outside."
      ],
      "metadata": {
        "id": "xi-D8nXjiW_L"
      }
    },
    {
      "cell_type": "markdown",
      "source": [
        "Strings slicing.\n"
      ],
      "metadata": {
        "id": "0qQNhPrdbi3G"
      }
    },
    {
      "cell_type": "markdown",
      "source": [
        "Strings in python are surrounded by either single quotation marks, or double quotation marks."
      ],
      "metadata": {
        "id": "PpOoN-C41sm2"
      }
    },
    {
      "cell_type": "markdown",
      "source": [
        "Slice From the Start"
      ],
      "metadata": {
        "id": "aAeHnsZA1sik"
      }
    },
    {
      "cell_type": "markdown",
      "source": [
        "By leaving out the start index, the range will start at the first character:"
      ],
      "metadata": {
        "id": "aNbo4LuE147o"
      }
    },
    {
      "cell_type": "code",
      "source": [
        "b = \"Hello, World!\"\n",
        "print(b[:5])"
      ],
      "metadata": {
        "colab": {
          "base_uri": "https://localhost:8080/"
        },
        "id": "8WGO2qXw2ACp",
        "outputId": "a240b69a-5fe8-46f1-aa22-db3c6328c3f1"
      },
      "execution_count": 2,
      "outputs": [
        {
          "output_type": "stream",
          "name": "stdout",
          "text": [
            "Hello\n"
          ]
        }
      ]
    },
    {
      "cell_type": "markdown",
      "source": [
        "By leaving out the end index, the range will go to the end:"
      ],
      "metadata": {
        "id": "z_sqKUEQ19_y"
      }
    },
    {
      "cell_type": "code",
      "source": [
        "b = \"Hello, World!\"\n",
        "print(b[2:])"
      ],
      "metadata": {
        "colab": {
          "base_uri": "https://localhost:8080/"
        },
        "id": "amP7rWKQ12s4",
        "outputId": "002ebf91-0a2b-45d5-8815-ddf31fb46c0f"
      },
      "execution_count": 3,
      "outputs": [
        {
          "output_type": "stream",
          "name": "stdout",
          "text": [
            "llo, World!\n"
          ]
        }
      ]
    },
    {
      "cell_type": "markdown",
      "source": [
        "Negative Indexing\n",
        "Use negative indexes to start the slice from the end of the string:"
      ],
      "metadata": {
        "id": "N1PSiwf-2Dc3"
      }
    },
    {
      "cell_type": "code",
      "source": [
        "b = \"Hello, World!\"\n",
        "print(b[-5:-2])"
      ],
      "metadata": {
        "colab": {
          "base_uri": "https://localhost:8080/"
        },
        "id": "qVfqaaz_1rCt",
        "outputId": "39666ce6-40c0-48af-f87c-11f093a39288"
      },
      "execution_count": 4,
      "outputs": [
        {
          "output_type": "stream",
          "name": "stdout",
          "text": [
            "orl\n"
          ]
        }
      ]
    },
    {
      "cell_type": "markdown",
      "source": [
        "Upper Case\n",
        "\n",
        "Lower Case\n",
        "\n",
        "Remove Whitespace"
      ],
      "metadata": {
        "id": "bQC4wW2u5EA5"
      }
    },
    {
      "cell_type": "code",
      "source": [
        "a = \"Hello, World!\"\n",
        "print(a.upper())"
      ],
      "metadata": {
        "colab": {
          "base_uri": "https://localhost:8080/"
        },
        "id": "DxhFTihr5QWZ",
        "outputId": "1f99dcfc-ebf9-42cc-a975-b3ed8c74794b"
      },
      "execution_count": 5,
      "outputs": [
        {
          "output_type": "stream",
          "name": "stdout",
          "text": [
            "HELLO, WORLD!\n"
          ]
        }
      ]
    },
    {
      "cell_type": "code",
      "source": [
        "a = \"Hello, World!\"\n",
        "print(a.lower())"
      ],
      "metadata": {
        "colab": {
          "base_uri": "https://localhost:8080/"
        },
        "id": "Wst9ap-n5QT7",
        "outputId": "0b12eb4a-af08-4987-88c0-b34986bd5d1e"
      },
      "execution_count": 6,
      "outputs": [
        {
          "output_type": "stream",
          "name": "stdout",
          "text": [
            "hello, world!\n"
          ]
        }
      ]
    },
    {
      "cell_type": "code",
      "execution_count": 1,
      "metadata": {
        "id": "Tv9Blup7iaZa",
        "colab": {
          "base_uri": "https://localhost:8080/"
        },
        "outputId": "64fb8e39-97ed-4c5b-cf72-eaf6a73983a8"
      },
      "outputs": [
        {
          "output_type": "stream",
          "name": "stdout",
          "text": [
            "Hello, World!\n"
          ]
        }
      ],
      "source": [
        "a = \" Hello, World! \"\n",
        "print(a.strip())"
      ]
    },
    {
      "cell_type": "markdown",
      "source": [
        "Remove Whitespace"
      ],
      "metadata": {
        "id": "GMs7OdmC5Vl_"
      }
    },
    {
      "cell_type": "markdown",
      "source": [
        "The strip() method removes any whitespace from the beginning or the end:"
      ],
      "metadata": {
        "id": "nzsldA3B5Vhb"
      }
    },
    {
      "cell_type": "markdown",
      "source": [],
      "metadata": {
        "id": "bnWi86j25Ve7"
      }
    },
    {
      "cell_type": "code",
      "source": [
        "a = \" Hello,    World! \"\n",
        "print(a.strip()) "
      ],
      "metadata": {
        "colab": {
          "base_uri": "https://localhost:8080/"
        },
        "id": "r2qryOUJ5VYy",
        "outputId": "d1c9a85c-3bc3-4dae-9232-e8117c931518"
      },
      "execution_count": 8,
      "outputs": [
        {
          "output_type": "stream",
          "name": "stdout",
          "text": [
            "Hello,    World!\n"
          ]
        }
      ]
    },
    {
      "cell_type": "markdown",
      "source": [
        "Replace String"
      ],
      "metadata": {
        "id": "VYeeC6se5rup"
      }
    },
    {
      "cell_type": "markdown",
      "source": [
        "The replace() method replaces a string with another string:"
      ],
      "metadata": {
        "id": "J2ZuQCxO5uk5"
      }
    },
    {
      "cell_type": "code",
      "source": [
        "a = \"Hello, World!\"\n",
        "print(a.replace(\"H\", \"J\"))"
      ],
      "metadata": {
        "colab": {
          "base_uri": "https://localhost:8080/"
        },
        "id": "yb5eUonG5uGS",
        "outputId": "ff10c859-6c2f-4668-f992-ef7b83c34eef"
      },
      "execution_count": 9,
      "outputs": [
        {
          "output_type": "stream",
          "name": "stdout",
          "text": [
            "Jello, World!\n"
          ]
        }
      ]
    },
    {
      "cell_type": "markdown",
      "source": [
        "Split String"
      ],
      "metadata": {
        "id": "D3jQ0EEy5zba"
      }
    },
    {
      "cell_type": "markdown",
      "source": [
        "The split() method returns a list where the text between the specified separator becomes the list items."
      ],
      "metadata": {
        "id": "zeNaAuwm52R6"
      }
    },
    {
      "cell_type": "code",
      "source": [
        "a = \"Hello, World!\"\n",
        "print(a.split(\",\")) "
      ],
      "metadata": {
        "colab": {
          "base_uri": "https://localhost:8080/"
        },
        "id": "uDuy-icK508S",
        "outputId": "67a50486-e753-4bb9-ab0f-1720649bcec5"
      },
      "execution_count": 10,
      "outputs": [
        {
          "output_type": "stream",
          "name": "stdout",
          "text": [
            "['Hello', ' World!']\n"
          ]
        }
      ]
    },
    {
      "cell_type": "markdown",
      "source": [
        "String Concatenation\n",
        "\n",
        "To concatenate, or combine, two strings you can use the + operator."
      ],
      "metadata": {
        "id": "CQ2SsiZt6Boq"
      }
    },
    {
      "cell_type": "code",
      "source": [
        "a = \"Hello\"\n",
        "b = \"World\"\n",
        "c = a + b\n",
        "print(c)"
      ],
      "metadata": {
        "colab": {
          "base_uri": "https://localhost:8080/"
        },
        "id": "nF2Iow4o5sWu",
        "outputId": "a96de335-4a46-4d75-a93c-872bbf7e1e8c"
      },
      "execution_count": 11,
      "outputs": [
        {
          "output_type": "stream",
          "name": "stdout",
          "text": [
            "HelloWorld\n"
          ]
        }
      ]
    },
    {
      "cell_type": "markdown",
      "source": [
        "To add a space between them, add a \" \":"
      ],
      "metadata": {
        "id": "AigzE67o6HU6"
      }
    },
    {
      "cell_type": "code",
      "source": [
        "a = \"Hello\"\n",
        "b = \"World\"\n",
        "c = a + \" \" + b\n",
        "print(c)"
      ],
      "metadata": {
        "colab": {
          "base_uri": "https://localhost:8080/"
        },
        "id": "DrG3RvAU6G6R",
        "outputId": "78827a92-747f-42cd-9909-cf2cdf8e7d98"
      },
      "execution_count": 12,
      "outputs": [
        {
          "output_type": "stream",
          "name": "stdout",
          "text": [
            "Hello World\n"
          ]
        }
      ]
    },
    {
      "cell_type": "markdown",
      "source": [
        "String Format"
      ],
      "metadata": {
        "id": "Cf8iSvWl6bBx"
      }
    },
    {
      "cell_type": "markdown",
      "source": [
        "The format() method takes the passed arguments, formats them, and places them in the string where the placeholders {} are:\n"
      ],
      "metadata": {
        "id": "d4e5fDM767OD"
      }
    },
    {
      "cell_type": "code",
      "source": [
        "age = 36\n",
        "text = \"my name is somya, and I am {}\"\n",
        "print(text.format(age))"
      ],
      "metadata": {
        "colab": {
          "base_uri": "https://localhost:8080/"
        },
        "id": "bSOqpNsE6aw6",
        "outputId": "19cc01ef-e84e-45f8-f070-a466126d397b"
      },
      "execution_count": 18,
      "outputs": [
        {
          "output_type": "stream",
          "name": "stdout",
          "text": [
            "my name is somya, and I am 36\n"
          ]
        }
      ]
    },
    {
      "cell_type": "code",
      "source": [
        "quantity = 3\n",
        "item = 567\n",
        "price = 49.95\n",
        "myorder = \"i want {} pieces of item {} for {} dollars.\"\n",
        "print(myorder.format(quantity,item,price))"
      ],
      "metadata": {
        "colab": {
          "base_uri": "https://localhost:8080/"
        },
        "id": "brCTaSlh7Whh",
        "outputId": "fba97a5b-b5da-4bd2-8650-15855c1f7990"
      },
      "execution_count": 19,
      "outputs": [
        {
          "output_type": "stream",
          "name": "stdout",
          "text": [
            "i want 3 pieces of item 567 for 49.95 dollars.\n"
          ]
        }
      ]
    },
    {
      "cell_type": "code",
      "source": [],
      "metadata": {
        "id": "73YySMDL7261"
      },
      "execution_count": null,
      "outputs": []
    },
    {
      "cell_type": "code",
      "source": [],
      "metadata": {
        "id": "dy-Lo6sq72oF"
      },
      "execution_count": null,
      "outputs": []
    },
    {
      "cell_type": "markdown",
      "source": [],
      "metadata": {
        "id": "D-tV2WcJ7U5q"
      }
    }
  ]
}