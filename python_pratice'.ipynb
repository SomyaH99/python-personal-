{
  "nbformat": 4,
  "nbformat_minor": 0,
  "metadata": {
    "colab": {
      "provenance": [],
      "authorship_tag": "ABX9TyNqPii5qSuEuViK+448gzzx",
      "include_colab_link": true
    },
    "kernelspec": {
      "name": "python3",
      "display_name": "Python 3"
    },
    "language_info": {
      "name": "python"
    }
  },
  "cells": [
    {
      "cell_type": "markdown",
      "metadata": {
        "id": "view-in-github",
        "colab_type": "text"
      },
      "source": [
        "<a href=\"https://colab.research.google.com/github/SomyaH99/python-personal-/blob/main/python_pratice'.ipynb\" target=\"_parent\"><img src=\"https://colab.research.google.com/assets/colab-badge.svg\" alt=\"Open In Colab\"/></a>"
      ]
    },
    {
      "cell_type": "markdown",
      "source": [
        "practise workbook"
      ],
      "metadata": {
        "id": "Zxhmw90aZtmp"
      }
    },
    {
      "cell_type": "markdown",
      "source": [
        "different data types in python:\n",
        "1. numeric\n",
        "2. string\n",
        "3. boolean\n",
        "4. datetime"
      ],
      "metadata": {
        "id": "l9IpkylxaVtY"
      }
    },
    {
      "cell_type": "markdown",
      "source": [
        "Indentation in Python:\n",
        "Indentation refers to the spaces at the beginning of a code line.\n"
      ],
      "metadata": {
        "id": "gC0RLM5Ocrxf"
      }
    },
    {
      "cell_type": "code",
      "source": [
        "# example of indentation\n",
        "if 5>2:\n",
        "  print('Five is greater than 2')"
      ],
      "metadata": {
        "colab": {
          "base_uri": "https://localhost:8080/"
        },
        "id": "Ec9lEXRhcz7H",
        "outputId": "528238cc-8cb5-48d9-f51b-20ec1b790e61"
      },
      "execution_count": 2,
      "outputs": [
        {
          "output_type": "stream",
          "name": "stdout",
          "text": [
            "Five is greater than 2\n"
          ]
        }
      ]
    },
    {
      "cell_type": "markdown",
      "source": [
        "Python variable:\n",
        "Variable are containers for storing data values. A variable is created the moment you first assign a value to it."
      ],
      "metadata": {
        "id": "Mqw2aaNJdKDv"
      }
    },
    {
      "cell_type": "markdown",
      "source": [
        "* A variable name must start with a letter or the underscore character\n",
        "* A variable name cannot start with a number\n",
        "* A variable name can only contain alpha-numeric characters and underscores (A-z, 0-9, and _ )\n",
        "* Variable names are case-sensitive (age, Age and AGE are three different variables)"
      ],
      "metadata": {
        "id": "RMrwQYsjd7xn"
      }
    },
    {
      "cell_type": "markdown",
      "source": [
        "Python Variables - Assign Multiple Values"
      ],
      "metadata": {
        "id": "HmDCZnVGereN"
      }
    },
    {
      "cell_type": "markdown",
      "source": [
        "Many Values to Multiple Variables\n",
        "Python allows you to assign values to multiple variables in one line:"
      ],
      "metadata": {
        "id": "FYjvQCWGeusz"
      }
    },
    {
      "cell_type": "code",
      "source": [
        "x, y,z = 'orange', 'banana', 'cherry'\n",
        "print(x)\n",
        "print(y)\n",
        "print(z)"
      ],
      "metadata": {
        "colab": {
          "base_uri": "https://localhost:8080/"
        },
        "id": "XDzwh3CEerPN",
        "outputId": "e888db07-d340-4e75-ec7d-cf2b4fe373ca"
      },
      "execution_count": 4,
      "outputs": [
        {
          "output_type": "stream",
          "name": "stdout",
          "text": [
            "orange\n",
            "banana\n",
            "cherry\n"
          ]
        }
      ]
    },
    {
      "cell_type": "markdown",
      "source": [
        "One Value to Multiple Variables\n",
        "* And you can assign the same value to multiple variables in one line:"
      ],
      "metadata": {
        "id": "3SeAb8QcfADD"
      }
    },
    {
      "cell_type": "code",
      "source": [
        "x = y = z = \"Orange\"\n",
        "print(x)\n",
        "print(y)\n",
        "print(z)"
      ],
      "metadata": {
        "colab": {
          "base_uri": "https://localhost:8080/"
        },
        "id": "we5CiPVSd7dn",
        "outputId": "faf441fa-f092-4b8b-e309-ede253c03617"
      },
      "execution_count": 5,
      "outputs": [
        {
          "output_type": "stream",
          "name": "stdout",
          "text": [
            "Orange\n",
            "Orange\n",
            "Orange\n"
          ]
        }
      ]
    },
    {
      "cell_type": "markdown",
      "source": [
        "Unpack a Collection"
      ],
      "metadata": {
        "id": "C4pJuc1ufIUz"
      }
    },
    {
      "cell_type": "markdown",
      "source": [
        "if you have values in lists, tuples etc python allows you to extract the values into variables. this is called unpackng in python\n"
      ],
      "metadata": {
        "id": "n9YA55WofRuK"
      }
    },
    {
      "cell_type": "code",
      "source": [
        "fruits= ['apple','banana', 'orage']\n",
        "x,y,z = fruits\n",
        "print(x)\n",
        "print(y)\n",
        "print(z)"
      ],
      "metadata": {
        "colab": {
          "base_uri": "https://localhost:8080/"
        },
        "id": "9mxtpGEJdo6P",
        "outputId": "36cbf81e-08b8-48d2-cb14-cc5a91325e97"
      },
      "execution_count": 6,
      "outputs": [
        {
          "output_type": "stream",
          "name": "stdout",
          "text": [
            "apple\n",
            "banana\n",
            "orage\n"
          ]
        }
      ]
    },
    {
      "cell_type": "markdown",
      "source": [
        "output variables \n"
      ],
      "metadata": {
        "id": "a4SDKc66gNRj"
      }
    },
    {
      "cell_type": "code",
      "source": [
        "x = 5\n",
        "y = \"John\"\n",
        "print(x, y)"
      ],
      "metadata": {
        "colab": {
          "base_uri": "https://localhost:8080/"
        },
        "id": "KR_EzHCUdyVX",
        "outputId": "43442f93-1b2d-446b-c6ef-aada3f457a9a"
      },
      "execution_count": 7,
      "outputs": [
        {
          "output_type": "stream",
          "name": "stdout",
          "text": [
            "5 John\n"
          ]
        }
      ]
    },
    {
      "cell_type": "markdown",
      "source": [
        "Global Variables\n",
        "Variables that are created outside of a function are known as global variables.\n",
        "Global variables can be used by everyone, both inside of functions and outside."
      ],
      "metadata": {
        "id": "xi-D8nXjiW_L"
      }
    },
    {
      "cell_type": "markdown",
      "source": [
        "Strings slicing.\n"
      ],
      "metadata": {
        "id": "0qQNhPrdbi3G"
      }
    },
    {
      "cell_type": "code",
      "execution_count": null,
      "metadata": {
        "id": "Tv9Blup7iaZa"
      },
      "outputs": [],
      "source": []
    }
  ]
}